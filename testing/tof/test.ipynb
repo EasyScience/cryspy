{
 "cells": [
  {
   "cell_type": "code",
   "execution_count": 47,
   "metadata": {},
   "outputs": [],
   "source": [
    "import copy\n",
    "import numpy\n",
    "from numpy import exp, square\n",
    "na = numpy.newaxis\n",
    "imag = numpy.imag\n",
    "import scipy\n",
    "import scipy.special\n",
    "from scipy.special import erfc, exp1\n",
    "import cryspy\n",
    "\n",
    "f_name = \"tof.rcif\"\n",
    "rhochi_obj = cryspy.file_to_globaln(f_name)"
   ]
  },
  {
   "cell_type": "code",
   "execution_count": 2,
   "metadata": {},
   "outputs": [],
   "source": [
    "def calc_y_z_u_v(alpha, beta, sigma, delta_2d):\n",
    "    \"\"\"Calculate y, z, u, v\n",
    "\n",
    "    y = (alpha * sigma**2 + delta)/(sigma * 2**0.5)\n",
    "    z = (beta * sigma**2 - delta)/(sigma * 2**0.5)\n",
    "    u = 0.5 * alpha * (alpha*sigma**2 + 2 delta)\n",
    "    v = 0.5 * beta * (beta*sigma**2 - 2 delta)\n",
    "\n",
    "    \"\"\"\n",
    "    sigma_sq = square(sigma)\n",
    "    y = (alpha * sigma/(2.**0.5))[:, na] + delta_2d/(sigma*2.**0.5)[:, na]\n",
    "    z = (beta * sigma/(2.**0.5))[:, na] - delta_2d/(sigma*2.**0.5)[:, na]\n",
    "    u = (0.5*square(alpha)*sigma_sq)[:, na] + delta_2d*alpha[:, na]\n",
    "    v = (0.5*square(beta)*sigma_sq)[:, na] - delta_2d*beta[:, na]\n",
    "    return y, z, u, v"
   ]
  },
  {
   "cell_type": "code",
   "execution_count": 3,
   "metadata": {},
   "outputs": [],
   "source": [
    "def calc_hpv_eta(h_g, h_l):\n",
    "    \"\"\"pseudo-Voight function\n",
    "    \n",
    "    calculate h_pV and eta based on Gauss and Lorentz Size\n",
    "    \"\"\"\n",
    "    h_g_2, h_l_2 = h_g**2, h_l**2\n",
    "    h_g_3, h_l_3 = h_g_2*h_g, h_l_2*h_l\n",
    "    h_g_4, h_l_4 = h_g_3*h_g, h_l_3*h_l\n",
    "    h_g_5, h_l_5 = h_g_4*h_g, h_l_4*h_l\n",
    "    c_2, c_3, c_4, c_5 = 2.69269, 2.42843, 4.47163, 0.07842\n",
    "    h_pv = (h_g_5 + c_2*h_g_4*h_l + c_3*h_g_3*h_l_2 + \n",
    "            c_4*h_g_2*h_l_3 + c_5*h_g*h_l_4 + h_l_5)**0.2\n",
    "    hh = h_l*1./h_pv\n",
    "    eta = 1.36603*hh - 0.47719*hh**2 + 0.11116*hh**3\n",
    "    return h_pv, eta"
   ]
  },
  {
   "cell_type": "code",
   "execution_count": 11,
   "metadata": {},
   "outputs": [],
   "source": [
    "def calc_sigma_gamma(\n",
    "        d, sigma0, sigma1, sigma2, gamma0, gamma1, gamma2,\n",
    "        size_g: float = 0., size_l: float = 0., strain_g: float = 0.,\n",
    "        strain_l: float = 0.):\n",
    "    \"\"\"Calculate H_G (sigma) and H_L (gamma)\n",
    "    \n",
    "        H_G**2 = (sigma2+size_g)*d**4 + (sigma1+strain_g)*d**2 + sigma0\n",
    "        H_L = (gamma2+size_l)*d**2 + (sigma1+strain_l)*d + sigma0\n",
    "    \"\"\"\n",
    "    d_sq = numpy.square(d)\n",
    "    d_sq_sq = numpy.square(d_sq)\n",
    "\n",
    "    h_g_sq = (sigma2+size_g) * d_sq_sq + (sigma1+strain_l) * d_sq + sigma0\n",
    "    h_l = (gamma2+size_l) * d_sq + (gamma1+strain_l) * d + gamma0\n",
    "    h_g = numpy.sqrt(h_g_sq)\n",
    "    return h_g, h_l"
   ]
  },
  {
   "cell_type": "code",
   "execution_count": 16,
   "metadata": {},
   "outputs": [],
   "source": [
    "\n",
    "def calc_hpv_eta(h_g, h_l):\n",
    "    \"\"\"pseudo-Voight function\n",
    "    \n",
    "    calculate h_pV and eta based on Gauss and Lorentz Size\n",
    "    \"\"\"\n",
    "    h_g_2, h_l_2 = h_g**2, h_l**2\n",
    "    h_g_3, h_l_3 = h_g_2*h_g, h_l_2*h_l\n",
    "    h_g_4, h_l_4 = h_g_3*h_g, h_l_3*h_l\n",
    "    h_g_5, h_l_5 = h_g_4*h_g, h_l_4*h_l\n",
    "    c_2, c_3, c_4, c_5 = 2.69269, 2.42843, 4.47163, 0.07842\n",
    "    h_pv = (h_g_5 + c_2*h_g_4*h_l + c_3*h_g_3*h_l_2 + \n",
    "            c_4*h_g_2*h_l_3 + c_5*h_g*h_l_4 + h_l_5)**0.2\n",
    "    hh = h_l*1./h_pv\n",
    "    eta = 1.36603*hh - 0.47719*hh**2 + 0.11116*hh**3\n",
    "    return h_pv, eta"
   ]
  },
  {
   "cell_type": "code",
   "execution_count": 4,
   "metadata": {},
   "outputs": [],
   "source": [
    "tof_obj = rhochi_obj.tof_tof\n",
    "crystal = rhochi_obj.crystal_cecual\n",
    "tof_meas = tof_obj.tof_meas\n",
    "tof_parameters = tof_obj.tof_parameters\n",
    "tof_profile = tof_obj.tof_profile"
   ]
  },
  {
   "cell_type": "code",
   "execution_count": 5,
   "metadata": {},
   "outputs": [],
   "source": [
    "cell = crystal.cell"
   ]
  },
  {
   "cell_type": "code",
   "execution_count": 6,
   "metadata": {},
   "outputs": [],
   "source": [
    "time = tof_meas.numpy_time\n",
    "d = tof_parameters.calc_d_by_time(time)\n",
    "d_min, d_max = tof_parameters.calc_d_min_max(time)"
   ]
  },
  {
   "cell_type": "code",
   "execution_count": 7,
   "metadata": {},
   "outputs": [],
   "source": [
    "sthovl_min = 0.5/d_max\n",
    "sthovl_max = 0.5/d_min\n",
    "index_h, index_k, index_l, mult = crystal.calc_hkl(sthovl_min, sthovl_max)\n",
    "sthovl_hkl = cell.calc_sthovl(index_h, index_k, index_l)\n",
    "d_hkl = 0.5/sthovl_hkl\n",
    "time_hkl = tof_parameters.calc_time_by_d(d_hkl)"
   ]
  },
  {
   "cell_type": "code",
   "execution_count": 8,
   "metadata": {},
   "outputs": [],
   "source": [
    "np_shape_2d = tof_profile.calc_peak_shape_function(\n",
    "    d, time, time_hkl, size_g=0., strain_g=0.,\n",
    "    size_l=0., strain_l=0.)"
   ]
  },
  {
   "cell_type": "code",
   "execution_count": 9,
   "metadata": {},
   "outputs": [
    {
     "output_type": "execute_result",
     "data": {
      "text/plain": [
       "nan"
      ]
     },
     "metadata": {},
     "execution_count": 9
    }
   ],
   "source": [
    "np_shape_2d.max()"
   ]
  },
  {
   "cell_type": "code",
   "execution_count": 10,
   "metadata": {},
   "outputs": [
    {
     "output_type": "execute_result",
     "data": {
      "text/plain": [
       "False"
      ]
     },
     "metadata": {},
     "execution_count": 10
    }
   ],
   "source": []
  },
  {
   "cell_type": "code",
   "execution_count": 12,
   "metadata": {},
   "outputs": [],
   "source": [
    "alpha = tof_profile.alpha0 + tof_profile.alpha1 / d\n",
    "beta = tof_profile.beta0 + tof_profile.beta1 / d**4\n",
    "sigma, gamma = calc_sigma_gamma(\n",
    "    d, tof_profile.sigma0, tof_profile.sigma1, tof_profile.sigma2, tof_profile.gamma0,\n",
    "    tof_profile.gamma1, tof_profile.gamma2, size_g=0, size_l=0,\n",
    "    strain_g=0, strain_l=0)"
   ]
  },
  {
   "cell_type": "code",
   "execution_count": 20,
   "metadata": {},
   "outputs": [],
   "source": [
    "two_over_pi = 2.*numpy.pi\n",
    "norm = 0.5*alpha*beta/(alpha+beta)\n",
    "time_2d, time_hkl_2d = numpy.meshgrid(time, time_hkl, indexing=\"ij\")\n",
    "delta_2d = time_2d-time_hkl_2d\n",
    "\n",
    "# FIXME: it has to be checked\n",
    "# sigma = gamma*(inv_8ln2)**0.5\n",
    "h_pv, eta = calc_hpv_eta(sigma, gamma)\n",
    "y, z, u, v = calc_y_z_u_v(alpha, beta, sigma, delta_2d) \n",
    "\n",
    "exp_u = exp(u)\n",
    "exp_v = exp(v)\n",
    "exp_u[numpy.isinf(exp_u)] = 1e200\n",
    "exp_v[numpy.isinf(exp_v)] = 1e200\n",
    "\n",
    "profile_g_2d = norm[:, na] * (exp_u * erfc(y) + exp_v * erfc(z))\n"
   ]
  },
  {
   "cell_type": "code",
   "execution_count": 66,
   "metadata": {},
   "outputs": [],
   "source": [
    "delta_sec_2d = copy.deepcopy(delta_2d)\n",
    "delta_sec_2d[delta_2d_sec < -10] = -10\n",
    "delta_sec_2d[delta_2d_sec > 10] = 10"
   ]
  },
  {
   "cell_type": "code",
   "execution_count": 67,
   "metadata": {},
   "outputs": [],
   "source": [
    "z1_2d = alpha[:, na]*delta_sec_2d + (1j*0.5*alpha*gamma)[:, na]\n",
    "z2_2d = -beta[:, na]*delta_sec_2d + (1j*0.5*beta*gamma)[:, na]"
   ]
  },
  {
   "cell_type": "code",
   "execution_count": 68,
   "metadata": {},
   "outputs": [],
   "source": [
    "imag_fz1_2d = imag(exp1(z1_2d))\n",
    "imag_fz2_2d = imag(exp1(z2_2d))\n",
    "# imag_fz1_2d[numpy.isnan(imag_fz1_2d)]=0.\n",
    "# imag_fz1_2d[numpy.isinf(imag_fz1_2d)]=0.\n",
    "# imag_fz1_2d[numpy.isneginf(imag_fz1_2d)]=0.\n",
    "# imag_fz2_2d[numpy.isnan(imag_fz2_2d)]=0.\n",
    "# imag_fz2_2d[numpy.isinf(imag_fz2_2d)]=0.\n",
    "# imag_fz2_2d[numpy.isneginf(imag_fz2_2d)]=0."
   ]
  },
  {
   "cell_type": "code",
   "execution_count": 59,
   "metadata": {},
   "outputs": [],
   "source": [
    "oml_a_2d = -imag_fz1_2d * two_over_pi\n",
    "oml_b_2d = -imag_fz2_2d * two_over_pi\n",
    "profile_l_2d = norm[:, na] * (oml_a_2d + oml_b_2d)"
   ]
  },
  {
   "cell_type": "code",
   "execution_count": 69,
   "metadata": {},
   "outputs": [
    {
     "output_type": "execute_result",
     "data": {
      "text/plain": [
       "-101055.54078529909"
      ]
     },
     "metadata": {},
     "execution_count": 69
    }
   ],
   "source": [
    "profile_l_2d.min()"
   ]
  },
  {
   "cell_type": "code",
   "execution_count": 13,
   "metadata": {},
   "outputs": [],
   "source": [
    "norm = 0.5*alpha*beta/(alpha+beta)\n",
    "time_2d, time_hkl_2d = numpy.meshgrid(time, time_hkl, indexing=\"ij\")\n",
    "delta_2d = time_2d-time_hkl_2d\n",
    "y, z, u, v = calc_y_z_u_v(alpha, beta, sigma, delta_2d)\n",
    "\n",
    "exp_u = exp(u)\n",
    "exp_v = exp(v)\n",
    "exp_u[numpy.isinf(exp_u)] = 1e200\n",
    "exp_v[numpy.isinf(exp_v)] = 1e200\n"
   ]
  },
  {
   "cell_type": "code",
   "execution_count": 14,
   "metadata": {},
   "outputs": [],
   "source": [
    "res_2d = norm[:, na] * (exp_u * erfc(y) + exp_v * erfc(z))\n"
   ]
  },
  {
   "cell_type": "code",
   "execution_count": 15,
   "metadata": {},
   "outputs": [
    {
     "output_type": "execute_result",
     "data": {
      "text/plain": [
       "0.04207780664353558"
      ]
     },
     "metadata": {},
     "execution_count": 15
    }
   ],
   "source": [
    "(exp_u * erfc(y)).max()"
   ]
  },
  {
   "cell_type": "code",
   "execution_count": 16,
   "metadata": {},
   "outputs": [
    {
     "output_type": "execute_result",
     "data": {
      "text/plain": [
       "0.29775157227648913"
      ]
     },
     "metadata": {},
     "execution_count": 16
    }
   ],
   "source": [
    "(exp_v * erfc(z)).max()"
   ]
  },
  {
   "cell_type": "code",
   "execution_count": 17,
   "metadata": {},
   "outputs": [
    {
     "output_type": "execute_result",
     "data": {
      "text/plain": [
       "0.03610976193878971"
      ]
     },
     "metadata": {},
     "execution_count": 17
    }
   ],
   "source": [
    "norm.max()"
   ]
  },
  {
   "cell_type": "code",
   "execution_count": 18,
   "metadata": {},
   "outputs": [
    {
     "output_type": "execute_result",
     "data": {
      "text/plain": [
       "0.010464292574154975"
      ]
     },
     "metadata": {},
     "execution_count": 18
    }
   ],
   "source": [
    "res_2d.max()"
   ]
  },
  {
   "cell_type": "code",
   "execution_count": null,
   "metadata": {},
   "outputs": [],
   "source": []
  }
 ],
 "metadata": {
  "kernelspec": {
   "display_name": "Python 3",
   "language": "python",
   "name": "python3"
  },
  "language_info": {
   "codemirror_mode": {
    "name": "ipython",
    "version": 3
   },
   "file_extension": ".py",
   "mimetype": "text/x-python",
   "name": "python",
   "nbconvert_exporter": "python",
   "pygments_lexer": "ipython3",
   "version": "3.8.3-final"
  }
 },
 "nbformat": 4,
 "nbformat_minor": 4
}