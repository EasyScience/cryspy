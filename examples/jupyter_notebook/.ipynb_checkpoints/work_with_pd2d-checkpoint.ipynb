{
 "cells": [
  {
   "cell_type": "code",
   "execution_count": 1,
   "metadata": {},
   "outputs": [
    {
     "name": "stdout",
     "output_type": "stream",
     "text": [
      "Pd:\n",
      " label: \n",
      " wavelength: 1.400\n",
      " field: 1.000\n",
      " ttheta_min: 0.100\n",
      " ttheta_max: 179.900\n",
      " phi_min: 0.000\n",
      " phi_max: 40.000\n",
      " offset: 0.0\n",
      " chi2_up: False\n",
      " chi2_down: False\n",
      " chi2_sum: True\n",
      " chi2_diff: True\n"
     ]
    }
   ],
   "source": [
    "from neupy import Pd2d\n",
    "import numpy\n",
    "f_1 = \"./full_pd2d.rcif\"\n",
    "with open(f_1, 'r') as fid:\n",
    "    string = fid.read()\n",
    "pd2d = Pd2d()\n",
    "print(pd2d)"
   ]
  },
  {
   "cell_type": "code",
   "execution_count": 2,
   "metadata": {},
   "outputs": [
    {
     "name": "stdout",
     "output_type": "stream",
     "text": [
      "***  Error ***\n",
      "Can not find ';' for multistring variable\n",
      "***  Error ***\n",
      "Can not find ';' for multistring variable\n",
      "Pd:\n",
      " label: Fe3O4\n",
      " wavelength: 0.840\n",
      " field: 1.000\n",
      " ttheta_min: 4.000\n",
      " ttheta_max: 80.000\n",
      " phi_min: -2.000\n",
      " phi_max: 40.000\n",
      " offset: -0.385404\n",
      " chi2_up: False\n",
      " chi2_down: False\n",
      " chi2_sum: True\n",
      " chi2_diff: False\n",
      "\n",
      "Pd2dBackground:\n",
      "           0 \n",
      "\n",
      "Pd2dInstrResolution:\n",
      " p1: 0.0\n",
      " p2: 0.0\n",
      " p3: 0.0\n",
      " p4: 0.0\n",
      "\n",
      "BeamPolarization: \n",
      " polarization: 1.0\n",
      " efficiency: 1.0\n",
      "\n",
      "Pd2dInstrResolution:\n",
      " u: 16.9776\n",
      " v: -2.83572490939\n",
      " w: 0.576309204074\n",
      " x: 0.0\n",
      " y: 0.0\n",
      "\n",
      "Pd2dMeas:\n",
      "\n",
      " ttheta: []\n",
      " phi: []\n",
      "\n",
      " up\n",
      "[]\n",
      "\n",
      " up_sigma\n",
      "[]\n",
      "\n",
      " down\n",
      "[]\n",
      "\n",
      " down_sigma\n",
      "[]\n"
     ]
    }
   ],
   "source": [
    "pd2d.from_cif(string)\n",
    "print(pd2d)"
   ]
  },
  {
   "cell_type": "code",
   "execution_count": 3,
   "metadata": {},
   "outputs": [],
   "source": [
    "import pycifstar\n",
    "cif_global = pycifstar.CIFglobal()"
   ]
  },
  {
   "cell_type": "code",
   "execution_count": 4,
   "metadata": {},
   "outputs": [
    {
     "data": {
      "text/plain": [
       "True"
      ]
     },
     "execution_count": 4,
     "metadata": {},
     "output_type": "execute_result"
    }
   ],
   "source": [
    "cif_global.take_from_string(string)"
   ]
  },
  {
   "cell_type": "code",
   "execution_count": 5,
   "metadata": {},
   "outputs": [
    {
     "data": {
      "text/plain": [
       "_pd2d_background_2theta_phi_intensity \n",
       ";\n",
       "2    4.5     40.0     80.0\n",
       "-3.000 -350.0   -350.0()   -400.0\n",
       "41.000 -350.0   -350.0   -400.0()\n",
       ";"
      ]
     },
     "execution_count": 5,
     "metadata": {},
     "output_type": "execute_result"
    }
   ],
   "source": [
    "cif_global"
   ]
  },
  {
   "cell_type": "code",
   "execution_count": null,
   "metadata": {},
   "outputs": [],
   "source": []
  },
  {
   "cell_type": "code",
   "execution_count": null,
   "metadata": {},
   "outputs": [],
   "source": []
  }
 ],
 "metadata": {
  "kernelspec": {
   "display_name": "Python 3",
   "language": "python",
   "name": "python3"
  },
  "language_info": {
   "codemirror_mode": {
    "name": "ipython",
    "version": 3
   },
   "file_extension": ".py",
   "mimetype": "text/x-python",
   "name": "python",
   "nbconvert_exporter": "python",
   "pygments_lexer": "ipython3",
   "version": "3.7.3"
  }
 },
 "nbformat": 4,
 "nbformat_minor": 2
}
