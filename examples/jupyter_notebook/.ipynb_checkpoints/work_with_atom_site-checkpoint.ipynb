{
 "cells": [
  {
   "cell_type": "markdown",
   "metadata": {},
   "source": [
    "# AtomSite class\n",
    "## Basic operations "
   ]
  },
  {
   "cell_type": "code",
   "execution_count": 6,
   "metadata": {},
   "outputs": [
    {
     "name": "stdout",
     "output_type": "stream",
     "text": [
      "Fitable numpy array [ 20(10) (name: beta)  32(12) (refinement: True)]\n"
     ]
    }
   ],
   "source": [
    "from neupy import Fitable\n",
    "import numpy\n",
    "ff_1 = Fitable(20, 10, name=\"beta\")\n",
    "ff_2 = Fitable(32, 12, True)\n",
    "np_fitable = numpy.array([ff_1, ff_2], dtype=Fitable)\n",
    "print(\"Fitable numpy array\", np_fitable)"
   ]
  },
  {
   "cell_type": "code",
   "execution_count": 7,
   "metadata": {},
   "outputs": [
    {
     "name": "stdout",
     "output_type": "stream",
     "text": [
      "Float numpy array [20. 32.]\n"
     ]
    }
   ],
   "source": [
    "np_float = np_fitable.astype(float)\n",
    "print(\"Float numpy array\", np_float)"
   ]
  },
  {
   "cell_type": "code",
   "execution_count": 8,
   "metadata": {},
   "outputs": [],
   "source": [
    "np_fitable_empty = numpy.array([], dtype=Fitable)\n",
    "print(np_fitable_empty)"
   ]
  },
  {
   "cell_type": "code",
   "execution_count": null,
   "metadata": {},
   "outputs": [],
   "source": []
  }
 ],
 "metadata": {
  "kernelspec": {
   "display_name": "Python 3",
   "language": "python",
   "name": "python3"
  },
  "language_info": {
   "codemirror_mode": {
    "name": "ipython",
    "version": 3
   },
   "file_extension": ".py",
   "mimetype": "text/x-python",
   "name": "python",
   "nbconvert_exporter": "python",
   "pygments_lexer": "ipython3",
   "version": "3.7.3"
  }
 },
 "nbformat": 4,
 "nbformat_minor": 2
}
