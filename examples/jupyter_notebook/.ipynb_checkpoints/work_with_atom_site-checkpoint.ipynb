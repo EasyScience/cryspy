{
 "cells": [
  {
   "cell_type": "markdown",
   "metadata": {},
   "source": [
    "# AtomSite class\n",
    "## Basic operations "
   ]
  },
  {
   "cell_type": "code",
   "execution_count": 1,
   "metadata": {},
   "outputs": [
    {
     "name": "stdout",
     "output_type": "stream",
     "text": [
      "Fitable numpy array [ 20(10) (name: beta)  32(12) (refinement: True)]\n"
     ]
    }
   ],
   "source": [
    "from neupy import Fitable\n",
    "import numpy\n",
    "ff_1 = Fitable(20, 10, name=\"beta\")\n",
    "ff_2 = Fitable(32, 12, True)\n",
    "np_fitable = numpy.array([ff_1, ff_2], dtype=Fitable)\n",
    "print(\"Fitable numpy array\", np_fitable)"
   ]
  },
  {
   "cell_type": "code",
   "execution_count": 2,
   "metadata": {},
   "outputs": [
    {
     "name": "stdout",
     "output_type": "stream",
     "text": [
      "Fitable numpy array [ 87(87) (name: beta)  32(12) (refinement: True)]\n"
     ]
    }
   ],
   "source": [
    "ff_1.value=87\n",
    "ff_1.sigma=87\n",
    "print(\"Fitable numpy array\", np_fitable)"
   ]
  },
  {
   "cell_type": "code",
   "execution_count": 3,
   "metadata": {},
   "outputs": [
    {
     "data": {
      "text/plain": [
       "array([87., 32.])"
      ]
     },
     "execution_count": 3,
     "metadata": {},
     "output_type": "execute_result"
    }
   ],
   "source": [
    "np_fitable_empty = numpy.array([ff_1, ff_2], dtype=float)\n",
    "np_fitable_empty"
   ]
  },
  {
   "cell_type": "markdown",
   "metadata": {},
   "source": [
    "# Operations SpaceGroup"
   ]
  },
  {
   "cell_type": "code",
   "execution_count": 4,
   "metadata": {},
   "outputs": [
    {
     "name": "stdout",
     "output_type": "stream",
     "text": [
      "SpaceGroup:\n",
      " given name: Fd-3m\n",
      " choice: 1\n",
      " name: Fd-3m\n",
      " number: 227\n",
      " inversion center at (-0.125, -0.125, -0.125)\n",
      " x, y, z\n",
      " -x, 0.500-y, 0.500+z\n",
      " 0.500-x, 0.500+y, -z\n",
      " 0.500+x, -y, 0.500-z\n",
      " z, x, y\n",
      " 0.500+z, -x, 0.500-y\n",
      " -z, 0.500-x, 0.500+y\n",
      " 0.500-z, 0.500+x, -y\n",
      " y, z, x\n",
      " 0.500-y, 0.500+z, -x\n",
      " 0.500+y, -z, 0.500-x\n",
      " -y, 0.500-z, 0.500+x\n",
      " 0.750+y, 0.250+x, 0.750-z\n",
      " 0.250-y, 0.250-x, 0.250-z\n",
      " 0.250+y, 0.750-x, 0.750+z\n",
      " 0.750-y, 0.750+x, 0.250+z\n",
      " 0.750+x, 0.250+z, 0.750-y\n",
      " 0.750-x, 0.750+z, 0.250+y\n",
      " 0.250-x, 0.250-z, 0.250-y\n",
      " 0.250+x, 0.750-z, 0.750+y\n",
      " 0.750+z, 0.250+y, 0.750-x\n",
      " 0.250+z, 0.750-y, 0.750+x\n",
      " 0.750-z, 0.750+y, 0.250+x\n",
      " 0.250-z, 0.250-y, 0.250-x\n",
      " directory: 'c:\\users\\ikibalin\\documents\\github\\rhochi\\neupy\\f_crystal'\n"
     ]
    }
   ],
   "source": [
    "from neupy import SpaceGroup\n",
    "spgr = SpaceGroup()\n",
    "spgr.spgr_name=\"Fd-3m\"\n",
    "print(spgr)\n"
   ]
  },
  {
   "cell_type": "code",
   "execution_count": 5,
   "metadata": {},
   "outputs": [
    {
     "name": "stdout",
     "output_type": "stream",
     "text": [
      "SpaceGroup:\n",
      " given name: Fd-3m\n",
      " choice: 2\n",
      " name: Fd-3m\n",
      " number: 227\n",
      " inversion center at (0.000, 0.000, 0.000)\n",
      " x, y, z\n",
      " 0.750-x, 0.250-y, 0.500+z\n",
      " 0.250-x, 0.500+y, 0.750-z\n",
      " 0.500+x, 0.750-y, 0.250-z\n",
      " z, x, y\n",
      " 0.500+z, 0.750-x, 0.250-y\n",
      " 0.750-z, 0.250-x, 0.500+y\n",
      " 0.250-z, 0.500+x, 0.750-y\n",
      " y, z, x\n",
      " 0.250-y, 0.500+z, 0.750-x\n",
      " 0.500+y, 0.750-z, 0.250-x\n",
      " 0.750-y, 0.250-z, 0.500+x\n",
      " 0.750+y, 0.250+x, 0.500-z\n",
      " -y, -x, -z\n",
      " 0.250+y, 0.500-x, 0.750+z\n",
      " 0.500-y, 0.750+x, 0.250+z\n",
      " 0.750+x, 0.250+z, 0.500-y\n",
      " 0.500-x, 0.750+z, 0.250+y\n",
      " -x, -z, -y\n",
      " 0.250+x, 0.500-z, 0.750+y\n",
      " 0.750+z, 0.250+y, 0.500-x\n",
      " 0.250+z, 0.500-y, 0.750+x\n",
      " 0.500-z, 0.750+y, 0.250+x\n",
      " -z, -y, -x\n",
      " directory: 'c:\\users\\ikibalin\\documents\\github\\rhochi\\neupy\\f_crystal'\n"
     ]
    }
   ],
   "source": [
    "spgr.spgr_choice=\"2\"\n",
    "print(spgr)"
   ]
  },
  {
   "cell_type": "code",
   "execution_count": 6,
   "metadata": {},
   "outputs": [],
   "source": [
    "str_1 = \"sqfds\"\n",
    "str_2 = \"'sqfds'\"\n",
    "str_3 = \"\\\"sqfds\\\"\""
   ]
  },
  {
   "cell_type": "code",
   "execution_count": 7,
   "metadata": {},
   "outputs": [
    {
     "name": "stdout",
     "output_type": "stream",
     "text": [
      "sqfds\n"
     ]
    }
   ],
   "source": [
    "print(str_3.strip(\"\\\"\"))"
   ]
  },
  {
   "cell_type": "code",
   "execution_count": 8,
   "metadata": {},
   "outputs": [],
   "source": [
    "from neupy.f_rcif.cl_CIFstring import CIFstring"
   ]
  },
  {
   "cell_type": "code",
   "execution_count": 11,
   "metadata": {},
   "outputs": [
    {
     "name": "stdout",
     "output_type": "stream",
     "text": [
      "_cell_length_c ' sd   19.737(3)' # test\n"
     ]
    }
   ],
   "source": [
    "str_1 = \"        _cell_length_c                 \\\" sd   19.737(3)\\\"  # test\"\n",
    "cif_str_1 = CIFstring()\n",
    "cif_str_1.take_from_string(str_1)\n",
    "print(cif_str_1)"
   ]
  },
  {
   "cell_type": "code",
   "execution_count": 13,
   "metadata": {},
   "outputs": [
    {
     "data": {
      "text/plain": [
       "array([], dtype='<U1')"
      ]
     },
     "execution_count": 13,
     "metadata": {},
     "output_type": "execute_result"
    }
   ],
   "source": [
    "from numpy import dtype, array\n",
    "array([], dtype=str)"
   ]
  }
 ],
 "metadata": {
  "kernelspec": {
   "display_name": "Python 3",
   "language": "python",
   "name": "python3"
  },
  "language_info": {
   "codemirror_mode": {
    "name": "ipython",
    "version": 3
   },
   "file_extension": ".py",
   "mimetype": "text/x-python",
   "name": "python",
   "nbconvert_exporter": "python",
   "pygments_lexer": "ipython3",
   "version": "3.7.3"
  }
 },
 "nbformat": 4,
 "nbformat_minor": 2
}
