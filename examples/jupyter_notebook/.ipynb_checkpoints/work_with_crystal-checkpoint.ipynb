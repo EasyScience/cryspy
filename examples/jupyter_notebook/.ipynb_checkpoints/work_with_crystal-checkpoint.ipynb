{
 "cells": [
  {
   "cell_type": "markdown",
   "metadata": {},
   "source": [
    "# Operations with Cell\n",
    "##  Cell creation"
   ]
  },
  {
   "cell_type": "code",
   "execution_count": 8,
   "metadata": {},
   "outputs": [
    {
     "name": "stdout",
     "output_type": "stream",
     "text": [
      "Cell: \n",
      " a: 6.0 (name: _cell_length_a)\n",
      " b: 9.0 (name: _cell_length_b)\n",
      " c: 8.0 (name: _cell_length_c)\n",
      " alpha: 90.0 (name: _cell_angle_alpha)\n",
      " beta: 90.0 (name: _cell_angle_beta)\n",
      " gamma: 90.0 (name: _cell_angle_gamma)\n",
      " bravais_lattice: Orthorhombic\n",
      " volume: 432.000\n",
      " B matrix is:\n",
      "   0.16667  -0.00000  -0.00000\n",
      "   0.00000   0.11111  -0.00000\n",
      "   0.00000   0.00000   0.12500\n",
      " inversed B matrix is:\n",
      "   6.00000   0.00000   0.00000\n",
      "   0.00000   9.00000   0.00000\n",
      "   0.00000   0.00000   8.00000\n"
     ]
    }
   ],
   "source": [
    "from neupy import Cell, Fitable\n",
    "import numpy\n",
    "cell = Cell(a=6, b=9, c=8, alpha=92, beta=97, gamma=33, bravais_lattice=\"Orthorhombic\")\n",
    "print(cell)"
   ]
  },
  {
   "cell_type": "code",
   "execution_count": 14,
   "metadata": {},
   "outputs": [
    {
     "name": "stdout",
     "output_type": "stream",
     "text": [
      "\n",
      "Access to inversed unit cell is through .ia, .ib, .ic, .ialpha, .ibeta, .igamma\n",
      "  0.16667 0.11111 0.12500 90.00 90.00 90.00\n",
      "\n",
      "Access to B matrix through .m_b:\n",
      " [[ 1.66666667e-01 -1.78680294e-17 -2.01015331e-17]\n",
      " [ 0.00000000e+00  1.11111111e-01 -7.65404249e-18]\n",
      " [ 0.00000000e+00  0.00000000e+00  1.25000000e-01]]\n",
      "\n",
      "Access to inversed B matrix through .m_ib:\n",
      " [[6.0000000e+00 9.6487359e-16 9.6487359e-16]\n",
      " [0.0000000e+00 9.0000000e+00 5.5109106e-16]\n",
      " [0.0000000e+00 0.0000000e+00 8.0000000e+00]]\n"
     ]
    }
   ],
   "source": [
    "print(\"\\nAccess to inversed unit cell is through .ia, .ib, .ic, .ialpha, .ibeta, .igamma:\\n  {:.5f} {:.5f} {:.5f} {:.2f} {:.2f} {:.2f}\".format(\n",
    "    cell.ia, cell.ib, cell.ic, cell.ialpha, cell.ibeta, cell.igamma))\n",
    "print(\"\\nAccess to B matrix is through .m_b:\\n\", cell.m_b)\n",
    "print(\"\\nAccess to inversed B matrix is through .m_ib:\\n\", cell.m_ib)\n"
   ]
  },
  {
   "cell_type": "markdown",
   "metadata": {},
   "source": [
    "## Method .calc_sthovl(...)\n",
    "Default input arguments:\n",
    "h=None, k=None, l=None, hkl=None, l_hkl=None, f_print=False\n",
    "\n",
    "Necessary input:\n",
    "\n",
    "- h, k, l or \n",
    "- hkl or\n",
    "- l_hkl"
   ]
  },
  {
   "cell_type": "code",
   "execution_count": 2,
   "metadata": {},
   "outputs": [
    {
     "name": "stdout",
     "output_type": "stream",
     "text": [
      "    h     k     l     sthovl\n",
      "  1.0  -1.0   2.0    0.16017\n"
     ]
    }
   ],
   "source": [
    "hkl = (1, -1, 2)\n",
    "_ = cell.calc_sthovl(hkl=hkl, f_print=True)"
   ]
  },
  {
   "cell_type": "code",
   "execution_count": 3,
   "metadata": {},
   "outputs": [
    {
     "name": "stdout",
     "output_type": "stream",
     "text": [
      "    h     k     l     sthovl\n",
      "  1.0  -1.0   2.0    0.16017\n",
      "  0.0   0.0   2.0    0.12500\n"
     ]
    }
   ],
   "source": [
    "l_hkl = [(1, -1, 2), (0, 0, 2)]\n",
    "_ = cell.calc_sthovl(l_hkl=l_hkl, f_print=True)"
   ]
  },
  {
   "cell_type": "code",
   "execution_count": 4,
   "metadata": {},
   "outputs": [
    {
     "name": "stdout",
     "output_type": "stream",
     "text": [
      "    h     k     l     sthovl\n",
      "  3.0   0.0   0.0    0.25000\n"
     ]
    }
   ],
   "source": [
    "h, k, l = 3, 0, 0\n",
    "_ = cell.calc_sthovl(h=h, k=k, l=l, f_print=True)"
   ]
  },
  {
   "cell_type": "code",
   "execution_count": 5,
   "metadata": {},
   "outputs": [
    {
     "name": "stdout",
     "output_type": "stream",
     "text": [
      "    h     k     l     sthovl\n",
      "  3.0   0.0   1.0    0.25769\n",
      "  2.0   2.0   1.0    0.20983\n"
     ]
    }
   ],
   "source": [
    "h = numpy.array([3, 2], dtype=int)\n",
    "k = numpy.array([0, 2], dtype=int)\n",
    "l = numpy.array([1, 1], dtype=int)\n",
    "_ = cell.calc_sthovl(h=h, k=k, l=l, f_print=True)"
   ]
  },
  {
   "cell_type": "code",
   "execution_count": 6,
   "metadata": {},
   "outputs": [],
   "source": [
    "cell_2 = Cell()"
   ]
  },
  {
   "cell_type": "code",
   "execution_count": 7,
   "metadata": {},
   "outputs": [
    {
     "data": {
      "text/plain": [
       "True"
      ]
     },
     "execution_count": 7,
     "metadata": {},
     "output_type": "execute_result"
    }
   ],
   "source": [
    "cell_2.is_defined"
   ]
  },
  {
   "cell_type": "code",
   "execution_count": null,
   "metadata": {},
   "outputs": [],
   "source": []
  }
 ],
 "metadata": {
  "kernelspec": {
   "display_name": "Python 3",
   "language": "python",
   "name": "python3"
  },
  "language_info": {
   "codemirror_mode": {
    "name": "ipython",
    "version": 3
   },
   "file_extension": ".py",
   "mimetype": "text/x-python",
   "name": "python",
   "nbconvert_exporter": "python",
   "pygments_lexer": "ipython3",
   "version": "3.7.3"
  }
 },
 "nbformat": 4,
 "nbformat_minor": 2
}
