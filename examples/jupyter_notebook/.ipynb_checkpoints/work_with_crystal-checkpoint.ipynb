{
 "cells": [
  {
   "cell_type": "markdown",
   "metadata": {},
   "source": [
    "# Operations with Cell\n",
    "##  Cell creation"
   ]
  },
  {
   "cell_type": "code",
   "execution_count": 1,
   "metadata": {},
   "outputs": [
    {
     "name": "stdout",
     "output_type": "stream",
     "text": [
      "Cell: \n",
      " a: 7.0 (name: _cell_length_a)\n",
      " b: 9.0 (name: _cell_length_b)\n",
      " c: 8.0 (name: _cell_length_c)\n",
      " alpha: 90.0 (name: _cell_angle_alpha)\n",
      " beta: 90.0 (name: _cell_angle_beta)\n",
      " gamma: 90.0 (name: _cell_angle_gamma)\n",
      " bravais_lattice: orthorhombic\n",
      " volume: 504.000\n",
      " B matrix is:\n",
      "   0.14286  -0.00000  -0.00000\n",
      "   0.00000   0.11111  -0.00000\n",
      "   0.00000   0.00000   0.12500\n",
      " inversed B matrix is:\n",
      "   7.00000   0.00000   0.00000\n",
      "   0.00000   9.00000   0.00000\n",
      "   0.00000   0.00000   8.00000\n"
     ]
    }
   ],
   "source": [
    "from neupy import Cell, Fitable\n",
    "import numpy\n",
    "cell = Cell(a=7, b=9, c=8, alpha=92, beta=97, gamma=33, bravais_lattice=\"Orthorhombic\")\n",
    "print(cell)"
   ]
  },
  {
   "cell_type": "code",
   "execution_count": 12,
   "metadata": {},
   "outputs": [
    {
     "name": "stdout",
     "output_type": "stream",
     "text": [
      "\n",
      "Access to unit cell is through .a, .b, .c, .alpha, .beta, .gamma:\n",
      "  7.0 (name: _cell_length_a) 9.0 (name: _cell_length_b) 8.0 (name: _cell_length_c) 90.0 (name: _cell_angle_alpha) 90.0 (name: _cell_angle_beta) 90.0 (name: _cell_angle_gamma)\n",
      "\n",
      "Access to Bravais lattice is through .bravais_lattice\n",
      " orthorhombic\n",
      "\n",
      "Access to inversed unit cell is through .ia, .ib, .ic, .ialpha, .ibeta, .igamma:\n",
      "  0.14286 0.11111 0.12500 90.00 90.00 90.00\n",
      "\n",
      "Access to B matrix is through .m_b:\n",
      " [[ 1.42857143e-01 -1.78680294e-17 -2.01015331e-17]\n",
      " [ 0.00000000e+00  1.11111111e-01 -7.65404249e-18]\n",
      " [ 0.00000000e+00  0.00000000e+00  1.25000000e-01]]\n",
      "\n",
      "Access to inversed B matrix is through .m_ib:\n",
      " [[7.00000000e+00 1.12568585e-15 1.12568585e-15]\n",
      " [0.00000000e+00 9.00000000e+00 5.51091060e-16]\n",
      " [0.00000000e+00 0.00000000e+00 8.00000000e+00]]\n"
     ]
    }
   ],
   "source": [
    "print(\"\\nAccess to unit cell is through .a, .b, .c, .alpha, .beta, .gamma:\\n  {:.5f} {:.5f} {:.5f} {:.2f} {:.2f} {:.2f}\".format(\n",
    "    float(cell.a), float(cell.b), float(cell.c), float(cell.alpha), float(cell.beta), float(cell.gamma)))\n",
    "print(\"\\nAccess to Bravais lattice is through .bravais_lattice\\n\", cell.bravais_lattice)\n",
    "print(\"\\nAccess to inversed unit cell is through .ia, .ib, .ic, .ialpha, .ibeta, .igamma:\\n  {:.5f} {:.5f} {:.5f} {:.2f} {:.2f} {:.2f}\".format(\n",
    "    cell.ia, cell.ib, cell.ic, cell.ialpha, cell.ibeta, cell.igamma))\n",
    "print(\"\\nAccess to B matrix is through .m_b:\\n\", cell.m_b)\n",
    "print(\"\\nAccess to inversed B matrix is through .m_ib:\\n\", cell.m_ib)\n"
   ]
  },
  {
   "cell_type": "markdown",
   "metadata": {},
   "source": [
    "## Method .calc_sthovl(...)\n",
    "Default input arguments:\n",
    "h=None, k=None, l=None, hkl=None, l_hkl=None, f_print=False\n",
    "\n",
    "Necessary input:\n",
    "\n",
    "- h, k, l or \n",
    "- hkl or\n",
    "- l_hkl"
   ]
  },
  {
   "cell_type": "code",
   "execution_count": 3,
   "metadata": {},
   "outputs": [
    {
     "name": "stdout",
     "output_type": "stream",
     "text": [
      "    h     k     l     sthovl\n",
      "  1.0  -1.0   2.0    0.15432\n"
     ]
    }
   ],
   "source": [
    "hkl = (1, -1, 2)\n",
    "_ = cell.calc_sthovl(hkl=hkl, f_print=True)"
   ]
  },
  {
   "cell_type": "code",
   "execution_count": 4,
   "metadata": {},
   "outputs": [
    {
     "name": "stdout",
     "output_type": "stream",
     "text": [
      "    h     k     l     sthovl\n",
      "  1.0  -1.0   2.0    0.15432\n",
      "  0.0   0.0   2.0    0.12500\n"
     ]
    }
   ],
   "source": [
    "l_hkl = [(1, -1, 2), (0, 0, 2)]\n",
    "_ = cell.calc_sthovl(l_hkl=l_hkl, f_print=True)"
   ]
  },
  {
   "cell_type": "code",
   "execution_count": 5,
   "metadata": {},
   "outputs": [
    {
     "name": "stdout",
     "output_type": "stream",
     "text": [
      "    h     k     l     sthovl\n",
      "  3.0   0.0   0.0    0.21429\n"
     ]
    }
   ],
   "source": [
    "h, k, l = 3, 0, 0\n",
    "_ = cell.calc_sthovl(h=h, k=k, l=l, f_print=True)"
   ]
  },
  {
   "cell_type": "code",
   "execution_count": 6,
   "metadata": {},
   "outputs": [
    {
     "name": "stdout",
     "output_type": "stream",
     "text": [
      "    h     k     l     sthovl\n",
      "  3.0   0.0   1.0    0.22321\n",
      "  2.0   2.0   1.0    0.19147\n"
     ]
    }
   ],
   "source": [
    "h = numpy.array([3, 2], dtype=int)\n",
    "k = numpy.array([0, 2], dtype=int)\n",
    "l = numpy.array([1, 1], dtype=int)\n",
    "_ = cell.calc_sthovl(h=h, k=k, l=l, f_print=True)"
   ]
  },
  {
   "cell_type": "code",
   "execution_count": 7,
   "metadata": {},
   "outputs": [],
   "source": [
    "cell_2 = Cell()"
   ]
  },
  {
   "cell_type": "code",
   "execution_count": 8,
   "metadata": {},
   "outputs": [
    {
     "data": {
      "text/plain": [
       "True"
      ]
     },
     "execution_count": 8,
     "metadata": {},
     "output_type": "execute_result"
    }
   ],
   "source": [
    "cell_2.is_defined"
   ]
  },
  {
   "cell_type": "code",
   "execution_count": 9,
   "metadata": {},
   "outputs": [
    {
     "name": "stdout",
     "output_type": "stream",
     "text": [
      "Help on Cell in module neupy.f_crystal.cl_cell object:\n",
      "\n",
      "class Cell(builtins.object)\n",
      " |  Cell(a=1.0, b=1.0, c=1.0, alpha=90.0, beta=90.0, gamma=90.0, bravais_lattice='triclinic')\n",
      " |  \n",
      " |  Cell parameters\n",
      " |  \n",
      " |  Methods defined here:\n",
      " |  \n",
      " |  __init__(self, a=1.0, b=1.0, c=1.0, alpha=90.0, beta=90.0, gamma=90.0, bravais_lattice='triclinic')\n",
      " |      Initialize self.  See help(type(self)) for accurate signature.\n",
      " |  \n",
      " |  __repr__(self)\n",
      " |      Return repr(self).\n",
      " |  \n",
      " |  apply_constraint(self)\n",
      " |  \n",
      " |  calc_hkl(self, space_group, sthovl_min, sthovl_max)\n",
      " |      give a list of reflections hkl for cell in the range sthovl_min, sthovl_max\n",
      " |  \n",
      " |  calc_hkl_in_range(self, sthovl_min, sthovl_max)\n",
      " |  \n",
      " |  calc_k_loc(self, h, k, l)\n",
      " |      calculate unity scattering vector\n",
      " |  \n",
      " |  calc_m_t(self, h, k, l)\n",
      " |      define rotation matrix to have new z axis along kloc\n",
      " |      Rotation matrix is defined by Euler angles\n",
      " |  \n",
      " |  calc_sthovl(self, h=None, k=None, l=None, hkl=None, l_hkl=None, f_print=False)\n",
      " |      calculate sin(theta)/lambda for list of hkl reflections\n",
      " |  \n",
      " |  get_variables(self)\n",
      " |  \n",
      " |  message(self, s_out: str)\n",
      " |  \n",
      " |  ----------------------------------------------------------------------\n",
      " |  Data descriptors defined here:\n",
      " |  \n",
      " |  __dict__\n",
      " |      dictionary for instance variables (if defined)\n",
      " |  \n",
      " |  __weakref__\n",
      " |      list of weak references to the object (if defined)\n",
      " |  \n",
      " |  a\n",
      " |      Unit-cell lengths in angstroms corresponding to the structure\n",
      " |      reported. \n",
      " |      The permitted range is 0.0 -> infinity\n",
      " |      \n",
      " |      reference: https://www.iucr.org/__data/iucr/cifdic_html/1/cif_core.dic/Icell_length_.html\n",
      " |  \n",
      " |  alpha\n",
      " |      Unit-cell angles of the reported structure in degrees.\n",
      " |      The permitted range is 0.0 -> 180.0 \n",
      " |      Enumeration default: 90.0\n",
      " |      \n",
      " |      reference: https://www.iucr.org/__data/iucr/cifdic_html/1/cif_core.dic/Icell_angle_.html\n",
      " |  \n",
      " |  b\n",
      " |      Unit-cell lengths in angstroms corresponding to the structure\n",
      " |      reported. \n",
      " |      The permitted range is 0.0 -> infinity\n",
      " |      \n",
      " |      reference: https://www.iucr.org/__data/iucr/cifdic_html/1/cif_core.dic/Icell_length_.html\n",
      " |  \n",
      " |  beta\n",
      " |      Unit-cell angles of the reported structure in degrees.\n",
      " |      The permitted range is 0.0 -> 180.0 \n",
      " |      Enumeration default: 90.0\n",
      " |      \n",
      " |      reference: https://www.iucr.org/__data/iucr/cifdic_html/1/cif_core.dic/Icell_angle_.html\n",
      " |  \n",
      " |  bravais_lattice\n",
      " |      The cell settings for this space-group symmetry.\n",
      " |      \n",
      " |      The data value must be one of the following:\n",
      " |      \n",
      " |      triclinic       \n",
      " |      monoclinic      \n",
      " |      orthorhombic    \n",
      " |      tetragonal      \n",
      " |      rhombohedral    \n",
      " |      trigonal        \n",
      " |      hexagonal       \n",
      " |      cubic\n",
      " |      \n",
      " |      reference: https://www.iucr.org/__data/iucr/cifdic_html/1/cif_core.dic/Isymmetry_cell_setting.html\n",
      " |  \n",
      " |  c\n",
      " |      Unit-cell lengths in angstroms corresponding to the structure\n",
      " |      reported. \n",
      " |      The permitted range is 0.0 -> infinity\n",
      " |      \n",
      " |      reference: https://www.iucr.org/__data/iucr/cifdic_html/1/cif_core.dic/Icell_length_.html\n",
      " |  \n",
      " |  gamma\n",
      " |      Unit-cell angles of the reported structure in degrees.\n",
      " |      The permitted range is 0.0 -> 180.0 \n",
      " |      Enumeration default: 90.0\n",
      " |      \n",
      " |      reference: https://www.iucr.org/__data/iucr/cifdic_html/1/cif_core.dic/Icell_angle_.html\n",
      " |  \n",
      " |  ia\n",
      " |      The reciprocal-cell lengths in inverse angstroms.  These are\n",
      " |      related to the real cell by:\n",
      " |      \n",
      " |      recip-a = b*c*sin(alpha)/V\n",
      " |      recip-b = c*a*sin(beta)/V\n",
      " |      recip-c = a*b*sin(gamma)/V\n",
      " |      \n",
      " |      where V is the cell volume.\n",
      " |      \n",
      " |      Ref: Buerger, M. J. (1942). X-ray Crystallography, p. 360.\n",
      " |         New York: John Wiley & Sons Inc.\n",
      " |      \n",
      " |      The permitted range is 0.0 -> infinity\n",
      " |      \n",
      " |      reference: https://www.iucr.org/__data/iucr/cifdic_html/1/cif_core.dic/Icell_reciprocal_length_.html\n",
      " |  \n",
      " |  ialpha\n",
      " |      The angles defining the reciprocal cell in degrees. These\n",
      " |      are related to those in the real cell by:\n",
      " |      \n",
      " |      cos(recip-alpha)\n",
      " |        = [cos(beta)*cos(gamma) - cos(alpha)]/[sin(beta)*sin(gamma)]\n",
      " |      \n",
      " |      cos(recip-beta)\n",
      " |        = [cos(gamma)*cos(alpha) - cos(beta)]/[sin(gamma)*sin(alpha)]\n",
      " |      \n",
      " |      cos(recip-gamma)\n",
      " |       = [cos(alpha)*cos(beta) - cos(gamma)]/[sin(alpha)*sin(beta)]\n",
      " |      \n",
      " |      Ref: Buerger, M. J. (1942). X-ray Crystallography, p. 360.\n",
      " |         New York: John Wiley & Sons Inc.\n",
      " |      \n",
      " |      The permitted range is 0.0 -> 180.0 \n",
      " |      Enumeration default: 90.0\n",
      " |      \n",
      " |      reference: https://www.iucr.org/__data/iucr/cifdic_html/1/cif_core.dic/Icell_reciprocal_angle_.html\n",
      " |  \n",
      " |  ib\n",
      " |      The reciprocal-cell lengths in inverse angstroms.  These are\n",
      " |      related to the real cell by:\n",
      " |      \n",
      " |      recip-a = b*c*sin(alpha)/V\n",
      " |      recip-b = c*a*sin(beta)/V\n",
      " |      recip-c = a*b*sin(gamma)/V\n",
      " |      \n",
      " |      where V is the cell volume.\n",
      " |      \n",
      " |      Ref: Buerger, M. J. (1942). X-ray Crystallography, p. 360.\n",
      " |         New York: John Wiley & Sons Inc.\n",
      " |      \n",
      " |      The permitted range is 0.0 -> infinity\n",
      " |      \n",
      " |      reference: https://www.iucr.org/__data/iucr/cifdic_html/1/cif_core.dic/Icell_reciprocal_length_.html\n",
      " |  \n",
      " |  ibeta\n",
      " |      The angles defining the reciprocal cell in degrees. These\n",
      " |      are related to those in the real cell by:\n",
      " |      \n",
      " |      cos(recip-alpha)\n",
      " |        = [cos(beta)*cos(gamma) - cos(alpha)]/[sin(beta)*sin(gamma)]\n",
      " |      \n",
      " |      cos(recip-beta)\n",
      " |        = [cos(gamma)*cos(alpha) - cos(beta)]/[sin(gamma)*sin(alpha)]\n",
      " |      \n",
      " |      cos(recip-gamma)\n",
      " |       = [cos(alpha)*cos(beta) - cos(gamma)]/[sin(alpha)*sin(beta)]\n",
      " |      \n",
      " |      Ref: Buerger, M. J. (1942). X-ray Crystallography, p. 360.\n",
      " |         New York: John Wiley & Sons Inc.\n",
      " |      \n",
      " |      The permitted range is 0.0 -> 180.0 \n",
      " |      Enumeration default: 90.0\n",
      " |      \n",
      " |      reference: https://www.iucr.org/__data/iucr/cifdic_html/1/cif_core.dic/Icell_reciprocal_angle_.html\n",
      " |  \n",
      " |  ic\n",
      " |      The reciprocal-cell lengths in inverse angstroms.  These are\n",
      " |      related to the real cell by:\n",
      " |      \n",
      " |      recip-a = b*c*sin(alpha)/V\n",
      " |      recip-b = c*a*sin(beta)/V\n",
      " |      recip-c = a*b*sin(gamma)/V\n",
      " |      \n",
      " |      where V is the cell volume.\n",
      " |      \n",
      " |      Ref: Buerger, M. J. (1942). X-ray Crystallography, p. 360.\n",
      " |         New York: John Wiley & Sons Inc.\n",
      " |      \n",
      " |      The permitted range is 0.0 -> infinity\n",
      " |      \n",
      " |      reference: https://www.iucr.org/__data/iucr/cifdic_html/1/cif_core.dic/Icell_reciprocal_length_.html\n",
      " |  \n",
      " |  igamma\n",
      " |      The angles defining the reciprocal cell in degrees. These\n",
      " |      are related to those in the real cell by:\n",
      " |      \n",
      " |      cos(recip-alpha)\n",
      " |        = [cos(beta)*cos(gamma) - cos(alpha)]/[sin(beta)*sin(gamma)]\n",
      " |      \n",
      " |      cos(recip-beta)\n",
      " |        = [cos(gamma)*cos(alpha) - cos(beta)]/[sin(gamma)*sin(alpha)]\n",
      " |      \n",
      " |      cos(recip-gamma)\n",
      " |       = [cos(alpha)*cos(beta) - cos(gamma)]/[sin(alpha)*sin(beta)]\n",
      " |      \n",
      " |      Ref: Buerger, M. J. (1942). X-ray Crystallography, p. 360.\n",
      " |         New York: John Wiley & Sons Inc.\n",
      " |      \n",
      " |      The permitted range is 0.0 -> 180.0 \n",
      " |      Enumeration default: 90.0\n",
      " |      \n",
      " |      reference: https://www.iucr.org/__data/iucr/cifdic_html/1/cif_core.dic/Icell_reciprocal_angle_.html\n",
      " |  \n",
      " |  is_defined\n",
      " |  \n",
      " |  is_variable\n",
      " |      without extinction\n",
      " |  \n",
      " |  ivolume\n",
      " |  \n",
      " |  m_b\n",
      " |  \n",
      " |  m_ib\n",
      " |  \n",
      " |  volume\n",
      " |      Cell volume V in angstroms cubed.\n",
      " |      \n",
      " |      V = a b c [1 - cos^2^(alpha) - cos^2^(beta) - cos^2^(gamma)\n",
      " |             + 2 cos(alpha) cos(beta) cos(gamma) ] ^1/2^\n",
      " |      \n",
      " |      The permitted range is 0.0 -> infinity\n",
      " |      \n",
      " |      reference: https://www.iucr.org/__data/iucr/cifdic_html/1/cif_core.dic/Icell_volume.html\n",
      "\n"
     ]
    }
   ],
   "source": [
    "help(cell)"
   ]
  }
 ],
 "metadata": {
  "kernelspec": {
   "display_name": "Python 3",
   "language": "python",
   "name": "python3"
  },
  "language_info": {
   "codemirror_mode": {
    "name": "ipython",
    "version": 3
   },
   "file_extension": ".py",
   "mimetype": "text/x-python",
   "name": "python",
   "nbconvert_exporter": "python",
   "pygments_lexer": "ipython3",
   "version": "3.7.3"
  }
 },
 "nbformat": 4,
 "nbformat_minor": 2
}
