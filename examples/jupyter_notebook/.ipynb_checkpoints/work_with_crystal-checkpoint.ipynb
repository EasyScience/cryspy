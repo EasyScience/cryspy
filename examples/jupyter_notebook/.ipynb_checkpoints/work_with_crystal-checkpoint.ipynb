{
 "cells": [
  {
   "cell_type": "markdown",
   "metadata": {},
   "source": [
    "# Cell object\n",
    "## Load from cif"
   ]
  },
  {
   "cell_type": "code",
   "execution_count": 1,
   "metadata": {},
   "outputs": [
    {
     "data": {
      "text/plain": [
       "True"
      ]
     },
     "execution_count": 1,
     "metadata": {},
     "output_type": "execute_result"
    }
   ],
   "source": [
    "from neupy import Crystal, Fitable\n",
    "import pystar\n",
    "f_name = \"full.rcif\"\n",
    "fid = open(f_name, \"r\")\n",
    "cif_1 = fid.read()\n",
    "fid.close()\n",
    "\n",
    "crystal = Crystal()\n",
    "\n",
    "crystal.from_cif(cif_1)"
   ]
  },
  {
   "cell_type": "code",
   "execution_count": 2,
   "metadata": {},
   "outputs": [
    {
     "name": "stdout",
     "output_type": "stream",
     "text": [
      "Crystal:\n",
      "label: Fe3O4\n",
      "\n",
      "Cell: \n",
      " a: 8.56212() (name: _cell_length_a, refinement: True)\n",
      " b: 8.56212 (name: _cell_length_b)\n",
      " c: 8.56212 (name: _cell_length_c)\n",
      " alpha: 90.0 (name: _cell_angle_alpha)\n",
      " beta: 90.0 (name: _cell_angle_beta)\n",
      " gamma: 90.0 (name: _cell_angle_gamma)\n",
      " bravais_lattice: cubic\n",
      " volume: 627.688\n",
      " B matrix is:\n",
      "   0.11679  -0.00000  -0.00000\n",
      "   0.00000   0.11679  -0.00000\n",
      "   0.00000   0.00000   0.11679\n",
      " inversed B matrix is:\n",
      "   8.56212   0.00000   0.00000\n",
      "   0.00000   8.56212   0.00000\n",
      "   0.00000   0.00000   8.56212\n",
      "\n",
      "SpaceGroup:\n",
      " given name: Fd-3m\n",
      " choice: 2\n",
      " name: Fd-3m\n",
      " number: 227\n",
      " inversion center at (0.000, 0.000, 0.000)\n",
      " x, y, z\n",
      " 0.750-x, 0.250-y, 0.500+z\n",
      " 0.250-x, 0.500+y, 0.750-z\n",
      " 0.500+x, 0.750-y, 0.250-z\n",
      " z, x, y\n",
      " 0.500+z, 0.750-x, 0.250-y\n",
      " 0.750-z, 0.250-x, 0.500+y\n",
      " 0.250-z, 0.500+x, 0.750-y\n",
      " y, z, x\n",
      " 0.250-y, 0.500+z, 0.750-x\n",
      " 0.500+y, 0.750-z, 0.250-x\n",
      " 0.750-y, 0.250-z, 0.500+x\n",
      " 0.750+y, 0.250+x, 0.500-z\n",
      " -y, -x, -z\n",
      " 0.250+y, 0.500-x, 0.750+z\n",
      " 0.500-y, 0.750+x, 0.250+z\n",
      " 0.750+x, 0.250+z, 0.500-y\n",
      " 0.500-x, 0.750+z, 0.250+y\n",
      " -x, -z, -y\n",
      " 0.250+x, 0.500-z, 0.750+y\n",
      " 0.750+z, 0.250+y, 0.500-x\n",
      " 0.250+z, 0.500-y, 0.750+x\n",
      " 0.500-z, 0.750+y, 0.250+x\n",
      " -z, -y, -x\n",
      " directory: 'c:\\users\\ikibalin\\documents\\github\\rhochi\\neupy\\f_crystal'\n",
      "\n",
      "AtomSite:\n",
      " label type_symbol x        y        z        adp_type b_iso    occupancy\n",
      " Fe3A     Fe3+     0.125    0.125    0.125    uani     0.0      1.0     \n",
      " Fe3B     Fe3+     0.5      0.5      0.5      uani     0.0      1.0     \n",
      " O1       O2-      0.25521  0.25521  0.25521  uiso     0.0      1.0     \n",
      "\n",
      "AtomSiteAniso:\n",
      " label    u_11     u_22     u_33     u_12     u_13     u_23    \n",
      " Fe3A     0.0      0.0      0.0      0.0      0.0      0.0     \n",
      " Fe3B     0.0      0.0      0.0      0.0      0.0      0.0     \n",
      "\n",
      "AtomSiteMagnetism:\n",
      " label    kappa    lande   \n",
      " Fe3A     1.0()    2.0     \n",
      " Fe3B     1.0      2.0()   \n",
      "\n",
      "AtomSiteMagnetismAniso:\n",
      " label    chi_type chi_11   chi_22   chi_33   chi_12   chi_13   chi_23   \n",
      " Fe3A     cani     -3.468() -3.468   -3.468   0.0      0.0      0.0     \n",
      " Fe3B     cani     3.041    3.041    3.041    0.0      0.0      0.0     \n",
      "\n"
     ]
    }
   ],
   "source": [
    "print(crystal)"
   ]
  },
  {
   "cell_type": "markdown",
   "metadata": {
    "scrolled": true
   },
   "source": [
    "## Print to cif"
   ]
  },
  {
   "cell_type": "code",
   "execution_count": 14,
   "metadata": {},
   "outputs": [
    {
     "data": {
      "text/plain": [
       "Crystal:\n",
       "label: Fe3O4\n",
       "\n",
       "Cell: \n",
       " a: 7.0() (name: _cell_length_a, refinement: True)\n",
       " b: 8.56212 (name: _cell_length_b)\n",
       " c: 8.56212 (name: _cell_length_c)\n",
       " alpha: 90.0 (name: _cell_angle_alpha)\n",
       " beta: 90.0 (name: _cell_angle_beta)\n",
       " gamma: 90.0 (name: _cell_angle_gamma)\n",
       " bravais_lattice: cubic\n",
       " volume: 627.688\n",
       " B matrix is:\n",
       "   0.11679  -0.00000  -0.00000\n",
       "   0.00000   0.11679  -0.00000\n",
       "   0.00000   0.00000   0.11679\n",
       " inversed B matrix is:\n",
       "   8.56212   0.00000   0.00000\n",
       "   0.00000   8.56212   0.00000\n",
       "   0.00000   0.00000   8.56212\n",
       "\n",
       "SpaceGroup:\n",
       " given name: Fd-3m\n",
       " choice: 2\n",
       " name: Fd-3m\n",
       " number: 227\n",
       " inversion center at (0.000, 0.000, 0.000)\n",
       " x, y, z\n",
       " 0.750-x, 0.250-y, 0.500+z\n",
       " 0.250-x, 0.500+y, 0.750-z\n",
       " 0.500+x, 0.750-y, 0.250-z\n",
       " z, x, y\n",
       " 0.500+z, 0.750-x, 0.250-y\n",
       " 0.750-z, 0.250-x, 0.500+y\n",
       " 0.250-z, 0.500+x, 0.750-y\n",
       " y, z, x\n",
       " 0.250-y, 0.500+z, 0.750-x\n",
       " 0.500+y, 0.750-z, 0.250-x\n",
       " 0.750-y, 0.250-z, 0.500+x\n",
       " 0.750+y, 0.250+x, 0.500-z\n",
       " -y, -x, -z\n",
       " 0.250+y, 0.500-x, 0.750+z\n",
       " 0.500-y, 0.750+x, 0.250+z\n",
       " 0.750+x, 0.250+z, 0.500-y\n",
       " 0.500-x, 0.750+z, 0.250+y\n",
       " -x, -z, -y\n",
       " 0.250+x, 0.500-z, 0.750+y\n",
       " 0.750+z, 0.250+y, 0.500-x\n",
       " 0.250+z, 0.500-y, 0.750+x\n",
       " 0.500-z, 0.750+y, 0.250+x\n",
       " -z, -y, -x\n",
       " directory: 'c:\\users\\ikibalin\\documents\\github\\rhochi\\neupy\\f_crystal'\n",
       "\n",
       "AtomSite:\n",
       " label type_symbol x        y        z        adp_type b_iso    occupancy\n",
       " Fe3A     Fe3+     0.2()    0.125    0.125    uani     0.0      1.0     \n",
       " Fe3B     Fe3+     0.5      0.5      0.5      uani     0.0      1.0     \n",
       " O1       O2-      0.25521  0.25521  0.25521  uiso     0.0      1.0     \n",
       "\n",
       "AtomSiteAniso:\n",
       " label    u_11     u_22     u_33     u_12     u_13     u_23    \n",
       " Fe3A     0.0      0.0      0.0      0.0      0.0      0.0     \n",
       " Fe3B     0.0      0.0      0.0      0.0      0.0      0.0     \n",
       "\n",
       "AtomSiteMagnetism:\n",
       " label    kappa    lande   \n",
       " Fe3A     1.0()    2.0     \n",
       " Fe3B     1.0      2.0()   \n",
       "\n",
       "AtomSiteMagnetismAniso:\n",
       " label    chi_type chi_11   chi_22   chi_33   chi_12   chi_13   chi_23   \n",
       " Fe3A     cani     -3.468() -3.468   -3.468   0.0      0.0      0.0     \n",
       " Fe3B     cani     3.041    3.041    3.041    0.0      0.0      0.0     "
      ]
     },
     "execution_count": 14,
     "metadata": {},
     "output_type": "execute_result"
    }
   ],
   "source": [
    "crystal"
   ]
  },
  {
   "cell_type": "code",
   "execution_count": 4,
   "metadata": {},
   "outputs": [],
   "source": [
    "crystal.atom_site.x[0].value = \"0.2\"\n",
    "crystal.atom_site.x[0].refinement = True"
   ]
  },
  {
   "cell_type": "code",
   "execution_count": 5,
   "metadata": {},
   "outputs": [
    {
     "name": "stdout",
     "output_type": "stream",
     "text": [
      "Crystal:\n",
      "label: Fe3O4\n",
      "\n",
      "Cell: \n",
      " a: 8.56212() (name: _cell_length_a, refinement: True)\n",
      " b: 8.56212 (name: _cell_length_b)\n",
      " c: 8.56212 (name: _cell_length_c)\n",
      " alpha: 90.0 (name: _cell_angle_alpha)\n",
      " beta: 90.0 (name: _cell_angle_beta)\n",
      " gamma: 90.0 (name: _cell_angle_gamma)\n",
      " bravais_lattice: cubic\n",
      " volume: 627.688\n",
      " B matrix is:\n",
      "   0.11679  -0.00000  -0.00000\n",
      "   0.00000   0.11679  -0.00000\n",
      "   0.00000   0.00000   0.11679\n",
      " inversed B matrix is:\n",
      "   8.56212   0.00000   0.00000\n",
      "   0.00000   8.56212   0.00000\n",
      "   0.00000   0.00000   8.56212\n",
      "\n",
      "SpaceGroup:\n",
      " given name: Fd-3m\n",
      " choice: 2\n",
      " name: Fd-3m\n",
      " number: 227\n",
      " inversion center at (0.000, 0.000, 0.000)\n",
      " x, y, z\n",
      " 0.750-x, 0.250-y, 0.500+z\n",
      " 0.250-x, 0.500+y, 0.750-z\n",
      " 0.500+x, 0.750-y, 0.250-z\n",
      " z, x, y\n",
      " 0.500+z, 0.750-x, 0.250-y\n",
      " 0.750-z, 0.250-x, 0.500+y\n",
      " 0.250-z, 0.500+x, 0.750-y\n",
      " y, z, x\n",
      " 0.250-y, 0.500+z, 0.750-x\n",
      " 0.500+y, 0.750-z, 0.250-x\n",
      " 0.750-y, 0.250-z, 0.500+x\n",
      " 0.750+y, 0.250+x, 0.500-z\n",
      " -y, -x, -z\n",
      " 0.250+y, 0.500-x, 0.750+z\n",
      " 0.500-y, 0.750+x, 0.250+z\n",
      " 0.750+x, 0.250+z, 0.500-y\n",
      " 0.500-x, 0.750+z, 0.250+y\n",
      " -x, -z, -y\n",
      " 0.250+x, 0.500-z, 0.750+y\n",
      " 0.750+z, 0.250+y, 0.500-x\n",
      " 0.250+z, 0.500-y, 0.750+x\n",
      " 0.500-z, 0.750+y, 0.250+x\n",
      " -z, -y, -x\n",
      " directory: 'c:\\users\\ikibalin\\documents\\github\\rhochi\\neupy\\f_crystal'\n",
      "\n",
      "AtomSite:\n",
      " label type_symbol x        y        z        adp_type b_iso    occupancy\n",
      " Fe3A     Fe3+     0.2()    0.125    0.125    uani     0.0      1.0     \n",
      " Fe3B     Fe3+     0.5      0.5      0.5      uani     0.0      1.0     \n",
      " O1       O2-      0.25521  0.25521  0.25521  uiso     0.0      1.0     \n",
      "\n",
      "AtomSiteAniso:\n",
      " label    u_11     u_22     u_33     u_12     u_13     u_23    \n",
      " Fe3A     0.0      0.0      0.0      0.0      0.0      0.0     \n",
      " Fe3B     0.0      0.0      0.0      0.0      0.0      0.0     \n",
      "\n",
      "AtomSiteMagnetism:\n",
      " label    kappa    lande   \n",
      " Fe3A     1.0()    2.0     \n",
      " Fe3B     1.0      2.0()   \n",
      "\n",
      "AtomSiteMagnetismAniso:\n",
      " label    chi_type chi_11   chi_22   chi_33   chi_12   chi_13   chi_23   \n",
      " Fe3A     cani     -3.468() -3.468   -3.468   0.0      0.0      0.0     \n",
      " Fe3B     cani     3.041    3.041    3.041    0.0      0.0      0.0     \n",
      "\n"
     ]
    }
   ],
   "source": [
    "print(crystal)"
   ]
  },
  {
   "cell_type": "code",
   "execution_count": 6,
   "metadata": {},
   "outputs": [
    {
     "name": "stdout",
     "output_type": "stream",
     "text": [
      "[8.56212() (name: _cell_length_a, refinement: True), 0.2() (name: _atom_site_fract_x, refinement: True), 2.0() (name: _atom_site_magnetism_lande, refinement: True), 1.0() (name: _atom_site_magnetism_kappa, refinement: True), -3.468() (name: _atom_site_magnetism_aniso_chi_11, refinement: True)]\n"
     ]
    }
   ],
   "source": [
    "l_fitable = crystal.get_variables()\n",
    "print(l_fitable)"
   ]
  },
  {
   "cell_type": "code",
   "execution_count": 22,
   "metadata": {},
   "outputs": [
    {
     "data": {
      "text/plain": [
       "'dsg'"
      ]
     },
     "execution_count": 22,
     "metadata": {},
     "output_type": "execute_result"
    }
   ],
   "source": [
    "str_1 = \"dsgA\"\n",
    "\"\".join([hh if hh.isalpha() else ' ' for hh in str_1 ]).split(\" \")[0]"
   ]
  }
 ],
 "metadata": {
  "kernelspec": {
   "display_name": "Python 3",
   "language": "python",
   "name": "python3"
  },
  "language_info": {
   "codemirror_mode": {
    "name": "ipython",
    "version": 3
   },
   "file_extension": ".py",
   "mimetype": "text/x-python",
   "name": "python",
   "nbconvert_exporter": "python",
   "pygments_lexer": "ipython3",
   "version": "3.7.3"
  }
 },
 "nbformat": 4,
 "nbformat_minor": 2
}
