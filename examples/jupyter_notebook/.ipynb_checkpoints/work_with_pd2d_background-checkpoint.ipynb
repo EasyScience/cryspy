{
 "cells": [
  {
   "cell_type": "code",
   "execution_count": 1,
   "metadata": {},
   "outputs": [
    {
     "name": "stdout",
     "output_type": "stream",
     "text": [
      "Pd2dBackground:\n",
      "           0 \n"
     ]
    }
   ],
   "source": [
    "from neupy import Pd2dBackground\n",
    "import numpy\n",
    "f_1 = \"./full_pd2d.rcif\"\n",
    "with open(f_1, 'r') as fid:\n",
    "    string = fid.read()\n",
    "pd2d_background = Pd2dBackground()\n",
    "print(pd2d_background)"
   ]
  },
  {
   "cell_type": "code",
   "execution_count": 2,
   "metadata": {},
   "outputs": [
    {
     "name": "stdout",
     "output_type": "stream",
     "text": [
      "Pd2dBackground:\n",
      "           2   4.50        40.00        80.00      \n",
      "       -3.00 -350.0       -350.0()     -400.0      \n",
      "       41.00 -350.0       -350.0       -400.0()    \n"
     ]
    }
   ],
   "source": [
    "pd2d_background.from_cif(string)\n",
    "print(pd2d_background)"
   ]
  },
  {
   "cell_type": "code",
   "execution_count": 3,
   "metadata": {},
   "outputs": [
    {
     "name": "stdout",
     "output_type": "stream",
     "text": [
      "_pd2d_background_2theta_phi_intensity\n",
      ";\n",
      "           2   4.50        40.00        80.00      \n",
      "       -3.00 -350.0       -350.0()     -400.0      \n",
      "       41.00 -350.0       -350.0       -400.0()    \n",
      ";\n"
     ]
    }
   ],
   "source": [
    "print(pd2d_background.to_cif)"
   ]
  },
  {
   "cell_type": "code",
   "execution_count": 6,
   "metadata": {},
   "outputs": [
    {
     "name": "stdout",
     "output_type": "stream",
     "text": [
      "[[1. 3.]\n",
      " [7. 9.]]\n"
     ]
    }
   ],
   "source": [
    "from neupy import Pd2dMeas\n",
    "import numpy\n",
    "f_1 = \"./full_pd2d.dat\"\n",
    "with open(f_1, 'r') as fid:\n",
    "    string = fid.read()\n",
    "pd2d_meas = Pd2dMeas()\n",
    "print(pd2d_meas)"
   ]
  },
  {
   "cell_type": "code",
   "execution_count": 8,
   "metadata": {},
   "outputs": [
    {
     "name": "stdout",
     "output_type": "stream",
     "text": [
      "[[1. 3.]\n",
      " [7. 9.]]\n"
     ]
    }
   ],
   "source": [
    "pd2d_meas.from_cif(string)\n",
    "print(pd2d_meas)"
   ]
  },
  {
   "cell_type": "code",
   "execution_count": null,
   "metadata": {},
   "outputs": [],
   "source": []
  }
 ],
 "metadata": {
  "kernelspec": {
   "display_name": "Python 3",
   "language": "python",
   "name": "python3"
  },
  "language_info": {
   "codemirror_mode": {
    "name": "ipython",
    "version": 3
   },
   "file_extension": ".py",
   "mimetype": "text/x-python",
   "name": "python",
   "nbconvert_exporter": "python",
   "pygments_lexer": "ipython3",
   "version": "3.7.3"
  }
 },
 "nbformat": 4,
 "nbformat_minor": 2
}
