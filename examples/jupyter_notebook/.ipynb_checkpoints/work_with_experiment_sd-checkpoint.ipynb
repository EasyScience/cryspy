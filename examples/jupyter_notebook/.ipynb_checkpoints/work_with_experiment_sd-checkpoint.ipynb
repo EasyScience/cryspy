{
 "cells": [
  {
   "cell_type": "markdown",
   "metadata": {},
   "source": [
    "# Single diffraction experiment object\n",
    "## Load from cif"
   ]
  },
  {
   "cell_type": "code",
   "execution_count": 1,
   "metadata": {},
   "outputs": [
    {
     "ename": "AttributeError",
     "evalue": "'NoneType' object has no attribute 'occupancy'",
     "output_type": "error",
     "traceback": [
      "\u001b[1;31m---------------------------------------------------------------------------\u001b[0m",
      "\u001b[1;31mAttributeError\u001b[0m                            Traceback (most recent call last)",
      "\u001b[1;32m<ipython-input-1-37ae5de55857>\u001b[0m in \u001b[0;36m<module>\u001b[1;34m\u001b[0m\n\u001b[0;32m      7\u001b[0m \u001b[0mdiffrn\u001b[0m\u001b[1;33m.\u001b[0m\u001b[0mfrom_cif\u001b[0m\u001b[1;33m(\u001b[0m\u001b[0mstring\u001b[0m\u001b[1;33m)\u001b[0m\u001b[1;33m\u001b[0m\u001b[1;33m\u001b[0m\u001b[0m\n\u001b[0;32m      8\u001b[0m \u001b[0mcrystal\u001b[0m \u001b[1;33m=\u001b[0m \u001b[0mCrystal\u001b[0m\u001b[1;33m(\u001b[0m\u001b[1;33m)\u001b[0m\u001b[1;33m\u001b[0m\u001b[1;33m\u001b[0m\u001b[0m\n\u001b[1;32m----> 9\u001b[1;33m \u001b[0mres\u001b[0m \u001b[1;33m=\u001b[0m \u001b[0mdiffrn\u001b[0m\u001b[1;33m.\u001b[0m\u001b[0mprint_exp_mod_data\u001b[0m\u001b[1;33m(\u001b[0m\u001b[0mcrystal\u001b[0m\u001b[1;33m)\u001b[0m\u001b[1;33m\u001b[0m\u001b[1;33m\u001b[0m\u001b[0m\n\u001b[0m",
      "\u001b[1;32mc:\\users\\ikibalin\\documents\\github\\rhochi\\neupy\\f_experiment\\f_single\\cl_diffrn.py\u001b[0m in \u001b[0;36mprint_exp_mod_data\u001b[1;34m(self, crystal)\u001b[0m\n\u001b[0;32m    324\u001b[0m         \u001b[0mfr_sigma\u001b[0m \u001b[1;33m=\u001b[0m \u001b[0mdiffrn_refln\u001b[0m\u001b[1;33m.\u001b[0m\u001b[0mfr_sigma\u001b[0m\u001b[1;33m\u001b[0m\u001b[1;33m\u001b[0m\u001b[0m\n\u001b[0;32m    325\u001b[0m         int_u_mod, int_d_mod, fr_mod = self.calc_iint_u_d_flip_ratio(\n\u001b[1;32m--> 326\u001b[1;33m                                                h, k, l, crystal)\n\u001b[0m\u001b[0;32m    327\u001b[0m \u001b[1;33m\u001b[0m\u001b[0m\n\u001b[0;32m    328\u001b[0m         l_1 = [\"_diffrn_refln_index_h\", \"_diffrn_refln_index_k\", \"_diffrn_refln_index_l\",\n",
      "\u001b[1;32mc:\\users\\ikibalin\\documents\\github\\rhochi\\neupy\\f_experiment\\f_single\\cl_diffrn.py\u001b[0m in \u001b[0;36mcalc_iint_u_d_flip_ratio\u001b[1;34m(self, h, k, l, crystal)\u001b[0m\n\u001b[0;32m    211\u001b[0m         \u001b[0me_u_loc\u001b[0m \u001b[1;33m=\u001b[0m \u001b[0mfield_loc\u001b[0m\u001b[1;33m/\u001b[0m\u001b[0mfield_norm\u001b[0m\u001b[1;33m\u001b[0m\u001b[1;33m\u001b[0m\u001b[0m\n\u001b[0;32m    212\u001b[0m \u001b[1;33m\u001b[0m\u001b[0m\n\u001b[1;32m--> 213\u001b[1;33m         \u001b[0mf_nucl\u001b[0m\u001b[1;33m,\u001b[0m \u001b[0msft_11\u001b[0m\u001b[1;33m,\u001b[0m \u001b[0msft_12\u001b[0m\u001b[1;33m,\u001b[0m \u001b[0msft_13\u001b[0m\u001b[1;33m,\u001b[0m \u001b[0msft_21\u001b[0m\u001b[1;33m,\u001b[0m \u001b[0msft_22\u001b[0m\u001b[1;33m,\u001b[0m \u001b[0msft_23\u001b[0m\u001b[1;33m,\u001b[0m \u001b[0msft_31\u001b[0m\u001b[1;33m,\u001b[0m \u001b[0msft_32\u001b[0m\u001b[1;33m,\u001b[0m \u001b[0msft_33\u001b[0m\u001b[1;33m,\u001b[0m \u001b[0md_info_sf\u001b[0m \u001b[1;33m=\u001b[0m \u001b[0mcrystal\u001b[0m\u001b[1;33m.\u001b[0m\u001b[0mcalc_sf\u001b[0m\u001b[1;33m(\u001b[0m\u001b[0mh\u001b[0m\u001b[1;33m,\u001b[0m \u001b[0mk\u001b[0m\u001b[1;33m,\u001b[0m \u001b[0ml\u001b[0m\u001b[1;33m)\u001b[0m\u001b[1;33m\u001b[0m\u001b[1;33m\u001b[0m\u001b[0m\n\u001b[0m\u001b[0;32m    214\u001b[0m \u001b[1;33m\u001b[0m\u001b[0m\n\u001b[0;32m    215\u001b[0m         \u001b[0mcell\u001b[0m \u001b[1;33m=\u001b[0m \u001b[0mcrystal\u001b[0m\u001b[1;33m.\u001b[0m\u001b[0mcell\u001b[0m\u001b[1;33m\u001b[0m\u001b[1;33m\u001b[0m\u001b[0m\n",
      "\u001b[1;32mc:\\users\\ikibalin\\documents\\github\\rhochi\\neupy\\f_crystal\\cl_crystal.py\u001b[0m in \u001b[0;36mcalc_sf\u001b[1;34m(self, h, k, l, f_print)\u001b[0m\n\u001b[0;32m    454\u001b[0m \u001b[1;33m\u001b[0m\u001b[0m\n\u001b[0;32m    455\u001b[0m \u001b[1;33m\u001b[0m\u001b[0m\n\u001b[1;32m--> 456\u001b[1;33m         \u001b[0moccupancy\u001b[0m \u001b[1;33m=\u001b[0m \u001b[0mnumpy\u001b[0m\u001b[1;33m.\u001b[0m\u001b[0marray\u001b[0m\u001b[1;33m(\u001b[0m\u001b[0matom_site\u001b[0m\u001b[1;33m.\u001b[0m\u001b[0moccupancy\u001b[0m\u001b[1;33m,\u001b[0m \u001b[0mdtype\u001b[0m\u001b[1;33m=\u001b[0m\u001b[0mfloat\u001b[0m\u001b[1;33m)\u001b[0m\u001b[1;33m\u001b[0m\u001b[1;33m\u001b[0m\u001b[0m\n\u001b[0m\u001b[0;32m    457\u001b[0m         \u001b[0mscat_length_neutron\u001b[0m \u001b[1;33m=\u001b[0m \u001b[0mnumpy\u001b[0m\u001b[1;33m.\u001b[0m\u001b[0marray\u001b[0m\u001b[1;33m(\u001b[0m\u001b[0matom_site\u001b[0m\u001b[1;33m.\u001b[0m\u001b[0mscat_length_neutron\u001b[0m\u001b[1;33m,\u001b[0m \u001b[0mdtype\u001b[0m\u001b[1;33m=\u001b[0m\u001b[0mfloat\u001b[0m\u001b[1;33m)\u001b[0m\u001b[1;33m\u001b[0m\u001b[1;33m\u001b[0m\u001b[0m\n\u001b[0;32m    458\u001b[0m \u001b[1;33m\u001b[0m\u001b[0m\n",
      "\u001b[1;31mAttributeError\u001b[0m: 'NoneType' object has no attribute 'occupancy'"
     ]
    }
   ],
   "source": [
    "from neupy.f_experiment.f_single.cl_diffrn import Diffrn\n",
    "from neupy import Crystal\n",
    "\n",
    "f_name = r\"C:\\Users\\ikibalin\\Documents\\GitHub\\rhochi\\examples\\jupyter_notebook\\full_sd.rcif\"\n",
    "with open(f_name, \"r\") as fid: string = fid.read()\n",
    "diffrn = Diffrn()\n",
    "diffrn.from_cif(string)\n",
    "crystal = Crystal()\n",
    "crystal.from_cif(string)\n",
    "res = diffrn.print_exp_mod_data(crystal)"
   ]
  },
  {
   "cell_type": "code",
   "execution_count": null,
   "metadata": {},
   "outputs": [],
   "source": [
    "print(res)"
   ]
  },
  {
   "cell_type": "markdown",
   "metadata": {
    "scrolled": true
   },
   "source": [
    "## Print to cif"
   ]
  },
  {
   "cell_type": "code",
   "execution_count": null,
   "metadata": {},
   "outputs": [],
   "source": [
    "print(diffrn.to_cif)"
   ]
  },
  {
   "cell_type": "code",
   "execution_count": null,
   "metadata": {},
   "outputs": [],
   "source": [
    "diffrn.label"
   ]
  },
  {
   "cell_type": "code",
   "execution_count": null,
   "metadata": {},
   "outputs": [],
   "source": [
    "import numpy\n",
    "from neupy.f_experiment.cl_orient_matrix import OrientMatrix\n",
    "or_mat = OrientMatrix()\n",
    "ub_ccsl = numpy.array([[0.06342,-0.06726,0.03236],\n",
    "[0.02099,-0.02507,-0.09160],\n",
    "[0.07176,0.06677,-0.00180]], dtype=float)\n",
    "or_mat.ub_ccsl = ub_ccsl\n",
    "print(or_mat)"
   ]
  },
  {
   "cell_type": "code",
   "execution_count": null,
   "metadata": {},
   "outputs": [],
   "source": [
    "f_name = r\"C:\\Users\\ikibalin\\Documents\\documents\\working_comp\\python\\calc_ubfrom\\ubfrom.raf\"\n",
    "\n",
    "or_mat.read_ubfrom(f_name)\n",
    "print(or_mat)\n"
   ]
  }
 ],
 "metadata": {
  "kernelspec": {
   "display_name": "Python 3",
   "language": "python",
   "name": "python3"
  },
  "language_info": {
   "codemirror_mode": {
    "name": "ipython",
    "version": 3
   },
   "file_extension": ".py",
   "mimetype": "text/x-python",
   "name": "python",
   "nbconvert_exporter": "python",
   "pygments_lexer": "ipython3",
   "version": "3.7.3"
  }
 },
 "nbformat": 4,
 "nbformat_minor": 2
}
