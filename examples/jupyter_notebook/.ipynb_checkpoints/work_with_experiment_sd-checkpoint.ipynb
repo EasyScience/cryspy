{
 "cells": [
  {
   "cell_type": "markdown",
   "metadata": {},
   "source": [
    "# Crystal object\n",
    "## Load from cif"
   ]
  },
  {
   "cell_type": "code",
   "execution_count": 1,
   "metadata": {},
   "outputs": [
    {
     "data": {
      "text/plain": [
       "True"
      ]
     },
     "execution_count": 1,
     "metadata": {},
     "output_type": "execute_result"
    }
   ],
   "source": [
    "from neupy import Crystal, Fitable\n",
    "import pystar\n",
    "f_name = \"full.rcif\"\n",
    "fid = open(f_name, \"r\")\n",
    "string = fid.read()\n",
    "fid.close()\n",
    "\n",
    "crystal = Crystal()\n",
    "\n",
    "crystal.from_cif(string)"
   ]
  },
  {
   "cell_type": "code",
   "execution_count": 2,
   "metadata": {},
   "outputs": [
    {
     "name": "stdout",
     "output_type": "stream",
     "text": [
      "Crystal:\n",
      "label: Fe3O4\n",
      "\n",
      "Cell: \n",
      " a: 8.56212() (name: _cell_length_a, refinement: True)\n",
      " b: 8.56212 (name: _cell_length_b)\n",
      " c: 8.56212 (name: _cell_length_c)\n",
      " alpha: 90.0 (name: _cell_angle_alpha)\n",
      " beta: 90.0 (name: _cell_angle_beta)\n",
      " gamma: 90.0 (name: _cell_angle_gamma)\n",
      " bravais_lattice: cubic\n",
      " volume: 627.688\n",
      " B matrix is:\n",
      "   0.11679  -0.00000  -0.00000\n",
      "   0.00000   0.11679  -0.00000\n",
      "   0.00000   0.00000   0.11679\n",
      " inversed B matrix is:\n",
      "   8.56212   0.00000   0.00000\n",
      "   0.00000   8.56212   0.00000\n",
      "   0.00000   0.00000   8.56212\n",
      "\n",
      "SpaceGroup:\n",
      " given name: Fd-3m\n",
      " choice: 2\n",
      " name: Fd-3m\n",
      " number: 227\n",
      "\n",
      "AtomSite:\n",
      " label type_symbol x        y        z        adp_type b_iso    occupancy\n",
      " Fe3A     Fe3+     0.125    0.125    0.125    uani     0.0      1.0     \n",
      " Fe3B     Fe3+     0.5      0.5      0.5      uani     0.0      1.0     \n",
      " O1       O2-      0.25521  0.25521  0.25521  uiso     0.0      1.0     \n",
      "\n",
      " for type_symbol 'Fe3+'\n",
      " scat_length_neutron: 0.9450 cm**-12\n",
      " j0_A:  0.3972,  j0_a: 13.2442,  j0_B:  0.6295,  j0_b:  4.9034\n",
      " j0_C: -0.0314,  j0_c:  0.3496,  j0_D:  0.0044\n",
      " j2_A:  1.3602,  j2_a: 11.9976,  j2_B:  1.5188,  j2_b:  5.0025\n",
      " j2_C:  0.4705,  j2_c:  1.9914,  j2_D:  0.0038\n",
      "\n",
      " for type_symbol 'O2-'\n",
      " scat_length_neutron: 0.5803 cm**-12\n",
      " j0_A:  0.9990,  j0_a: 12.0965,  j0_B:  0.2885,  j0_b:  0.1291\n",
      " j0_C:  0.1143,  j0_c: -0.2297,  j0_D: -0.4068\n",
      " j2_A:  0.0000,  j2_a:  0.0000,  j2_B:  0.0000,  j2_b:  0.0000\n",
      " j2_C:  0.0000,  j2_c:  0.0000,  j2_D:  0.0000\n",
      "\n",
      "AtomSiteAniso:\n",
      " label    u_11     u_22     u_33     u_12     u_13     u_23    \n",
      " Fe3A     0.0      0.0      0.0      0.0      0.0      0.0     \n",
      " Fe3B     0.0      0.0      0.0      0.0      0.0      0.0     \n",
      "\n",
      "AtomSiteMagnetism:\n",
      " label    kappa    lande   \n",
      " Fe3A     1.0()    2.0     \n",
      " Fe3B     1.0      2.0()   \n",
      "\n",
      "AtomSiteMagnetismAniso:\n",
      " label    chi_type chi_11   chi_22   chi_33   chi_12   chi_13   chi_23   \n",
      " Fe3A     cani     -3.468() -3.468   -3.468   0.0      0.0      0.0     \n",
      " Fe3B     cani     3.041    3.041    3.041    0.0      0.0      0.0     \n",
      "\n"
     ]
    }
   ],
   "source": [
    "print(crystal)"
   ]
  },
  {
   "cell_type": "markdown",
   "metadata": {
    "scrolled": true
   },
   "source": [
    "## Print to cif"
   ]
  },
  {
   "cell_type": "code",
   "execution_count": 3,
   "metadata": {},
   "outputs": [
    {
     "name": "stdout",
     "output_type": "stream",
     "text": [
      "data_Fe3O4\n",
      "_cell_length_a 8.56212()\n",
      "_cell_length_b 8.56212\n",
      "_cell_length_c 8.56212\n",
      "_cell_angle_alpha 90.0\n",
      "_cell_angle_beta 90.0\n",
      "_cell_angle_gamma 90.0\n",
      "\n",
      "_space_group_name_H-M_alt Fd-3m\n",
      "_space_group_it_coordinate_system_code 2\n",
      "\n",
      "\n",
      "loop_\n",
      "_atom_site_label\n",
      "_atom_site_type_symbol\n",
      "_atom_site_fract_x\n",
      "_atom_site_fract_y\n",
      "_atom_site_fract_z\n",
      "_atom_site_adp_type\n",
      "_atom_site_B_iso_or_equiv\n",
      "_atom_site_occupancy\n",
      "Fe3A Fe3+ 0.125 0.125 0.125 uani 0.0 1.0\n",
      "Fe3B Fe3+ 0.5 0.5 0.5 uani 0.0 1.0\n",
      "O1 O2- 0.25521 0.25521 0.25521 uiso 0.0 1.0\n",
      "\n",
      "loop_\n",
      "_atom_site_aniso_label\n",
      "_atom_site_aniso_u_11\n",
      "_atom_site_aniso_u_22\n",
      "_atom_site_aniso_u_33\n",
      "_atom_site_aniso_u_12\n",
      "_atom_site_aniso_u_13\n",
      "_atom_site_aniso_u_23\n",
      "Fe3A 0.0 0.0 0.0 0.0 0.0 0.0\n",
      "Fe3B 0.0 0.0 0.0 0.0 0.0 0.0\n",
      "\n",
      "loop_\n",
      "_atom_site_magnetism_label\n",
      "_atom_site_magnetism_lande\n",
      "_atom_site_magnetism_kappa\n",
      "Fe3A 2.0 1.0()\n",
      "Fe3B 2.0() 1.0\n",
      "\n",
      "loop_\n",
      "_atom_site_magnetism_aniso_label\n",
      "_atom_site_magnetism_aniso_chi_type\n",
      "_atom_site_magnetism_aniso_chi_11\n",
      "_atom_site_magnetism_aniso_chi_22\n",
      "_atom_site_magnetism_aniso_chi_33\n",
      "_atom_site_magnetism_aniso_chi_12\n",
      "_atom_site_magnetism_aniso_chi_13\n",
      "_atom_site_magnetism_aniso_chi_23\n",
      "Fe3A cani -3.468() -3.468 -3.468 0.0 0.0 0.0\n",
      "Fe3B cani 3.041 3.041 3.041 0.0 0.0 0.0\n",
      "\n"
     ]
    }
   ],
   "source": [
    "print(crystal.to_cif)"
   ]
  },
  {
   "cell_type": "code",
   "execution_count": 4,
   "metadata": {},
   "outputs": [
    {
     "name": "stdout",
     "output_type": "stream",
     "text": [
      "   h   k   l   Re(f_nucl)  Im(f_nucl)  Re(sft_11)  Re(sft_12)  Re(sft_13)\n",
      "                                       Re(sft_21)  Re(sft_22)  Re(sft_23)\n",
      "                                       Re(sft_31)  Re(sft_32)  Re(sft_33)\n",
      "   1   1   1        3.125       0.000      10.880       0.000       0.000\n",
      "                                            0.000      10.880       0.000\n",
      "                                            0.000       0.000      10.880\n",
      "   2   0   0       -0.000       0.000       0.000       0.000       0.000\n",
      "                                            0.000       0.000       0.000\n",
      "                                            0.000       0.000       0.000\n",
      "   2   2   0       -7.639       0.000       5.987       0.000       0.000\n",
      "                                            0.000       5.987       0.000\n",
      "                                            0.000       0.000       5.987\n",
      "   3   1   1      -12.600       0.000      -0.938      -0.000      -0.000\n",
      "                                           -0.000      -0.938      -0.000\n",
      "                                           -0.000      -0.000      -0.938\n",
      "   2   2   2       -3.331       0.000       9.435       0.000       0.000\n",
      "                                            0.000       9.435       0.000\n",
      "                                            0.000       0.000       9.435\n",
      "   4   0   0       25.971       0.000      13.345       0.000       0.000\n",
      "                                            0.000      13.345       0.000\n",
      "                                            0.000       0.000      13.345\n",
      "   3   3   1       -0.707       0.000      -7.109      -0.000      -0.000\n",
      "                                           -0.000      -7.109      -0.000\n",
      "                                           -0.000      -0.000      -7.109\n"
     ]
    }
   ],
   "source": [
    "import numpy\n",
    "l_hkl = [(1, 1, 1), (2, 0, 0), (2, 2, 0), (3, 1, 1), (2, 2, 2), (4, 0, 0), (3, 3, 1)]\n",
    "hkl = numpy.array(l_hkl, dtype=int)\n",
    "h, k, l = hkl[:,0], hkl[:,1], hkl[:,2]\n",
    "_ = crystal.calc_sf(h, k, l, f_print=True)"
   ]
  },
  {
   "cell_type": "code",
   "execution_count": 6,
   "metadata": {},
   "outputs": [
    {
     "name": "stdout",
     "output_type": "stream",
     "text": [
      "\n",
      "Orientation matrix U:\n",
      "     0.64685    -0.68606     0.33303\n",
      "     0.21412    -0.25575    -0.94273\n",
      "     0.73194     0.68112    -0.01853\n",
      "\n",
      "The UB matrix (CCSL):\n",
      "     6.59783    -6.99807     3.36630\n",
      "     2.18396    -2.60871    -9.53020\n",
      "     7.46570     6.94702    -0.18685\n",
      "\n",
      "The UB matrix (from):\n",
      "     6.99807     6.59783     3.36630\n",
      "     2.60871     2.18396    -9.53020\n",
      "    -6.94702     7.46570    -0.18685\n",
      "Cell: \n",
      " a: 0.09804029079566405\n",
      " b: 0.09803948053232162\n",
      " c: 0.09892188875646409\n",
      " alpha: 90.00326421970833\n",
      " beta: 90.00096341315611\n",
      " gamma: 89.99723134609008\n",
      " bravais_lattice: triclinic\n",
      " volume: 0.001\n",
      " B matrix is:\n",
      "  10.19989  -0.00049   0.00017\n",
      "   0.00000  10.19997   0.00058\n",
      "   0.00000   0.00000  10.10899\n",
      " inversed B matrix is:\n",
      "   0.09804   0.00000  -0.00000\n",
      "   0.00000   0.09804  -0.00001\n",
      "   0.00000   0.00000   0.09892\n"
     ]
    }
   ],
   "source": [
    "from neupy.f_experiment.cl_orient_matrix import OrientMatrix\n",
    "or_mat = OrientMatrix()\n",
    "ub_ccsl = numpy.array([[0.06342,-0.06726,0.03236],\n",
    "[0.02099,-0.02507,-0.09160],\n",
    "[0.07176,0.06677,-0.00180]], dtype=float)\n",
    "or_mat.ub_ccsl = ub_ccsl\n",
    "print(or_mat)"
   ]
  },
  {
   "cell_type": "code",
   "execution_count": 8,
   "metadata": {},
   "outputs": [
    {
     "data": {
      "text/plain": [
       "Cell: \n",
       " a: 10.2\n",
       " b: 10.2 (name: _cell_length_b)\n",
       " c: 10.2 (name: _cell_length_c)\n",
       " alpha: 90.0 (name: _cell_angle_alpha)\n",
       " beta: 90.0 (name: _cell_angle_beta)\n",
       " gamma: 90.0 (name: _cell_angle_gamma)\n",
       " bravais_lattice: cubic\n",
       " volume: 1061.208\n",
       " B matrix is:\n",
       "   0.09804  -0.00000  -0.00000\n",
       "   0.00000   0.09804  -0.00000\n",
       "   0.00000   0.00000   0.09804\n",
       " inversed B matrix is:\n",
       "  10.20000   0.00000   0.00000\n",
       "   0.00000  10.20000   0.00000\n",
       "   0.00000   0.00000  10.20000"
      ]
     },
     "execution_count": 8,
     "metadata": {},
     "output_type": "execute_result"
    }
   ],
   "source": [
    "from neupy import Cell\n",
    "Cell(a=10.2,bravais_lattice=\"Cubic\")"
   ]
  }
 ],
 "metadata": {
  "kernelspec": {
   "display_name": "Python 3",
   "language": "python",
   "name": "python3"
  },
  "language_info": {
   "codemirror_mode": {
    "name": "ipython",
    "version": 3
   },
   "file_extension": ".py",
   "mimetype": "text/x-python",
   "name": "python",
   "nbconvert_exporter": "python",
   "pygments_lexer": "ipython3",
   "version": "3.7.3"
  }
 },
 "nbformat": 4,
 "nbformat_minor": 2
}
