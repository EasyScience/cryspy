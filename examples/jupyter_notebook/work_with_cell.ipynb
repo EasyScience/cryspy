{
 "cells": [
  {
   "cell_type": "markdown",
   "metadata": {},
   "source": [
    "# Cell object\n",
    "## Load from cif"
   ]
  },
  {
   "cell_type": "code",
   "execution_count": 3,
   "metadata": {},
   "outputs": [
    {
     "name": "stdout",
     "output_type": "stream",
     "text": [
      "Cell: \n",
      " a: 8.56212() (name: _cell_length_a, refinement: True, constraint: #AAA)\n",
      " b: 8.56212 (name: _cell_length_b)\n",
      " c: 8.56212 (name: _cell_length_c)\n",
      " alpha: 90.0 (name: _cell_angle_alpha)\n",
      " beta: 90.0 (name: _cell_angle_beta)\n",
      " gamma: 90.0 (name: _cell_angle_gamma)\n",
      " bravais_lattice: cubic\n",
      " volume: 627.688\n",
      " B matrix is:\n",
      "   0.11679  -0.00000  -0.00000\n",
      "   0.00000   0.11679  -0.00000\n",
      "   0.00000   0.00000   0.11679\n",
      " inversed B matrix is:\n",
      "   8.56212   0.00000   0.00000\n",
      "   0.00000   8.56212   0.00000\n",
      "   0.00000   0.00000   8.56212\n"
     ]
    }
   ],
   "source": [
    "from neupy import Cell\n",
    "import pystar\n",
    "f_name = \"full.rcif\"\n",
    "fid = open(f_name, \"r\")\n",
    "string = fid.read()\n",
    "fid.close()\n",
    "\n",
    "cell = Cell()\n",
    "cell.from_cif(string)\n",
    "print(cell)"
   ]
  },
  {
   "cell_type": "markdown",
   "metadata": {},
   "source": [
    "## Print to cif"
   ]
  },
  {
   "cell_type": "code",
   "execution_count": 4,
   "metadata": {},
   "outputs": [
    {
     "name": "stdout",
     "output_type": "stream",
     "text": [
      "_cell_length_a 8.56212()\n",
      "_cell_length_b 8.56212\n",
      "_cell_length_c 8.56212\n",
      "_cell_angle_alpha 90.0\n",
      "_cell_angle_beta 90.0\n",
      "_cell_angle_gamma 90.0\n"
     ]
    }
   ],
   "source": [
    "print(cell.to_cif)"
   ]
  }
 ],
 "metadata": {
  "kernelspec": {
   "display_name": "Python 3",
   "language": "python",
   "name": "python3"
  },
  "language_info": {
   "codemirror_mode": {
    "name": "ipython",
    "version": 3
   },
   "file_extension": ".py",
   "mimetype": "text/x-python",
   "name": "python",
   "nbconvert_exporter": "python",
   "pygments_lexer": "ipython3",
   "version": "3.7.3"
  }
 },
 "nbformat": 4,
 "nbformat_minor": 2
}
