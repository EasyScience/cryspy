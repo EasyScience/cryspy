{
 "cells": [
  {
   "cell_type": "markdown",
   "metadata": {},
   "source": [
    "# AtomSiteMagnetismAnisoobject\n",
    "## Load from cif"
   ]
  },
  {
   "cell_type": "code",
   "execution_count": 1,
   "metadata": {},
   "outputs": [
    {
     "name": "stdout",
     "output_type": "stream",
     "text": [
      "***  Error ***\n",
      "Can not convert string to float\n",
      "***  Error ***\n",
      "Can not convert string to float\n"
     ]
    },
    {
     "data": {
      "text/plain": [
       "True"
      ]
     },
     "execution_count": 1,
     "metadata": {},
     "output_type": "execute_result"
    }
   ],
   "source": [
    "from neupy import AtomSiteMagnetismAniso\n",
    "import pystar\n",
    "f_name = \"full.rcif\"\n",
    "fid = open(f_name, \"r\")\n",
    "string = fid.read()\n",
    "fid.close()\n",
    "\n",
    "atom_site_magnetism_aniso = AtomSiteMagnetismAniso()\n",
    "atom_site_magnetism_aniso.from_cif(string)\n"
   ]
  },
  {
   "cell_type": "code",
   "execution_count": 2,
   "metadata": {},
   "outputs": [
    {
     "name": "stdout",
     "output_type": "stream",
     "text": [
      "Fe3A Fe3A Fe3A    \n",
      "0.0 <class 'neupy.f_common.cl_fitable.Fitable'>\n",
      "-3.468() (name: _atom_site_magnetism_aniso_chi_11, refinement: True) -3.468() -3.468()\n",
      "-3.468 (name: _atom_site_magnetism_aniso_chi_22) -3.468 -3.468  \n",
      "-3.468 (name: _atom_site_magnetism_aniso_chi_33) -3.468 -3.468  \n",
      "0.0 (name: _atom_site_magnetism_aniso_chi_12) 0.0 0.0     \n",
      "0.0 (name: _atom_site_magnetism_aniso_chi_13) 0.0 0.0     \n",
      "0.0 (name: _atom_site_magnetism_aniso_chi_23) 0.0 0.0     \n"
     ]
    },
    {
     "ename": "TypeError",
     "evalue": "unsupported format string passed to Fitable.__format__",
     "output_type": "error",
     "traceback": [
      "\u001b[1;31m---------------------------------------------------------------------------\u001b[0m",
      "\u001b[1;31mTypeError\u001b[0m                                 Traceback (most recent call last)",
      "\u001b[1;32m<ipython-input-2-5ac594f090c0>\u001b[0m in \u001b[0;36m<module>\u001b[1;34m\u001b[0m\n\u001b[1;32m----> 1\u001b[1;33m \u001b[0mprint\u001b[0m\u001b[1;33m(\u001b[0m\u001b[0matom_site_magnetism_aniso\u001b[0m\u001b[1;33m)\u001b[0m\u001b[1;33m\u001b[0m\u001b[1;33m\u001b[0m\u001b[0m\n\u001b[0m",
      "\u001b[1;32mc:\\users\\ikibalin\\documents\\github\\rhochi\\neupy\\f_crystal\\cl_atom_site_magnetism_aniso.py\u001b[0m in \u001b[0;36m__repr__\u001b[1;34m(self)\u001b[0m\n\u001b[0;32m     69\u001b[0m             ls_out.append(\" {:8} {:8} {:8} {:8} {:8} {:8} {:8} {:8}\".format(hh_1, hh_2, \n\u001b[0;32m     70\u001b[0m                     \u001b[0mhh_3\u001b[0m\u001b[1;33m.\u001b[0m\u001b[0mprint_with_sigma\u001b[0m\u001b[1;33m,\u001b[0m \u001b[0mhh_4\u001b[0m\u001b[1;33m.\u001b[0m\u001b[0mprint_with_sigma\u001b[0m\u001b[1;33m,\u001b[0m \u001b[0mhh_5\u001b[0m\u001b[1;33m.\u001b[0m\u001b[0mprint_with_sigma\u001b[0m\u001b[1;33m,\u001b[0m\u001b[1;33m\u001b[0m\u001b[1;33m\u001b[0m\u001b[0m\n\u001b[1;32m---> 71\u001b[1;33m                     hh_6.print_with_sigma, hh_7.print_with_sigma, hh_8.print_with_sigma))\n\u001b[0m\u001b[0;32m     72\u001b[0m         \u001b[1;32mreturn\u001b[0m \u001b[1;34m\"\\n\"\u001b[0m\u001b[1;33m.\u001b[0m\u001b[0mjoin\u001b[0m\u001b[1;33m(\u001b[0m\u001b[0mls_out\u001b[0m\u001b[1;33m)\u001b[0m\u001b[1;33m\u001b[0m\u001b[1;33m\u001b[0m\u001b[0m\n\u001b[0;32m     73\u001b[0m \u001b[1;33m\u001b[0m\u001b[0m\n",
      "\u001b[1;31mTypeError\u001b[0m: unsupported format string passed to Fitable.__format__"
     ]
    }
   ],
   "source": [
    "print(atom_site_magnetism_aniso)"
   ]
  },
  {
   "cell_type": "markdown",
   "metadata": {},
   "source": [
    "## Print to cif"
   ]
  },
  {
   "cell_type": "code",
   "execution_count": null,
   "metadata": {},
   "outputs": [],
   "source": [
    "print(atom_site_magnetism_aniso.to_cif)"
   ]
  },
  {
   "cell_type": "code",
   "execution_count": null,
   "metadata": {},
   "outputs": [],
   "source": [
    "import neupy"
   ]
  },
  {
   "cell_type": "code",
   "execution_count": null,
   "metadata": {},
   "outputs": [],
   "source": []
  }
 ],
 "metadata": {
  "kernelspec": {
   "display_name": "Python 3",
   "language": "python",
   "name": "python3"
  },
  "language_info": {
   "codemirror_mode": {
    "name": "ipython",
    "version": 3
   },
   "file_extension": ".py",
   "mimetype": "text/x-python",
   "name": "python",
   "nbconvert_exporter": "python",
   "pygments_lexer": "ipython3",
   "version": "3.7.3"
  }
 },
 "nbformat": 4,
 "nbformat_minor": 2
}
