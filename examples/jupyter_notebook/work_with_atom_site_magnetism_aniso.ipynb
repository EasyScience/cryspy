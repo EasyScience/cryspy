{
 "cells": [
  {
   "cell_type": "markdown",
   "metadata": {},
   "source": [
    "# AtomSiteMagnetismAnisoobject\n",
    "## Load from cif"
   ]
  },
  {
   "cell_type": "code",
   "execution_count": 1,
   "metadata": {},
   "outputs": [
    {
     "data": {
      "text/plain": [
       "True"
      ]
     },
     "execution_count": 1,
     "metadata": {},
     "output_type": "execute_result"
    }
   ],
   "source": [
    "from neupy import AtomSiteMagnetismAniso\n",
    "import pystar\n",
    "f_name = \"full.rcif\"\n",
    "fid = open(f_name, \"r\")\n",
    "string = fid.read()\n",
    "fid.close()\n",
    "\n",
    "atom_site_magnetism_aniso = AtomSiteMagnetismAniso()\n",
    "atom_site_magnetism_aniso.from_cif(string)\n"
   ]
  },
  {
   "cell_type": "code",
   "execution_count": 2,
   "metadata": {},
   "outputs": [
    {
     "name": "stdout",
     "output_type": "stream",
     "text": [
      "AtomSiteMagnetismAniso:\n",
      " label    chi_type chi_11   chi_22   chi_33   chi_12   chi_13   chi_23   \n",
      " Fe3A     cani     -3.468() -3.468   -3.468   0.0      0.0      0.0     \n",
      " Fe3B     cani     3.041    3.041    3.041    0.0      0.0      0.0     \n"
     ]
    }
   ],
   "source": [
    "print(atom_site_magnetism_aniso)"
   ]
  },
  {
   "cell_type": "markdown",
   "metadata": {},
   "source": [
    "## Print to cif"
   ]
  },
  {
   "cell_type": "code",
   "execution_count": 3,
   "metadata": {},
   "outputs": [
    {
     "name": "stdout",
     "output_type": "stream",
     "text": [
      "loop_\n",
      "_atom_site_magnetism_aniso_label\n",
      "_atom_site_magnetism_aniso_chi_type\n",
      "_atom_site_magnetism_aniso_chi_11\n",
      "_atom_site_magnetism_aniso_chi_22\n",
      "_atom_site_magnetism_aniso_chi_33\n",
      "_atom_site_magnetism_aniso_chi_12\n",
      "_atom_site_magnetism_aniso_chi_13\n",
      "_atom_site_magnetism_aniso_chi_23\n",
      "Fe3A cani -3.468() -3.468 -3.468 0.0 0.0 0.0\n",
      "Fe3B cani 3.041 3.041 3.041 0.0 0.0 0.0\n"
     ]
    }
   ],
   "source": [
    "print(atom_site_magnetism_aniso.to_cif)"
   ]
  }
 ],
 "metadata": {
  "kernelspec": {
   "display_name": "Python 3",
   "language": "python",
   "name": "python3"
  },
  "language_info": {
   "codemirror_mode": {
    "name": "ipython",
    "version": 3
   },
   "file_extension": ".py",
   "mimetype": "text/x-python",
   "name": "python",
   "nbconvert_exporter": "python",
   "pygments_lexer": "ipython3",
   "version": "3.7.3"
  }
 },
 "nbformat": 4,
 "nbformat_minor": 2
}
