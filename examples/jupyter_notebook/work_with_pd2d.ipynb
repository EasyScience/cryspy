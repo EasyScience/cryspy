{
 "cells": [
  {
   "cell_type": "code",
   "execution_count": 1,
   "metadata": {},
   "outputs": [
    {
     "name": "stdout",
     "output_type": "stream",
     "text": [
      "Pd:\n",
      " label: \n",
      " wavelength: 1.400\n",
      " field: 1.000\n",
      " ttheta_min: 0.100\n",
      " ttheta_max: 179.900\n",
      " phi_min: 0.000\n",
      " phi_max: 40.000\n",
      " offset: 0.0\n",
      " chi2_up: False\n",
      " chi2_down: False\n",
      " chi2_sum: True\n",
      " chi2_diff: True\n"
     ]
    }
   ],
   "source": [
    "from neupy import Pd2d\n",
    "import numpy\n",
    "f_1 = \"./full_pd2d.rcif\"\n",
    "with open(f_1, 'r') as fid:\n",
    "    string = fid.read()\n",
    "pd2d = Pd2d()\n",
    "print(pd2d)"
   ]
  },
  {
   "cell_type": "code",
   "execution_count": 2,
   "metadata": {},
   "outputs": [
    {
     "name": "stdout",
     "output_type": "stream",
     "text": [
      "Pd:\n",
      " label: Fe3O4\n",
      " wavelength: 0.840\n",
      " field: 1.000\n",
      " ttheta_min: 4.000\n",
      " ttheta_max: 80.000\n",
      " phi_min: -2.000\n",
      " phi_max: 40.000\n",
      " offset: -0.385404\n",
      " chi2_up: False\n",
      " chi2_down: False\n",
      " chi2_sum: True\n",
      " chi2_diff: False\n",
      "\n",
      "Pd2dBackground:\n",
      "           2   4.50        40.00        80.00      \n",
      "       -3.00 -350.0       -350.0()     -400.0      \n",
      "       41.00 -350.0       -350.0       -400.0()    \n",
      "\n",
      "Pd2dInstrResolution:\n",
      " p1: 0.0\n",
      " p2: 0.0\n",
      " p3: 0.0\n",
      " p4: 0.0\n",
      "\n",
      "BeamPolarization: \n",
      " polarization: 1.0\n",
      " efficiency: 1.0\n",
      "\n",
      "Pd2dInstrResolution:\n",
      " u: 16.9776\n",
      " v: -2.83572490939\n",
      " w: 0.576309204074\n",
      " x: 0.0\n",
      " y: 0.0\n",
      "\n",
      "Pd2dMeas:\n",
      "\n",
      " ttheta: min - 4.0°, max - 150.0°, points - 731\n",
      " phi:    min - -40.0°, max - 80.0°, points - 241\n",
      "\n",
      " up\n",
      "[[-331.2243  -441.7184  -165.4574  ...        nan        nan        nan]\n",
      " [-367.06001 -334.89957  -19.03981 ...        nan        nan        nan]\n",
      " [-468.35805 -361.54946 -227.15401 ...        nan        nan        nan]\n",
      " ...\n",
      " [-191.357   -524.51637 -572.39208 ...        nan        nan        nan]\n",
      " [-282.40753 -595.91552 -805.25262 ...        nan        nan        nan]\n",
      " [-415.60603 -756.04936 -974.24548 ...        nan        nan        nan]]\n",
      "\n",
      " up_sigma\n",
      "[[233.54349 224.10645 208.27566 ...       nan       nan       nan]\n",
      " [232.66974 223.49483 209.67221 ...       nan       nan       nan]\n",
      " [232.51012 223.97423 215.90039 ...       nan       nan       nan]\n",
      " ...\n",
      " [328.00709 305.37103 300.71815 ...       nan       nan       nan]\n",
      " [324.02072 303.7514  297.40083 ...       nan       nan       nan]\n",
      " [320.82897 307.36308 294.18079 ...       nan       nan       nan]]\n",
      "\n",
      " down\n",
      "[[-163.92064 -171.98843 -391.59225 ...        nan        nan        nan]\n",
      " [-316.22822 -202.02991 -366.83589 ...        nan        nan        nan]\n",
      " [-461.0293  -263.23299 -370.99398 ...        nan        nan        nan]\n",
      " ...\n",
      " [-178.1685  -498.69316 -472.17243 ...        nan        nan        nan]\n",
      " [-287.45559 -546.22093 -383.06944 ...        nan        nan        nan]\n",
      " [-395.76694 -561.04948 -338.79818 ...        nan        nan        nan]]\n",
      "\n",
      " down_sigma\n",
      "[[237.2916  222.90559 212.65555 ...       nan       nan       nan]\n",
      " [234.99514 225.90897 211.71155 ...       nan       nan       nan]\n",
      " [233.80398 228.7762  214.72315 ...       nan       nan       nan]\n",
      " ...\n",
      " [323.28084 309.71782 298.45795 ...       nan       nan       nan]\n",
      " [319.37548 313.80743 300.77647 ...       nan       nan       nan]\n",
      " [314.89655 311.93284 302.23633 ...       nan       nan       nan]]\n"
     ]
    }
   ],
   "source": [
    "pd2d.from_cif(string)\n",
    "print(pd2d)"
   ]
  },
  {
   "cell_type": "code",
   "execution_count": null,
   "metadata": {},
   "outputs": [],
   "source": []
  }
 ],
 "metadata": {
  "kernelspec": {
   "display_name": "Python 3",
   "language": "python",
   "name": "python3"
  },
  "language_info": {
   "codemirror_mode": {
    "name": "ipython",
    "version": 3
   },
   "file_extension": ".py",
   "mimetype": "text/x-python",
   "name": "python",
   "nbconvert_exporter": "python",
   "pygments_lexer": "ipython3",
   "version": "3.7.3"
  }
 },
 "nbformat": 4,
 "nbformat_minor": 2
}
