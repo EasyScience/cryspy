{
 "cells": [
  {
   "cell_type": "markdown",
   "metadata": {},
   "source": [
    "# Single diffraction experiment object\n",
    "## Load from cif"
   ]
  },
  {
   "cell_type": "code",
   "execution_count": 1,
   "metadata": {},
   "outputs": [
    {
     "data": {
      "text/plain": [
       "True"
      ]
     },
     "execution_count": 1,
     "metadata": {},
     "output_type": "execute_result"
    }
   ],
   "source": [
    "from neupy import Crystal, Fitable\n",
    "import pystar\n",
    "f_name = \"full.rcif\"\n",
    "fid = open(f_name, \"r\")\n",
    "string = fid.read()\n",
    "fid.close()\n",
    "\n",
    "crystal = Crystal()\n",
    "\n",
    "crystal.from_cif(string)"
   ]
  },
  {
   "cell_type": "code",
   "execution_count": 2,
   "metadata": {},
   "outputs": [
    {
     "name": "stdout",
     "output_type": "stream",
     "text": [
      "Crystal:\n",
      "label: Fe3O4\n",
      "\n",
      "Cell: \n",
      " a: 8.56212() (name: _cell_length_a, refinement: True)\n",
      " b: 8.56212 (name: _cell_length_b)\n",
      " c: 8.56212 (name: _cell_length_c)\n",
      " alpha: 90.0 (name: _cell_angle_alpha)\n",
      " beta: 90.0 (name: _cell_angle_beta)\n",
      " gamma: 90.0 (name: _cell_angle_gamma)\n",
      " bravais_lattice: cubic\n",
      " volume: 627.688\n",
      " B matrix is:\n",
      "   0.11679  -0.00000  -0.00000\n",
      "   0.00000   0.11679  -0.00000\n",
      "   0.00000   0.00000   0.11679\n",
      " inversed B matrix is:\n",
      "   8.56212   0.00000   0.00000\n",
      "   0.00000   8.56212   0.00000\n",
      "   0.00000   0.00000   8.56212\n",
      "\n",
      "SpaceGroup:\n",
      " given name: Fd-3m\n",
      " choice: 2\n",
      " name: Fd-3m\n",
      " number: 227\n",
      "\n",
      "AtomSite:\n",
      " label type_symbol x        y        z        adp_type b_iso    occupancy\n",
      " Fe3A     Fe3+     0.125    0.125    0.125    uani     0.0      1.0     \n",
      " Fe3B     Fe3+     0.5      0.5      0.5      uani     0.0      1.0     \n",
      " O1       O2-      0.25521  0.25521  0.25521  uiso     0.0      1.0     \n",
      "\n",
      " for type_symbol 'Fe3+'\n",
      " scat_length_neutron: 0.9450 cm**-12\n",
      " j0_A:  0.3972,  j0_a: 13.2442,  j0_B:  0.6295,  j0_b:  4.9034\n",
      " j0_C: -0.0314,  j0_c:  0.3496,  j0_D:  0.0044\n",
      " j2_A:  1.3602,  j2_a: 11.9976,  j2_B:  1.5188,  j2_b:  5.0025\n",
      " j2_C:  0.4705,  j2_c:  1.9914,  j2_D:  0.0038\n",
      "\n",
      " for type_symbol 'O2-'\n",
      " scat_length_neutron: 0.5803 cm**-12\n",
      " j0_A:  0.9990,  j0_a: 12.0965,  j0_B:  0.2885,  j0_b:  0.1291\n",
      " j0_C:  0.1143,  j0_c: -0.2297,  j0_D: -0.4068\n",
      " j2_A:  0.0000,  j2_a:  0.0000,  j2_B:  0.0000,  j2_b:  0.0000\n",
      " j2_C:  0.0000,  j2_c:  0.0000,  j2_D:  0.0000\n",
      "\n",
      "AtomSiteAniso:\n",
      " label    u_11     u_22     u_33     u_12     u_13     u_23    \n",
      " Fe3A     0.0      0.0      0.0      0.0      0.0      0.0     \n",
      " Fe3B     0.0      0.0      0.0      0.0      0.0      0.0     \n",
      "\n",
      "AtomSiteMagnetism:\n",
      " label    kappa    lande   \n",
      " Fe3A     1.0()    2.0     \n",
      " Fe3B     1.0      2.0()   \n",
      "\n",
      "AtomSiteMagnetismAniso:\n",
      " label    chi_type chi_11   chi_22   chi_33   chi_12   chi_13   chi_23   \n",
      " Fe3A     cani     -3.468() -3.468   -3.468   0.0      0.0      0.0     \n",
      " Fe3B     cani     3.041    3.041    3.041    0.0      0.0      0.0     \n",
      "\n"
     ]
    }
   ],
   "source": [
    "print(crystal)"
   ]
  },
  {
   "cell_type": "markdown",
   "metadata": {
    "scrolled": true
   },
   "source": [
    "## Print to cif"
   ]
  },
  {
   "cell_type": "code",
   "execution_count": 3,
   "metadata": {},
   "outputs": [
    {
     "name": "stdout",
     "output_type": "stream",
     "text": [
      "data_Fe3O4\n",
      "_cell_length_a 8.56212()\n",
      "_cell_length_b 8.56212\n",
      "_cell_length_c 8.56212\n",
      "_cell_angle_alpha 90.0\n",
      "_cell_angle_beta 90.0\n",
      "_cell_angle_gamma 90.0\n",
      "\n",
      "_space_group_name_H-M_alt Fd-3m\n",
      "_space_group_it_coordinate_system_code 2\n",
      "\n",
      "\n",
      "loop_\n",
      "_atom_site_label\n",
      "_atom_site_type_symbol\n",
      "_atom_site_fract_x\n",
      "_atom_site_fract_y\n",
      "_atom_site_fract_z\n",
      "_atom_site_adp_type\n",
      "_atom_site_B_iso_or_equiv\n",
      "_atom_site_occupancy\n",
      "Fe3A Fe3+ 0.125 0.125 0.125 uani 0.0 1.0\n",
      "Fe3B Fe3+ 0.5 0.5 0.5 uani 0.0 1.0\n",
      "O1 O2- 0.25521 0.25521 0.25521 uiso 0.0 1.0\n",
      "\n",
      "loop_\n",
      "_atom_site_aniso_label\n",
      "_atom_site_aniso_u_11\n",
      "_atom_site_aniso_u_22\n",
      "_atom_site_aniso_u_33\n",
      "_atom_site_aniso_u_12\n",
      "_atom_site_aniso_u_13\n",
      "_atom_site_aniso_u_23\n",
      "Fe3A 0.0 0.0 0.0 0.0 0.0 0.0\n",
      "Fe3B 0.0 0.0 0.0 0.0 0.0 0.0\n",
      "\n",
      "loop_\n",
      "_atom_site_magnetism_label\n",
      "_atom_site_magnetism_lande\n",
      "_atom_site_magnetism_kappa\n",
      "Fe3A 2.0 1.0()\n",
      "Fe3B 2.0() 1.0\n",
      "\n",
      "loop_\n",
      "_atom_site_magnetism_aniso_label\n",
      "_atom_site_magnetism_aniso_chi_type\n",
      "_atom_site_magnetism_aniso_chi_11\n",
      "_atom_site_magnetism_aniso_chi_22\n",
      "_atom_site_magnetism_aniso_chi_33\n",
      "_atom_site_magnetism_aniso_chi_12\n",
      "_atom_site_magnetism_aniso_chi_13\n",
      "_atom_site_magnetism_aniso_chi_23\n",
      "Fe3A cani -3.468() -3.468 -3.468 0.0 0.0 0.0\n",
      "Fe3B cani 3.041 3.041 3.041 0.0 0.0 0.0\n",
      "\n"
     ]
    }
   ],
   "source": [
    "print(crystal.to_cif)"
   ]
  },
  {
   "cell_type": "code",
   "execution_count": 2,
   "metadata": {},
   "outputs": [
    {
     "name": "stdout",
     "output_type": "stream",
     "text": [
      "OrientMatrix:\n",
      "wavelength:   1.400 Angstrem\n",
      "offset gamma: 0.000 deg.\n",
      "offset nu:    0.000 deg.\n",
      "\n",
      "Orientation matrix U:\n",
      "    -0.21409     0.25572     0.94275\n",
      "     0.64687    -0.68606     0.33299\n",
      "     0.73193     0.68112    -0.01854\n",
      "\n",
      "The UB matrix (CCSL):\n",
      "     0.06342    -0.06726     0.03236\n",
      "     0.02099    -0.02507    -0.09160\n",
      "     0.07176     0.06677    -0.00180\n",
      "\n",
      "The UB matrix (from):\n",
      "    -0.02099     0.02507     0.09160\n",
      "     0.06342    -0.06726     0.03236\n",
      "     0.07176     0.06677    -0.00180\n",
      "Cell: \n",
      " a: 10.199742003873776\n",
      " b: 10.200553168855581\n",
      " c: 10.291808603385164\n",
      " alpha: 89.99814988933248\n",
      " beta: 90.00252121815367\n",
      " gamma: 89.9974170824593\n",
      " bravais_lattice: triclinic\n",
      " volume: 1070.791\n",
      " B matrix is:\n",
      "   0.09804  -0.00000   0.00000\n",
      "   0.00000   0.09803  -0.00000\n",
      "   0.00000   0.00000   0.09716\n",
      " inversed B matrix is:\n",
      "  10.19974   0.00046  -0.00045\n",
      "   0.00000  10.20055   0.00033\n",
      "   0.00000   0.00000  10.29181\n"
     ]
    }
   ],
   "source": [
    "import numpy\n",
    "from neupy.f_experiment.cl_orient_matrix import OrientMatrix\n",
    "or_mat = OrientMatrix()\n",
    "ub_ccsl = numpy.array([[0.06342,-0.06726,0.03236],\n",
    "[0.02099,-0.02507,-0.09160],\n",
    "[0.07176,0.06677,-0.00180]], dtype=float)\n",
    "or_mat.ub_ccsl = ub_ccsl\n",
    "print(or_mat)"
   ]
  },
  {
   "cell_type": "code",
   "execution_count": 3,
   "metadata": {},
   "outputs": [
    {
     "name": "stdout",
     "output_type": "stream",
     "text": [
      "OrientMatrix:\n",
      "wavelength:   1.400 Angstrem\n",
      "offset gamma: 0.000 deg.\n",
      "offset nu:    0.500 deg.\n",
      "\n",
      "Orientation matrix U:\n",
      "    -0.89369     0.20746     0.39783\n",
      "    -0.36781     0.16906    -0.91441\n",
      "    -0.25696    -0.96352    -0.07478\n",
      "\n",
      "The UB matrix (CCSL):\n",
      "    -0.05840     0.01460    -0.16630\n",
      "     0.14190    -0.01790    -0.00950\n",
      "    -0.04080    -0.08330    -0.02710\n",
      "\n",
      "The UB matrix (from):\n",
      "    -0.14190     0.01790     0.00950\n",
      "    -0.05840     0.01460    -0.16630\n",
      "    -0.04080    -0.08330    -0.02710\n",
      "Cell: \n",
      " a: 6.732482731475852\n",
      " b: 11.568265587049897\n",
      " c: 6.334260874265305\n",
      " alpha: 89.9884546063298\n",
      " beta: 110.69525619479394\n",
      " gamma: 90.0274714820611\n",
      " bravais_lattice: triclinic\n",
      " volume: 461.499\n",
      " B matrix is:\n",
      "   0.15878   0.00004   0.05964\n",
      "   0.00000   0.08644  -0.00003\n",
      "   0.00000   0.00000   0.15787\n",
      " inversed B matrix is:\n",
      "   6.29806  -0.00275  -2.37924\n",
      "   0.00000  11.56827   0.00233\n",
      "   0.00000   0.00000   6.33426\n"
     ]
    }
   ],
   "source": [
    "f_name = r\"C:\\Users\\ikibalin\\Documents\\documents\\working_comp\\python\\calc_ubfrom\\ubfrom.raf\"\n",
    "\n",
    "or_mat.read_ubfrom(f_name)\n",
    "print(or_mat)\n"
   ]
  }
 ],
 "metadata": {
  "kernelspec": {
   "display_name": "Python 3",
   "language": "python",
   "name": "python3"
  },
  "language_info": {
   "codemirror_mode": {
    "name": "ipython",
    "version": 3
   },
   "file_extension": ".py",
   "mimetype": "text/x-python",
   "name": "python",
   "nbconvert_exporter": "python",
   "pygments_lexer": "ipython3",
   "version": "3.7.3"
  }
 },
 "nbformat": 4,
 "nbformat_minor": 2
}
