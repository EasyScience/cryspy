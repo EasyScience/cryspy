{
 "cells": [
  {
   "cell_type": "markdown",
   "metadata": {},
   "source": [
    "# AtomSite object\n",
    "## Load from cif"
   ]
  },
  {
   "cell_type": "code",
   "execution_count": 1,
   "metadata": {},
   "outputs": [
    {
     "data": {
      "text/plain": [
       "True"
      ]
     },
     "execution_count": 1,
     "metadata": {},
     "output_type": "execute_result"
    }
   ],
   "source": [
    "from neupy import AtomSite\n",
    "import pystar\n",
    "f_name = \"full.rcif\"\n",
    "fid = open(f_name, \"r\")\n",
    "cif_1 = fid.read()\n",
    "fid.close()\n",
    "\n",
    "atom_site = AtomSite()\n",
    "atom_site.from_cif(cif_1)"
   ]
  },
  {
   "cell_type": "code",
   "execution_count": 5,
   "metadata": {},
   "outputs": [
    {
     "name": "stdout",
     "output_type": "stream",
     "text": [
      "AtomSite:\n",
      " label type_symbol x        y        z        adp_type b_iso    occupancy\n",
      " Fe3A     Fe       0.125    0.125    0.125    uani     0.0      1.0     \n",
      " Fe3B     Fe       0.5      0.5      0.5      uani     0.0      1.0     \n",
      " O1       O        0.25521  0.25521  0.25521  uiso     0.0      1.0     \n"
     ]
    }
   ],
   "source": [
    "print(atom_site)"
   ]
  },
  {
   "cell_type": "markdown",
   "metadata": {},
   "source": [
    "## Print to cif"
   ]
  },
  {
   "cell_type": "code",
   "execution_count": 4,
   "metadata": {},
   "outputs": [
    {
     "name": "stdout",
     "output_type": "stream",
     "text": [
      "loop_\n",
      "_atom_site_label\n",
      "_atom_site_type_symbol\n",
      "_atom_site_fract_x\n",
      "_atom_site_fract_y\n",
      "_atom_site_fract_z\n",
      "_atom_site_adp_type\n",
      "_atom_site_B_iso_or_equiv\n",
      "_atom_site_occupancy\n",
      "Fe3A Fe 0.125 0.125 0.125 uani 0.0 1.0\n",
      "Fe3B Fe 0.5 0.5 0.5 uani 0.0 1.0\n",
      "O1 O 0.25521 0.25521 0.25521 uiso 0.0 1.0\n"
     ]
    }
   ],
   "source": [
    "print(atom_site.to_cif)"
   ]
  }
 ],
 "metadata": {
  "kernelspec": {
   "display_name": "Python 3",
   "language": "python",
   "name": "python3"
  },
  "language_info": {
   "codemirror_mode": {
    "name": "ipython",
    "version": 3
   },
   "file_extension": ".py",
   "mimetype": "text/x-python",
   "name": "python",
   "nbconvert_exporter": "python",
   "pygments_lexer": "ipython3",
   "version": "3.7.3"
  }
 },
 "nbformat": 4,
 "nbformat_minor": 2
}
