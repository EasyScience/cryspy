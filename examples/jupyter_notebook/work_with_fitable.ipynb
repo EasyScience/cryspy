{
 "cells": [
  {
   "cell_type": "markdown",
   "metadata": {},
   "source": [
    "# Fitable class\n",
    "## Basic operations "
   ]
  },
  {
   "cell_type": "code",
   "execution_count": 1,
   "metadata": {},
   "outputs": [
    {
     "ename": "SyntaxError",
     "evalue": "invalid syntax (cl_fitable.py, line 43)",
     "output_type": "error",
     "traceback": [
      "Traceback \u001b[1;36m(most recent call last)\u001b[0m:\n",
      "  File \u001b[0;32m\"C:\\Users\\ikibalin\\AppData\\Local\\Programs\\Python\\Python37\\lib\\site-packages\\IPython\\core\\interactiveshell.py\"\u001b[0m, line \u001b[0;32m3326\u001b[0m, in \u001b[0;35mrun_code\u001b[0m\n    exec(code_obj, self.user_global_ns, self.user_ns)\n",
      "  File \u001b[0;32m\"<ipython-input-1-783b766209e5>\"\u001b[0m, line \u001b[0;32m1\u001b[0m, in \u001b[0;35m<module>\u001b[0m\n    from neupy import Fitable\n",
      "\u001b[1;36m  File \u001b[1;32m\"c:\\users\\ikibalin\\documents\\github\\rhochi\\neupy\\__init__.py\"\u001b[1;36m, line \u001b[1;32m6\u001b[1;36m, in \u001b[1;35m<module>\u001b[1;36m\u001b[0m\n\u001b[1;33m    from neupy.f_common.cl_fitable import Fitable\u001b[0m\n",
      "\u001b[1;36m  File \u001b[1;32m\"c:\\users\\ikibalin\\documents\\github\\rhochi\\neupy\\f_common\\cl_fitable.py\"\u001b[1;36m, line \u001b[1;32m43\u001b[0m\n\u001b[1;33m    if  != -1:\u001b[0m\n\u001b[1;37m         ^\u001b[0m\n\u001b[1;31mSyntaxError\u001b[0m\u001b[1;31m:\u001b[0m invalid syntax\n"
     ]
    }
   ],
   "source": [
    "from neupy import Fitable\n",
    "ff_1 = Fitable(20, 10, name=\"beta\")\n",
    "ff_2 = Fitable(32, 12, True)\n",
    "print(ff_1)\n",
    "print(ff_2)\n",
    "print(ff_1+ff_2)\n",
    "print(ff_1-ff_2)\n",
    "print(ff_1+2)\n",
    "print(ff_1-2)\n",
    "print(2*ff_1)\n",
    "print(2.*ff_1)\n",
    "print(ff_1*ff_2)\n",
    "float(ff_1)"
   ]
  },
  {
   "cell_type": "code",
   "execution_count": null,
   "metadata": {},
   "outputs": [],
   "source": [
    "\"1268.321(32456)\".rstrip(\"(\")"
   ]
  }
 ],
 "metadata": {
  "kernelspec": {
   "display_name": "Python 3",
   "language": "python",
   "name": "python3"
  },
  "language_info": {
   "codemirror_mode": {
    "name": "ipython",
    "version": 3
   },
   "file_extension": ".py",
   "mimetype": "text/x-python",
   "name": "python",
   "nbconvert_exporter": "python",
   "pygments_lexer": "ipython3",
   "version": "3.7.3"
  }
 },
 "nbformat": 4,
 "nbformat_minor": 2
}
