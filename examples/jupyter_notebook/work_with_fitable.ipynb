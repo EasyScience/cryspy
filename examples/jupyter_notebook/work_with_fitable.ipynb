{
 "cells": [
  {
   "cell_type": "markdown",
   "metadata": {},
   "source": [
    "# Fitable class\n",
    "## Basic operations "
   ]
  },
  {
   "cell_type": "code",
   "execution_count": 3,
   "metadata": {},
   "outputs": [
    {
     "name": "stdout",
     "output_type": "stream",
     "text": [
      " 20(10) (name: beta, refinement: False)\n",
      " 32(12) (refinement: True)\n",
      " 52(16) (refinement: True)\n",
      " -12(16) (refinement: True)\n",
      "22.0\n",
      "18.0\n",
      "40.0\n",
      "40.0\n",
      " 640(400) (refinement: True)\n"
     ]
    },
    {
     "data": {
      "text/plain": [
       "20.0"
      ]
     },
     "execution_count": 3,
     "metadata": {},
     "output_type": "execute_result"
    }
   ],
   "source": [
    "from neupy import Fitable\n",
    "ff_1 = Fitable(20, 10, name=\"beta\")\n",
    "ff_2 = Fitable(32, 12, True)\n",
    "print(ff_1)\n",
    "print(ff_2)\n",
    "print(ff_1+ff_2)\n",
    "print(ff_1-ff_2)\n",
    "print(ff_1+2)\n",
    "print(ff_1-2)\n",
    "print(2*ff_1)\n",
    "print(2.*ff_1)\n",
    "print(ff_1*ff_2)\n",
    "float(ff_1)"
   ]
  },
  {
   "cell_type": "code",
   "execution_count": null,
   "metadata": {},
   "outputs": [],
   "source": []
  }
 ],
 "metadata": {
  "kernelspec": {
   "display_name": "Python 3",
   "language": "python",
   "name": "python3"
  },
  "language_info": {
   "codemirror_mode": {
    "name": "ipython",
    "version": 3
   },
   "file_extension": ".py",
   "mimetype": "text/x-python",
   "name": "python",
   "nbconvert_exporter": "python",
   "pygments_lexer": "ipython3",
   "version": "3.7.3"
  }
 },
 "nbformat": 4,
 "nbformat_minor": 2
}
