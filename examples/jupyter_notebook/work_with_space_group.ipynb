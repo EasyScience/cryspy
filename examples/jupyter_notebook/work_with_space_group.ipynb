{
 "cells": [
  {
   "cell_type": "markdown",
   "metadata": {},
   "source": [
    "# SpaceGroup class\n",
    "## Load from cif"
   ]
  },
  {
   "cell_type": "code",
   "execution_count": 1,
   "metadata": {},
   "outputs": [
    {
     "name": "stdout",
     "output_type": "stream",
     "text": [
      "SpaceGroup:\n",
      " given name: Fd-3m\n",
      " choice: 2\n",
      " name: Fd-3m\n",
      " number: 227\n",
      " inversion center at (0.000, 0.000, 0.000)\n",
      " x, y, z\n",
      " 0.750-x, 0.250-y, 0.500+z\n",
      " 0.250-x, 0.500+y, 0.750-z\n",
      " 0.500+x, 0.750-y, 0.250-z\n",
      " z, x, y\n",
      " 0.500+z, 0.750-x, 0.250-y\n",
      " 0.750-z, 0.250-x, 0.500+y\n",
      " 0.250-z, 0.500+x, 0.750-y\n",
      " y, z, x\n",
      " 0.250-y, 0.500+z, 0.750-x\n",
      " 0.500+y, 0.750-z, 0.250-x\n",
      " 0.750-y, 0.250-z, 0.500+x\n",
      " 0.750+y, 0.250+x, 0.500-z\n",
      " -y, -x, -z\n",
      " 0.250+y, 0.500-x, 0.750+z\n",
      " 0.500-y, 0.750+x, 0.250+z\n",
      " 0.750+x, 0.250+z, 0.500-y\n",
      " 0.500-x, 0.750+z, 0.250+y\n",
      " -x, -z, -y\n",
      " 0.250+x, 0.500-z, 0.750+y\n",
      " 0.750+z, 0.250+y, 0.500-x\n",
      " 0.250+z, 0.500-y, 0.750+x\n",
      " 0.500-z, 0.750+y, 0.250+x\n",
      " -z, -y, -x\n",
      " directory: 'c:\\users\\ikibalin\\documents\\github\\rhochi\\neupy\\f_crystal'\n"
     ]
    }
   ],
   "source": [
    "from neupy import SpaceGroup\n",
    "import pycifstar\n",
    "f_name = \"full.rcif\"\n",
    "fid = open(f_name, \"r\")\n",
    "string = fid.read()\n",
    "fid.close()\n",
    "\n",
    "spgr = SpaceGroup()\n",
    "spgr.from_cif(string)\n",
    "print(spgr)"
   ]
  },
  {
   "cell_type": "markdown",
   "metadata": {},
   "source": [
    "## Print to cif"
   ]
  },
  {
   "cell_type": "code",
   "execution_count": 2,
   "metadata": {},
   "outputs": [
    {
     "name": "stdout",
     "output_type": "stream",
     "text": [
      "_space_group_name_H-M_alt Fd-3m\n",
      "_space_group_it_coordinate_system_code 2\n"
     ]
    }
   ],
   "source": [
    "print(spgr.to_cif)"
   ]
  },
  {
   "cell_type": "code",
   "execution_count": null,
   "metadata": {},
   "outputs": [],
   "source": []
  }
 ],
 "metadata": {
  "kernelspec": {
   "display_name": "Python 3",
   "language": "python",
   "name": "python3"
  },
  "language_info": {
   "codemirror_mode": {
    "name": "ipython",
    "version": 3
   },
   "file_extension": ".py",
   "mimetype": "text/x-python",
   "name": "python",
   "nbconvert_exporter": "python",
   "pygments_lexer": "ipython3",
   "version": "3.7.3"
  }
 },
 "nbformat": 4,
 "nbformat_minor": 2
}
