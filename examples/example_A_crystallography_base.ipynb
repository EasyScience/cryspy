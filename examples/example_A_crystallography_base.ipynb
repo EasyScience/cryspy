{
 "cells": [
  {
   "cell_type": "markdown",
   "metadata": {},
   "source": [
    "# Crystallography base functions defined in section `cryspy/A_function base/function_1_crystallography_base`"
   ]
  },
  {
   "cell_type": "code",
   "execution_count": 1,
   "metadata": {},
   "outputs": [],
   "source": [
    "import os, sys, numpy\n",
    "import os.path\n",
    "f_dir = os.path.join(os.path.dirname(os.getcwd()), \"cryspy\", \"A_functions_base\")\n",
    "sys.path.append(f_dir)\n",
    "import function_1_crystallography_base as fcb"
   ]
  },
  {
   "cell_type": "code",
   "execution_count": 2,
   "metadata": {},
   "outputs": [
    {
     "name": "stdout",
     "output_type": "stream",
     "text": [
      "The full list of defined functions is\n",
      " 1. calc_volume_uc_by_abc_cosines\n",
      " 2. calc_volume_uc_by_abc_angles\n",
      " 3. calc_inverse_d_by_hkl_abc_cosines\n",
      " 4. calc_inverse_d_by_hkl_abc_angles\n",
      " 5. calc_sthovl_by_hkl_abc_cosines\n",
      " 6. calc_sthovl_by_hkl_abc_angles\n"
     ]
    }
   ],
   "source": [
    "print(f\"The full list of defined functions is\")\n",
    "for i_func, func in enumerate(fcb.FUNCTIONS):\n",
    "    print(f\"{i_func+1:2}. {func.__name__:}\")"
   ]
  },
  {
   "cell_type": "markdown",
   "metadata": {},
   "source": [
    "# Volume of unit cell :"
   ]
  },
  {
   "cell_type": "code",
   "execution_count": 3,
   "metadata": {},
   "outputs": [
    {
     "name": "stdout",
     "output_type": "stream",
     "text": [
      "     a     b     c alpha  beta gamma   volume (in angstrem**3)\n",
      " 8.200 7.300 3.200 1.571 1.571 1.571   191.55\n"
     ]
    }
   ],
   "source": [
    "a, b, c = 8.2, 7.3, 3.2\n",
    "alpha, beta, gamma = numpy.pi/2., numpy.pi/2., numpy.pi/2.\n",
    "volume_uc = fcb.calc_volume_uc_by_abc_angles(a,b,c,alpha,beta,gamma)\n",
    "print(f\"     a     b     c alpha  beta gamma   volume (in angstrem**3)\")\n",
    "print(f\" {a:.3f} {b:.3f} {c:.3f} {alpha:.3f} {beta:.3f} {gamma:.3f}   {volume_uc:.2f}\")"
   ]
  },
  {
   "cell_type": "code",
   "execution_count": 4,
   "metadata": {},
   "outputs": [
    {
     "name": "stdout",
     "output_type": "stream",
     "text": [
      "     a     b     c alpha  beta gamma   volume (in angstrem**3)\n",
      " 8.200 7.500 3.200 1.571 1.571 1.571   196.80\n",
      " 8.300 7.400 3.200 1.581 1.571 1.561   196.52\n",
      " 8.400 7.300 3.200 1.591 1.571 1.551   196.15\n"
     ]
    }
   ],
   "source": [
    "np_a = numpy.array([8.2, 8.3, 8.4], dtype=float)\n",
    "np_b = numpy.array([7.5, 7.4, 7.3], dtype=float)\n",
    "np_c = numpy.array([3.2, 3.2, 3.2], dtype=float)\n",
    "np_alpha = numpy.array([0.5*numpy.pi, 0.5*numpy.pi+0.01, 0.5*numpy.pi+0.02], dtype=float)\n",
    "np_beta = numpy.array([0.5*numpy.pi, 0.5*numpy.pi, 0.5*numpy.pi], dtype=float)\n",
    "np_gamma = numpy.array([0.5*numpy.pi, 0.5*numpy.pi-0.01, 0.5*numpy.pi-0.02], dtype=float)\n",
    "np_volume_uc = fcb.calc_volume_uc_by_abc_angles(np_a, np_b, np_c, np_alpha, np_beta, np_gamma)\n",
    "print(f\"     a     b     c alpha  beta gamma   volume (in angstrem**3)\")\n",
    "for a,b,c,alpha,beta,gamma,volume_uc in zip(np_a, np_b, np_c, np_alpha, np_beta, np_gamma, np_volume_uc):\n",
    "    print(f\" {a:.3f} {b:.3f} {c:.3f} {alpha:.3f} {beta:.3f} {gamma:.3f}   {volume_uc:.2f}\")\n"
   ]
  },
  {
   "cell_type": "markdown",
   "metadata": {},
   "source": [
    "# Calculation of $sin(\\theta) / \\lambda$ at given $hkl$"
   ]
  },
  {
   "cell_type": "code",
   "execution_count": 5,
   "metadata": {},
   "outputs": [
    {
     "name": "stdout",
     "output_type": "stream",
     "text": [
      "At   a     b     c alpha  beta gamma (angstrems)\n",
      " 8.400 7.300 3.200 1.591 1.571 1.551\n",
      "\n",
      "  h  k  l     sthovl (inversed angstrems)\n",
      "  0  0  0    0.00000\n",
      "  0  0  1    0.15628\n",
      "  0  0  2    0.31256\n",
      "  0  0  3    0.46884\n",
      "  1  0  0    0.05954\n",
      "  1  0  1    0.16724\n",
      "  1  0  2    0.31818\n",
      "  1  0  3    0.47261\n",
      "  2  0  0    0.11907\n",
      "  2  0  1    0.19647\n",
      "  2  0  2    0.33447\n",
      "  2  0  3    0.48373\n",
      "  0  1  0    0.06852\n",
      "  0  1  1    0.17189\n",
      "  0  1  2    0.32132\n",
      "  0  1  3    0.47518\n",
      "  1  1  0    0.08987\n",
      "  1  1  1    0.18146\n",
      "  1  1  2    0.32654\n",
      "  1  1  3    0.47872\n",
      "  2  1  0    0.13619\n",
      "  2  1  1    0.20832\n",
      "  2  1  2    0.34220\n",
      "  2  1  3    0.48954\n"
     ]
    }
   ],
   "source": [
    "h, k, l = numpy.meshgrid(range(3), range(2), range(4))\n",
    "h, k, l = h.flatten(), k.flatten(), l.flatten()\n",
    "sthovl = fcb.calc_sthovl_by_hkl_abc_angles(h, k, l, a, b, c, alpha, beta, gamma)\n",
    "\n",
    "print(f\"At   a     b     c alpha  beta gamma (angstrems)\")\n",
    "print(f\" {a:.3f} {b:.3f} {c:.3f} {alpha:.3f} {beta:.3f} {gamma:.3f}\\n\")\n",
    "print(f\"  h  k  l     sthovl (inversed angstrems)\")\n",
    "for _h, _k, _l, _sthovl in zip(h, k, l, sthovl):\n",
    "    print(f\"{_h:3}{_k:3}{_l:3}  {_sthovl:9.5f}\")\n"
   ]
  },
  {
   "cell_type": "code",
   "execution_count": null,
   "metadata": {},
   "outputs": [],
   "source": []
  }
 ],
 "metadata": {
  "kernelspec": {
   "display_name": "Python 3",
   "language": "python",
   "name": "python3"
  },
  "language_info": {
   "codemirror_mode": {
    "name": "ipython",
    "version": 3
   },
   "file_extension": ".py",
   "mimetype": "text/x-python",
   "name": "python",
   "nbconvert_exporter": "python",
   "pygments_lexer": "ipython3",
   "version": "3.7.6"
  }
 },
 "nbformat": 4,
 "nbformat_minor": 4
}
