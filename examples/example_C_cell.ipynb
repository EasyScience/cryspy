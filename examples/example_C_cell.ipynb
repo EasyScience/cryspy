{
 "cells": [
  {
   "cell_type": "code",
   "execution_count": 1,
   "metadata": {},
   "outputs": [],
   "source": [
    "import sys\n",
    "import numpy\n",
    "import pandas\n",
    "s_cryspy_future_dir = r\"D:\\documents\\working_comp\\python\\cryspy_future\"\n",
    "sys.path.insert(1, s_cryspy_future_dir)\n",
    "import cryspy_future as cryspy"
   ]
  },
  {
   "cell_type": "code",
   "execution_count": 11,
   "metadata": {},
   "outputs": [],
   "source": [
    "obj1 = cryspy.Cell(length_a=10, length_b=10., length_c=10,\n",
    "                  angle_alpha=90., angle_beta=90., angle_gamma=90.)\n",
    "obj2 = cryspy.Cell(length_a=3., length_b=4., length_c=3.5,\n",
    "                  angle_alpha=90., angle_beta=90., angle_gamma=90.)\n",
    "obj = cryspy.CellL(loop_name=\"fff\")\n",
    "obj.items = [obj1, obj2]"
   ]
  },
  {
   "cell_type": "code",
   "execution_count": 12,
   "metadata": {},
   "outputs": [
    {
     "data": {
      "text/html": [
       "loop_fff<br>_cell_length_a<br>_cell_length_b<br>_cell_length_c<br>_cell_angle_alpha<br>_cell_angle_beta<br>_cell_angle_gamma<br><b>10.00000   10.00000   10.00000   90.00   90.00   90.00  </b><br><b>3.00000    4.00000    3.50000    90.00   90.00   90.00  </b>"
      ],
      "text/plain": [
       "loop_fff\n",
       "_cell_length_a\n",
       "_cell_length_b\n",
       "_cell_length_c\n",
       "_cell_angle_alpha\n",
       "_cell_angle_beta\n",
       "_cell_angle_gamma\n",
       "10.00000   10.00000   10.00000   90.00   90.00   90.00  \n",
       "3.00000    4.00000    3.50000    90.00   90.00   90.00  "
      ]
     },
     "execution_count": 12,
     "metadata": {},
     "output_type": "execute_result"
    }
   ],
   "source": [
    "obj"
   ]
  },
  {
   "cell_type": "code",
   "execution_count": 15,
   "metadata": {},
   "outputs": [
    {
     "data": {
      "text/plain": [
       "(array([6.123234e-17]),\n",
       " array([-6.123234e-17]),\n",
       " array([1.]),\n",
       " array([1.]),\n",
       " array([3.74939946e-33]),\n",
       " array([-6.123234e-17]),\n",
       " array([0.]),\n",
       " array([1.]),\n",
       " array([6.123234e-17]))"
      ]
     },
     "execution_count": 15,
     "metadata": {},
     "output_type": "execute_result"
    }
   ],
   "source": [
    "obj1.calc_m_t(numpy.array([2], dtype=int), numpy.array([0], dtype=int), numpy.array([0], dtype=int))"
   ]
  },
  {
   "cell_type": "code",
   "execution_count": 32,
   "metadata": {},
   "outputs": [
    {
     "data": {
      "text/html": [
       "<table border=\"1\" class=\"dataframe\">\n",
       "  <thead>\n",
       "    <tr style=\"text-align: right;\">\n",
       "      <th></th>\n",
       "      <th>length_a</th>\n",
       "      <th>length_b</th>\n",
       "    </tr>\n",
       "  </thead>\n",
       "  <tbody>\n",
       "    <tr>\n",
       "      <th>0</th>\n",
       "      <td>4.0</td>\n",
       "      <td>5.000000+0.000000j</td>\n",
       "    </tr>\n",
       "    <tr>\n",
       "      <th>1</th>\n",
       "      <td>3.0</td>\n",
       "      <td>2.000000+0.000000j</td>\n",
       "    </tr>\n",
       "  </tbody>\n",
       "</table>"
      ],
      "text/plain": [
       "<__main__.testcls at 0x2115047c0a0>"
      ]
     },
     "execution_count": 32,
     "metadata": {},
     "output_type": "execute_result"
    }
   ],
   "source": [
    "vol"
   ]
  },
  {
   "cell_type": "code",
   "execution_count": 17,
   "metadata": {},
   "outputs": [],
   "source": [
    "ddata = {\"length_a\": numpy.array([4,3], dtype=float), \"length_b\": numpy.array([5,2], dtype=complex)}\n",
    "pandas_data = pandas.DataFrame(ddata)"
   ]
  },
  {
   "cell_type": "code",
   "execution_count": 19,
   "metadata": {},
   "outputs": [
    {
     "data": {
      "text/plain": [
       "'<table border=\"1\" class=\"dataframe\">\\n  <thead>\\n    <tr style=\"text-align: right;\">\\n      <th></th>\\n      <th>length_a</th>\\n      <th>length_b</th>\\n    </tr>\\n  </thead>\\n  <tbody>\\n    <tr>\\n      <th>0</th>\\n      <td>4.0</td>\\n      <td>5.000000+0.000000j</td>\\n    </tr>\\n    <tr>\\n      <th>1</th>\\n      <td>3.0</td>\\n      <td>2.000000+0.000000j</td>\\n    </tr>\\n  </tbody>\\n</table>'"
      ]
     },
     "execution_count": 19,
     "metadata": {},
     "output_type": "execute_result"
    }
   ],
   "source": [
    "pandas_data.to_html()"
   ]
  },
  {
   "cell_type": "code",
   "execution_count": 20,
   "metadata": {},
   "outputs": [
    {
     "data": {
      "text/html": [
       "<table border=\"1\" class=\"dataframe\">\\n  <thead>\\n    <tr style=\"text-align: right;\">\\n      <th></th>\\n      <th>length_a</th>\\n      <th>length_b</th>\\n    </tr>\\n  </thead>\\n  <tbody>\\n    <tr>\\n      <th>0</th>\\n      <td>4.0</td>\\n      <td>5.000000+0.000000j</td>\\n    </tr>\\n    <tr>\\n      <th>1</th>\\n      <td>3.0</td>\\n      <td>2.000000+0.000000j</td>\\n    </tr>\\n  </tbody>\\n</table>\n"
      ],
      "text/plain": [
       "<IPython.core.display.HTML object>"
      ]
     },
     "metadata": {},
     "output_type": "display_data"
    }
   ],
   "source": [
    "%%HTML\n",
    "<table border=\"1\" class=\"dataframe\">\n",
    "<thead>\n",
    "<tr style=\"text-align: right;\">\n",
    "<th></th>\n",
    "<th>length_a</th>\n",
    "<th>length_b</th>\n",
    "</tr>\n",
    "</thead>\n",
    "<tbody>\n",
    "<tr>\n",
    "<th>0</th>\n",
    "<td>4.0</td>\n",
    "<td>5.000000+0.000000j</td>\n",
    "</tr>\n",
    "<tr>\n",
    "<th>1</th>\n",
    "<td>3.0</td>\n",
    "<td>2.000000+0.000000j</td>\n",
    "</tr>\n",
    "</tbody>\n",
    "</table>"
   ]
  },
  {
   "cell_type": "code",
   "execution_count": 11,
   "metadata": {},
   "outputs": [],
   "source": [
    "x = numpy.array([('Rex', 9, 81.0), ('Fido', 3, 27.0)],\n",
    "             dtype=[('name', 'U10'), ('age', 'i4'), ('weight', 'f4')])"
   ]
  },
  {
   "cell_type": "code",
   "execution_count": 22,
   "metadata": {},
   "outputs": [],
   "source": [
    "vv = pandas.DataFrame(x, index=[\"A\", \"B\"])"
   ]
  },
  {
   "cell_type": "code",
   "execution_count": 42,
   "metadata": {},
   "outputs": [
    {
     "data": {
      "text/html": [
       "<div>\n",
       "<style scoped>\n",
       "    .dataframe tbody tr th:only-of-type {\n",
       "        vertical-align: middle;\n",
       "    }\n",
       "\n",
       "    .dataframe tbody tr th {\n",
       "        vertical-align: top;\n",
       "    }\n",
       "\n",
       "    .dataframe thead th {\n",
       "        text-align: right;\n",
       "    }\n",
       "</style>\n",
       "<table border=\"1\" class=\"dataframe\">\n",
       "  <thead>\n",
       "    <tr style=\"text-align: right;\">\n",
       "      <th></th>\n",
       "      <th>name</th>\n",
       "      <th>age</th>\n",
       "      <th>weight</th>\n",
       "    </tr>\n",
       "  </thead>\n",
       "  <tbody>\n",
       "    <tr>\n",
       "      <th>A</th>\n",
       "      <td>Rex</td>\n",
       "      <td>9</td>\n",
       "      <td>81.0</td>\n",
       "    </tr>\n",
       "    <tr>\n",
       "      <th>B</th>\n",
       "      <td>Fido</td>\n",
       "      <td>3</td>\n",
       "      <td>27.0</td>\n",
       "    </tr>\n",
       "  </tbody>\n",
       "</table>\n",
       "</div>"
      ],
      "text/plain": [
       "   name  age  weight\n",
       "A   Rex    9    81.0\n",
       "B  Fido    3    27.0"
      ]
     },
     "execution_count": 42,
     "metadata": {},
     "output_type": "execute_result"
    }
   ],
   "source": [
    "vv"
   ]
  },
  {
   "cell_type": "code",
   "execution_count": 43,
   "metadata": {},
   "outputs": [],
   "source": [
    "name_2 = numpy.array([\"iu\", \"JOIJ\"], dtype=str)"
   ]
  },
  {
   "cell_type": "code",
   "execution_count": 44,
   "metadata": {},
   "outputs": [],
   "source": [
    "vv.name  = name_2"
   ]
  },
  {
   "cell_type": "code",
   "execution_count": 45,
   "metadata": {},
   "outputs": [
    {
     "data": {
      "text/html": [
       "<div>\n",
       "<style scoped>\n",
       "    .dataframe tbody tr th:only-of-type {\n",
       "        vertical-align: middle;\n",
       "    }\n",
       "\n",
       "    .dataframe tbody tr th {\n",
       "        vertical-align: top;\n",
       "    }\n",
       "\n",
       "    .dataframe thead th {\n",
       "        text-align: right;\n",
       "    }\n",
       "</style>\n",
       "<table border=\"1\" class=\"dataframe\">\n",
       "  <thead>\n",
       "    <tr style=\"text-align: right;\">\n",
       "      <th></th>\n",
       "      <th>name</th>\n",
       "      <th>age</th>\n",
       "      <th>weight</th>\n",
       "    </tr>\n",
       "  </thead>\n",
       "  <tbody>\n",
       "    <tr>\n",
       "      <th>A</th>\n",
       "      <td>iu</td>\n",
       "      <td>9</td>\n",
       "      <td>81.0</td>\n",
       "    </tr>\n",
       "    <tr>\n",
       "      <th>B</th>\n",
       "      <td>JOIJ</td>\n",
       "      <td>3</td>\n",
       "      <td>27.0</td>\n",
       "    </tr>\n",
       "  </tbody>\n",
       "</table>\n",
       "</div>"
      ],
      "text/plain": [
       "   name  age  weight\n",
       "A    iu    9    81.0\n",
       "B  JOIJ    3    27.0"
      ]
     },
     "execution_count": 45,
     "metadata": {},
     "output_type": "execute_result"
    }
   ],
   "source": [
    "vv"
   ]
  },
  {
   "cell_type": "code",
   "execution_count": 59,
   "metadata": {},
   "outputs": [
    {
     "name": "stderr",
     "output_type": "stream",
     "text": [
      "C:\\Users\\litar\\anaconda3\\lib\\site-packages\\ipykernel_launcher.py:1: SettingWithCopyWarning: \n",
      "A value is trying to be set on a copy of a slice from a DataFrame\n",
      "\n",
      "See the caveats in the documentation: https://pandas.pydata.org/pandas-docs/stable/user_guide/indexing.html#returning-a-view-versus-a-copy\n",
      "  \"\"\"Entry point for launching an IPython kernel.\n"
     ]
    }
   ],
   "source": [
    "vv.name[\"A\"] = numpy.nan"
   ]
  },
  {
   "cell_type": "code",
   "execution_count": 63,
   "metadata": {},
   "outputs": [
    {
     "data": {
      "text/plain": [
       "str"
      ]
     },
     "execution_count": 63,
     "metadata": {},
     "output_type": "execute_result"
    }
   ],
   "source": [
    "type(vv.name.B)"
   ]
  },
  {
   "cell_type": "code",
   "execution_count": 57,
   "metadata": {},
   "outputs": [],
   "source": [
    "x[\"name\"][0] = \"New name of STD\""
   ]
  },
  {
   "cell_type": "code",
   "execution_count": 58,
   "metadata": {},
   "outputs": [
    {
     "data": {
      "text/plain": [
       "array([('New name o', 9, 81.), ('Fido', 3, 27.)],\n",
       "      dtype=[('name', '<U10'), ('age', '<i4'), ('weight', '<f4')])"
      ]
     },
     "execution_count": 58,
     "metadata": {},
     "output_type": "execute_result"
    }
   ],
   "source": [
    "x"
   ]
  },
  {
   "cell_type": "code",
   "execution_count": 16,
   "metadata": {},
   "outputs": [],
   "source": [
    "\"\"\"\n",
    "expression for eqution out of the plane\n",
    "\"\"\"\n",
    "\n",
    "import sympy\n",
    "\n",
    "sympy.init_printing()\n",
    "\n",
    "phi, alpha, H, p = sympy.symbols(\"phi alpha H p\")\n",
    "th_11, th_12, th_13 = sympy.symbols(\"theta_11 theta_12 theta_13\")\n",
    "th_21, th_22, th_23 = sympy.symbols(\"theta_21 theta_22 theta_23\")\n",
    "th_31, th_32, th_33 = sympy.symbols(\"theta_31 theta_32 theta_33\")\n",
    "\n",
    "\n",
    "THETA = sympy.Matrix([[th_11, th_12, th_13], [th_21, th_22, th_23], [th_31, th_32, th_33]])\n",
    "\n",
    "z = H * sympy.cos(alpha)\n",
    "r_xy = H * sympy.sin(alpha)\n",
    "\n",
    "H_loc_new = sympy.Matrix([r_xy*sympy.cos(phi), r_xy*sympy.sin(phi), z]) \n",
    "P_loc_new = sympy.Matrix([r_xy*sympy.cos(phi)*p/H, r_xy*sympy.sin(phi)*p/H, z*p/H])\n",
    "\n",
    "\n",
    "M_loc_new = THETA*H_loc_new\n",
    "\n",
    "M_loc_new_perp_k = sympy.Matrix([M_loc_new[0], M_loc_new[1], 0])\n",
    "\n",
    "M_loc_new_perp_k_sq = (M_loc_new_perp_k.T * M_loc_new_perp_k)\n",
    "\n",
    "M_loc_new_perp_k_sq_aver = sympy.integrate(M_loc_new_perp_k_sq/(2*sympy.pi),(phi,0,2*sympy.pi))\n",
    "\n",
    "M_loc_new_perp_k_sq_aver_simple = sympy.simplify(M_loc_new_perp_k_sq_aver)\n",
    "\n",
    "#in equatorial plane\n",
    "M_loc_new_perp_k_sq_aver_simple.subs(alpha, sympy.pi/2)\n",
    "\n",
    "#general expression\n",
    "M_loc_new_perp_k_sq_aver_simple\n",
    "\n",
    "\n",
    "MP_perp_aver = sympy.integrate(M_loc_new_perp_k.T*P_loc_new/(2*sympy.pi), (phi, 0, 2*sympy.pi))\n",
    "\n",
    "#general expression\n",
    "MP_perp_aver_simple = sympy.simplify(MP_perp_aver)\n",
    "\n",
    "\n",
    "\n",
    "\n",
    "\n",
    "\n",
    "chi_11, chi_12, chi_13 = sympy.symbols(\"chi_11 chi_12 chi_13\")\n",
    "chi_22, chi_23 = sympy.symbols(\"chi_22 chi_23\")\n",
    "chi_33 = sympy.symbols(\"chi_33\")\n",
    "chi_21, chi_31, chi_32 = chi_12, chi_13, chi_23\n",
    "\n",
    "CHI = sympy.Matrix([[chi_11, chi_12, chi_13], [chi_21, chi_22, chi_23], [chi_31, chi_32, chi_33]])\n",
    "\n",
    "al_e, be_e, g_e = sympy.symbols(\"alpha_E beta_E gamma_E\")\n",
    "\n",
    "t_11 = sympy.cos(al_e)*sympy.cos(g_e)-sympy.sin(al_e)*sympy.cos(be_e)*sympy.sin(g_e)\n",
    "t_12 = -sympy.cos(al_e)*sympy.sin(g_e)-sympy.sin(al_e)*sympy.cos(be_e)*sympy.cos(g_e)\n",
    "t_13 = sympy.sin(al_e)*sympy.sin(be_e)\n",
    "\n",
    "t_21 = sympy.sin(al_e)*sympy.cos(g_e)-sympy.cos(al_e)*sympy.cos(be_e)*sympy.sin(g_e)\n",
    "t_22 = -sympy.sin(al_e)*sympy.sin(g_e)+sympy.cos(al_e)*sympy.cos(be_e)*sympy.cos(g_e)\n",
    "t_23 = -sympy.cos(al_e)*sympy.sin(be_e)\n",
    "\n",
    "t_31 = sympy.sin(be_e)*sympy.sin(g_e)\n",
    "t_32 = sympy.sin(be_e)*sympy.cos(g_e)\n",
    "t_33 = sympy.cos(be_e)\n",
    "\n",
    "T = sympy.Matrix([[t_11, t_12, t_13],\n",
    "                  [t_21, t_22, t_23],\n",
    "                  [t_31, t_32, t_33]])\n",
    "\n",
    "SIGMA = T.T*CHI*T\n",
    "SIGMA_simple = sympy.simplify(SIGMA.subs(g_e, 0))\n",
    "\n",
    "SIGMA_11 = sympy.simplify(SIGMA_simple[0,0])\n",
    "SIGMA_12 = sympy.simplify(SIGMA_simple[0,1])\n",
    "SIGMA_13 = sympy.simplify(SIGMA_simple[0,2])\n",
    "\n",
    "SIGMA_21 = sympy.simplify(SIGMA_simple[1,0])\n",
    "SIGMA_22 = sympy.simplify(SIGMA_simple[1,1])\n",
    "SIGMA_23 = sympy.simplify(SIGMA_simple[1,2])\n",
    "\n",
    "SIGMA_31 = sympy.simplify(SIGMA_simple[2,0])\n",
    "SIGMA_32 = sympy.simplify(SIGMA_simple[2,1])\n",
    "SIGMA_33 = sympy.simplify(SIGMA_simple[2,2])\n",
    "\n",
    "\n",
    "check_12 = sympy.simplify(SIGMA_12 - SIGMA_21) \n",
    "check_13 = sympy.simplify(SIGMA_13 - SIGMA_31) \n",
    "check_23 = sympy.simplify(SIGMA_23 - SIGMA_32)\n",
    "\n"
   ]
  },
  {
   "cell_type": "code",
   "execution_count": 17,
   "metadata": {},
   "outputs": [
    {
     "data": {
      "image/png": "[encoded data removed]",
      "text/latex": [
       "$\\displaystyle \\left[\\begin{matrix}- \\sin{\\left(\\alpha_{E} \\right)} \\sin{\\left(\\gamma_{E} \\right)} \\cos{\\left(\\beta_{E} \\right)} + \\cos{\\left(\\alpha_{E} \\right)} \\cos{\\left(\\gamma_{E} \\right)} & - \\sin{\\left(\\alpha_{E} \\right)} \\cos{\\left(\\beta_{E} \\right)} \\cos{\\left(\\gamma_{E} \\right)} - \\sin{\\left(\\gamma_{E} \\right)} \\cos{\\left(\\alpha_{E} \\right)} & \\sin{\\left(\\alpha_{E} \\right)} \\sin{\\left(\\beta_{E} \\right)}\\\\\\sin{\\left(\\alpha_{E} \\right)} \\cos{\\left(\\gamma_{E} \\right)} - \\sin{\\left(\\gamma_{E} \\right)} \\cos{\\left(\\alpha_{E} \\right)} \\cos{\\left(\\beta_{E} \\right)} & - \\sin{\\left(\\alpha_{E} \\right)} \\sin{\\left(\\gamma_{E} \\right)} + \\cos{\\left(\\alpha_{E} \\right)} \\cos{\\left(\\beta_{E} \\right)} \\cos{\\left(\\gamma_{E} \\right)} & - \\sin{\\left(\\beta_{E} \\right)} \\cos{\\left(\\alpha_{E} \\right)}\\\\\\sin{\\left(\\beta_{E} \\right)} \\sin{\\left(\\gamma_{E} \\right)} & \\sin{\\left(\\beta_{E} \\right)} \\cos{\\left(\\gamma_{E} \\right)} & \\cos{\\left(\\beta_{E} \\right)}\\end{matrix}\\right]$"
      ],
      "text/plain": [
       "⎡-sin(α_E)⋅sin(γ_E)⋅cos(β_E) + cos(α_E)⋅cos(γ_E)  -sin(α_E)⋅cos(β_E)⋅cos(γ_E) \n",
       "⎢                                                                             \n",
       "⎢sin(α_E)⋅cos(γ_E) - sin(γ_E)⋅cos(α_E)⋅cos(β_E)   -sin(α_E)⋅sin(γ_E) + cos(α_E\n",
       "⎢                                                                             \n",
       "⎣               sin(β_E)⋅sin(γ_E)                                sin(β_E)⋅cos(\n",
       "\n",
       "- sin(γ_E)⋅cos(α_E)  sin(α_E)⋅sin(β_E) ⎤\n",
       "                                       ⎥\n",
       ")⋅cos(β_E)⋅cos(γ_E)  -sin(β_E)⋅cos(α_E)⎥\n",
       "                                       ⎥\n",
       "γ_E)                      cos(β_E)     ⎦"
      ]
     },
     "execution_count": 17,
     "metadata": {},
     "output_type": "execute_result"
    }
   ],
   "source": [
    "T"
   ]
  },
  {
   "cell_type": "code",
   "execution_count": 18,
   "metadata": {},
   "outputs": [
    {
     "data": {
      "image/png": "[encoded data removed]",
      "text/latex": [
       "$\\displaystyle \\left[\\begin{matrix}\\chi_{11} & \\chi_{12} & \\chi_{13}\\\\\\chi_{12} & \\chi_{22} & \\chi_{23}\\\\\\chi_{13} & \\chi_{23} & \\chi_{33}\\end{matrix}\\right]$"
      ],
      "text/plain": [
       "⎡χ₁₁  χ₁₂  χ₁₃⎤\n",
       "⎢             ⎥\n",
       "⎢χ₁₂  χ₂₂  χ₂₃⎥\n",
       "⎢             ⎥\n",
       "⎣χ₁₃  χ₂₃  χ₃₃⎦"
      ]
     },
     "execution_count": 18,
     "metadata": {},
     "output_type": "execute_result"
    }
   ],
   "source": [
    "CHI"
   ]
  },
  {
   "cell_type": "code",
   "execution_count": 21,
   "metadata": {},
   "outputs": [
    {
     "data": {
      "image/png": "[encoded data removed]",
      "text/latex": [
       "$\\displaystyle \\left[\\begin{matrix}\\chi_{11} \\cos^{2}{\\left(\\alpha_{E} \\right)} + \\chi_{12} \\sin{\\left(2 \\alpha_{E} \\right)} + \\chi_{22} \\sin^{2}{\\left(\\alpha_{E} \\right)} & - \\left(\\chi_{11} \\cos{\\left(\\alpha_{E} \\right)} + \\chi_{12} \\sin{\\left(\\alpha_{E} \\right)}\\right) \\sin{\\left(\\alpha_{E} \\right)} \\cos{\\left(\\beta_{E} \\right)} + \\left(\\chi_{12} \\cos{\\left(\\alpha_{E} \\right)} + \\chi_{22} \\sin{\\left(\\alpha_{E} \\right)}\\right) \\cos{\\left(\\alpha_{E} \\right)} \\cos{\\left(\\beta_{E} \\right)} + \\left(\\chi_{13} \\cos{\\left(\\alpha_{E} \\right)} + \\chi_{23} \\sin{\\left(\\alpha_{E} \\right)}\\right) \\sin{\\left(\\beta_{E} \\right)} & \\left(\\chi_{11} \\cos{\\left(\\alpha_{E} \\right)} + \\chi_{12} \\sin{\\left(\\alpha_{E} \\right)}\\right) \\sin{\\left(\\alpha_{E} \\right)} \\sin{\\left(\\beta_{E} \\right)} - \\left(\\chi_{12} \\cos{\\left(\\alpha_{E} \\right)} + \\chi_{22} \\sin{\\left(\\alpha_{E} \\right)}\\right) \\sin{\\left(\\beta_{E} \\right)} \\cos{\\left(\\alpha_{E} \\right)} + \\left(\\chi_{13} \\cos{\\left(\\alpha_{E} \\right)} + \\chi_{23} \\sin{\\left(\\alpha_{E} \\right)}\\right) \\cos{\\left(\\beta_{E} \\right)}\\\\\\left(- \\chi_{11} \\sin{\\left(\\alpha_{E} \\right)} \\cos{\\left(\\beta_{E} \\right)} + \\chi_{12} \\cos{\\left(\\alpha_{E} \\right)} \\cos{\\left(\\beta_{E} \\right)} + \\chi_{13} \\sin{\\left(\\beta_{E} \\right)}\\right) \\cos{\\left(\\alpha_{E} \\right)} + \\left(- \\chi_{12} \\sin{\\left(\\alpha_{E} \\right)} \\cos{\\left(\\beta_{E} \\right)} + \\chi_{22} \\cos{\\left(\\alpha_{E} \\right)} \\cos{\\left(\\beta_{E} \\right)} + \\chi_{23} \\sin{\\left(\\beta_{E} \\right)}\\right) \\sin{\\left(\\alpha_{E} \\right)} & \\chi_{11} \\sin^{2}{\\left(\\alpha_{E} \\right)} \\cos^{2}{\\left(\\beta_{E} \\right)} - 2 \\chi_{12} \\sin{\\left(\\alpha_{E} \\right)} \\cos{\\left(\\alpha_{E} \\right)} \\cos^{2}{\\left(\\beta_{E} \\right)} - \\frac{\\chi_{13} \\left(\\cos{\\left(\\alpha_{E} - 2 \\beta_{E} \\right)} - \\cos{\\left(\\alpha_{E} + 2 \\beta_{E} \\right)}\\right)}{2} + \\chi_{22} \\cos^{2}{\\left(\\alpha_{E} \\right)} \\cos^{2}{\\left(\\beta_{E} \\right)} + \\frac{\\chi_{23} \\left(- \\sin{\\left(\\alpha_{E} - 2 \\beta_{E} \\right)} + \\sin{\\left(\\alpha_{E} + 2 \\beta_{E} \\right)}\\right)}{2} + \\chi_{33} \\sin^{2}{\\left(\\beta_{E} \\right)} & - \\frac{\\chi_{11} \\sin{\\left(2 \\beta_{E} \\right)}}{4} - \\frac{\\chi_{11} \\sin{\\left(2 \\alpha_{E} - 2 \\beta_{E} \\right)}}{8} + \\frac{\\chi_{11} \\sin{\\left(2 \\alpha_{E} + 2 \\beta_{E} \\right)}}{8} + \\frac{\\chi_{12} \\cos{\\left(2 \\alpha_{E} - 2 \\beta_{E} \\right)}}{4} - \\frac{\\chi_{12} \\cos{\\left(2 \\alpha_{E} + 2 \\beta_{E} \\right)}}{4} - \\frac{\\chi_{13} \\sin{\\left(\\alpha_{E} - 2 \\beta_{E} \\right)}}{2} - \\frac{\\chi_{13} \\sin{\\left(\\alpha_{E} + 2 \\beta_{E} \\right)}}{2} - \\frac{\\chi_{22} \\sin{\\left(2 \\beta_{E} \\right)}}{4} + \\frac{\\chi_{22} \\sin{\\left(2 \\alpha_{E} - 2 \\beta_{E} \\right)}}{8} - \\frac{\\chi_{22} \\sin{\\left(2 \\alpha_{E} + 2 \\beta_{E} \\right)}}{8} + \\frac{\\chi_{23} \\cos{\\left(\\alpha_{E} - 2 \\beta_{E} \\right)}}{2} + \\frac{\\chi_{23} \\cos{\\left(\\alpha_{E} + 2 \\beta_{E} \\right)}}{2} + \\frac{\\chi_{33} \\sin{\\left(2 \\beta_{E} \\right)}}{2}\\\\\\left(\\chi_{11} \\sin{\\left(\\alpha_{E} \\right)} \\sin{\\left(\\beta_{E} \\right)} - \\chi_{12} \\sin{\\left(\\beta_{E} \\right)} \\cos{\\left(\\alpha_{E} \\right)} + \\chi_{13} \\cos{\\left(\\beta_{E} \\right)}\\right) \\cos{\\left(\\alpha_{E} \\right)} + \\left(\\chi_{12} \\sin{\\left(\\alpha_{E} \\right)} \\sin{\\left(\\beta_{E} \\right)} - \\chi_{22} \\sin{\\left(\\beta_{E} \\right)} \\cos{\\left(\\alpha_{E} \\right)} + \\chi_{23} \\cos{\\left(\\beta_{E} \\right)}\\right) \\sin{\\left(\\alpha_{E} \\right)} & - \\frac{\\chi_{11} \\sin{\\left(2 \\beta_{E} \\right)}}{4} - \\frac{\\chi_{11} \\sin{\\left(2 \\alpha_{E} - 2 \\beta_{E} \\right)}}{8} + \\frac{\\chi_{11} \\sin{\\left(2 \\alpha_{E} + 2 \\beta_{E} \\right)}}{8} + \\frac{\\chi_{12} \\cos{\\left(2 \\alpha_{E} - 2 \\beta_{E} \\right)}}{4} - \\frac{\\chi_{12} \\cos{\\left(2 \\alpha_{E} + 2 \\beta_{E} \\right)}}{4} - \\frac{\\chi_{13} \\sin{\\left(\\alpha_{E} - 2 \\beta_{E} \\right)}}{2} - \\frac{\\chi_{13} \\sin{\\left(\\alpha_{E} + 2 \\beta_{E} \\right)}}{2} - \\frac{\\chi_{22} \\sin{\\left(2 \\beta_{E} \\right)}}{4} + \\frac{\\chi_{22} \\sin{\\left(2 \\alpha_{E} - 2 \\beta_{E} \\right)}}{8} - \\frac{\\chi_{22} \\sin{\\left(2 \\alpha_{E} + 2 \\beta_{E} \\right)}}{8} + \\frac{\\chi_{23} \\cos{\\left(\\alpha_{E} - 2 \\beta_{E} \\right)}}{2} + \\frac{\\chi_{23} \\cos{\\left(\\alpha_{E} + 2 \\beta_{E} \\right)}}{2} + \\frac{\\chi_{33} \\sin{\\left(2 \\beta_{E} \\right)}}{2} & \\chi_{11} \\sin^{2}{\\left(\\alpha_{E} \\right)} \\sin^{2}{\\left(\\beta_{E} \\right)} - 2 \\chi_{12} \\sin{\\left(\\alpha_{E} \\right)} \\sin^{2}{\\left(\\beta_{E} \\right)} \\cos{\\left(\\alpha_{E} \\right)} + \\frac{\\chi_{13} \\left(\\cos{\\left(\\alpha_{E} - 2 \\beta_{E} \\right)} - \\cos{\\left(\\alpha_{E} + 2 \\beta_{E} \\right)}\\right)}{2} + \\chi_{22} \\sin^{2}{\\left(\\beta_{E} \\right)} \\cos^{2}{\\left(\\alpha_{E} \\right)} - \\frac{\\chi_{23} \\left(- \\sin{\\left(\\alpha_{E} - 2 \\beta_{E} \\right)} + \\sin{\\left(\\alpha_{E} + 2 \\beta_{E} \\right)}\\right)}{2} + \\chi_{33} \\cos^{2}{\\left(\\beta_{E} \\right)}\\end{matrix}\\right]$"
      ],
      "text/plain": [
       "⎡                                                         2                   \n",
       "⎢                                                  χ₁₁⋅cos (α_E) + χ₁₂⋅sin(2⋅α\n",
       "⎢                                                                             \n",
       "⎢                                                                             \n",
       "⎢(-χ₁₁⋅sin(α_E)⋅cos(β_E) + χ₁₂⋅cos(α_E)⋅cos(β_E) + χ₁₃⋅sin(β_E))⋅cos(α_E) + (-\n",
       "⎢                                                                             \n",
       "⎢                                                                             \n",
       "⎢                                                                             \n",
       "⎢ (χ₁₁⋅sin(α_E)⋅sin(β_E) - χ₁₂⋅sin(β_E)⋅cos(α_E) + χ₁₃⋅cos(β_E))⋅cos(α_E) + (χ\n",
       "⎣                                                                             \n",
       "\n",
       "             2                                                                \n",
       "_E) + χ₂₂⋅sin (α_E)                                                           \n",
       "                                                                              \n",
       "                                                                              \n",
       "χ₁₂⋅sin(α_E)⋅cos(β_E) + χ₂₂⋅cos(α_E)⋅cos(β_E) + χ₂₃⋅sin(β_E))⋅sin(α_E)        \n",
       "                                                                              \n",
       "                                                                              \n",
       "                                                                          χ₁₁⋅\n",
       "₁₂⋅sin(α_E)⋅sin(β_E) - χ₂₂⋅sin(β_E)⋅cos(α_E) + χ₂₃⋅cos(β_E))⋅sin(α_E)   - ────\n",
       "                                                                              \n",
       "\n",
       "                                                                              \n",
       "                                                                      -(χ₁₁⋅co\n",
       "                                                                              \n",
       "                                                    2         2               \n",
       "                                             χ₁₁⋅sin (α_E)⋅cos (β_E) - 2⋅χ₁₂⋅s\n",
       "                                                                              \n",
       "                                                                              \n",
       "sin(2⋅β_E)   χ₁₁⋅sin(2⋅α_E - 2⋅β_E)   χ₁₁⋅sin(2⋅α_E + 2⋅β_E)   χ₁₂⋅cos(2⋅α_E -\n",
       "────────── - ────────────────────── + ────────────────────── + ───────────────\n",
       "  4                    8                        8                        4    \n",
       "\n",
       "                                                                              \n",
       "s(α_E) + χ₁₂⋅sin(α_E))⋅sin(α_E)⋅cos(β_E) + (χ₁₂⋅cos(α_E) + χ₂₂⋅sin(α_E))⋅cos(α\n",
       "                                                                              \n",
       "                    2        χ₁₃⋅(cos(α_E - 2⋅β_E) - cos(α_E + 2⋅β_E))        \n",
       "in(α_E)⋅cos(α_E)⋅cos (β_E) - ───────────────────────────────────────── + χ₂₂⋅c\n",
       "                                                 2                            \n",
       "                                                                              \n",
       " 2⋅β_E)   χ₁₂⋅cos(2⋅α_E + 2⋅β_E)   χ₁₃⋅sin(α_E - 2⋅β_E)   χ₁₃⋅sin(α_E + 2⋅β_E)\n",
       "─────── - ────────────────────── - ──────────────────── - ────────────────────\n",
       "                    4                       2                      2          \n",
       "\n",
       "                                                                              \n",
       "_E)⋅cos(β_E) + (χ₁₃⋅cos(α_E) + χ₂₃⋅sin(α_E))⋅sin(β_E)                         \n",
       "                                                                              \n",
       "  2         2        χ₂₃⋅(-sin(α_E - 2⋅β_E) + sin(α_E + 2⋅β_E))          2    \n",
       "os (α_E)⋅cos (β_E) + ────────────────────────────────────────── + χ₃₃⋅sin (β_E\n",
       "                                         2                                    \n",
       "                                                                              \n",
       "   χ₂₂⋅sin(2⋅β_E)   χ₂₂⋅sin(2⋅α_E - 2⋅β_E)   χ₂₂⋅sin(2⋅α_E + 2⋅β_E)   χ₂₃⋅cos(\n",
       " - ────────────── + ────────────────────── - ────────────────────── + ────────\n",
       "         4                    8                        8                      \n",
       "\n",
       "                                                                              \n",
       "                                                                              \n",
       "                                                                              \n",
       "                                                        χ₁₁⋅sin(2⋅β_E)   χ₁₁⋅s\n",
       ")                                                     - ────────────── - ─────\n",
       "                                                              4               \n",
       "                                                                              \n",
       "α_E - 2⋅β_E)   χ₂₃⋅cos(α_E + 2⋅β_E)   χ₃₃⋅sin(2⋅β_E)                          \n",
       "──────────── + ──────────────────── + ──────────────                          \n",
       " 2                      2                   2                                 \n",
       "\n",
       "                                                                              \n",
       "                                                     (χ₁₁⋅cos(α_E) + χ₁₂⋅sin(α\n",
       "                                                                              \n",
       "in(2⋅α_E - 2⋅β_E)   χ₁₁⋅sin(2⋅α_E + 2⋅β_E)   χ₁₂⋅cos(2⋅α_E - 2⋅β_E)   χ₁₂⋅cos(\n",
       "───────────────── + ────────────────────── + ────────────────────── - ────────\n",
       "     8                        8                        4                      \n",
       "                                                                              \n",
       "                                  2         2                          2      \n",
       "                           χ₁₁⋅sin (α_E)⋅sin (β_E) - 2⋅χ₁₂⋅sin(α_E)⋅sin (β_E)⋅\n",
       "                                                                              \n",
       "\n",
       "                                                                              \n",
       "_E))⋅sin(α_E)⋅sin(β_E) - (χ₁₂⋅cos(α_E) + χ₂₂⋅sin(α_E))⋅sin(β_E)⋅cos(α_E) + (χ₁\n",
       "                                                                              \n",
       "2⋅α_E + 2⋅β_E)   χ₁₃⋅sin(α_E - 2⋅β_E)   χ₁₃⋅sin(α_E + 2⋅β_E)   χ₂₂⋅sin(2⋅β_E) \n",
       "────────────── - ──────────────────── - ──────────────────── - ────────────── \n",
       "  4                       2                      2                   4        \n",
       "                                                                              \n",
       "           χ₁₃⋅(cos(α_E - 2⋅β_E) - cos(α_E + 2⋅β_E))          2         2     \n",
       "cos(α_E) + ───────────────────────────────────────── + χ₂₂⋅sin (β_E)⋅cos (α_E)\n",
       "                               2                                              \n",
       "\n",
       "                                                                              \n",
       "₃⋅cos(α_E) + χ₂₃⋅sin(α_E))⋅cos(β_E)                                           \n",
       "                                                                              \n",
       "  χ₂₂⋅sin(2⋅α_E - 2⋅β_E)   χ₂₂⋅sin(2⋅α_E + 2⋅β_E)   χ₂₃⋅cos(α_E - 2⋅β_E)   χ₂₃\n",
       "+ ────────────────────── - ────────────────────── + ──────────────────── + ───\n",
       "            8                        8                       2                \n",
       "                                                                              \n",
       "   χ₂₃⋅(-sin(α_E - 2⋅β_E) + sin(α_E + 2⋅β_E))          2                      \n",
       " - ────────────────────────────────────────── + χ₃₃⋅cos (β_E)                 \n",
       "                       2                                                      \n",
       "\n",
       "                                  ⎤\n",
       "                                  ⎥\n",
       "                                  ⎥\n",
       "⋅cos(α_E + 2⋅β_E)   χ₃₃⋅sin(2⋅β_E)⎥\n",
       "───────────────── + ──────────────⎥\n",
       "      2                   2       ⎥\n",
       "                                  ⎥\n",
       "                                  ⎥\n",
       "                                  ⎥\n",
       "                                  ⎦"
      ]
     },
     "execution_count": 21,
     "metadata": {},
     "output_type": "execute_result"
    }
   ],
   "source": [
    "SIGMA_simple"
   ]
  },
  {
   "cell_type": "code",
   "execution_count": null,
   "metadata": {},
   "outputs": [],
   "source": []
  }
 ],
 "metadata": {
  "kernelspec": {
   "display_name": "Python 3",
   "language": "python",
   "name": "python3"
  },
  "language_info": {
   "codemirror_mode": {
    "name": "ipython",
    "version": 3
   },
   "file_extension": ".py",
   "mimetype": "text/x-python",
   "name": "python",
   "nbconvert_exporter": "python",
   "pygments_lexer": "ipython3",
   "version": "3.8.3"
  }
 },
 "nbformat": 4,
 "nbformat_minor": 4
}
