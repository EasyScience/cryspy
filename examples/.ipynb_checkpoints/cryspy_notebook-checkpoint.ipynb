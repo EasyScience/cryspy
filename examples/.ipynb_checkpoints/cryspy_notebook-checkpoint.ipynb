{
 "cells": [
  {
   "cell_type": "code",
   "execution_count": 2,
   "metadata": {},
   "outputs": [],
   "source": [
    "import numpy\n",
    "from pyqtgraph.Qt import QtGui\n",
    "import pyqtgraph as pg\n",
    "import pyqtgraph.dockarea\n",
    "app = QtGui.QApplication([])"
   ]
  },
  {
   "cell_type": "code",
   "execution_count": 3,
   "metadata": {},
   "outputs": [],
   "source": [
    "widget = pg.GraphicsLayoutWidget(show=False, title=\"sum/diff\")"
   ]
  },
  {
   "cell_type": "code",
   "execution_count": 4,
   "metadata": {},
   "outputs": [],
   "source": [
    "x = numpy.linspace(1,4,90)\n",
    "y = numpy.sqrt(x)"
   ]
  },
  {
   "cell_type": "code",
   "execution_count": null,
   "metadata": {},
   "outputs": [],
   "source": [
    "p1 = widget.addPlot(x=x,y=y,name=\"sfsf\")"
   ]
  },
  {
   "cell_type": "code",
   "execution_count": 10,
   "metadata": {},
   "outputs": [],
   "source": []
  },
  {
   "cell_type": "code",
   "execution_count": 18,
   "metadata": {},
   "outputs": [
    {
     "data": {
      "text/plain": [
       "<Dock sqf (10, 10)>"
      ]
     },
     "execution_count": 18,
     "metadata": {},
     "output_type": "execute_result"
    }
   ],
   "source": [
    "d1"
   ]
  },
  {
   "cell_type": "code",
   "execution_count": 5,
   "metadata": {},
   "outputs": [
    {
     "data": {
      "text/html": [
       "\n",
       "    <div class=\"bk-root\">\n",
       "        <a href=\"https://bokeh.org\" target=\"_blank\" class=\"bk-logo bk-logo-small bk-logo-notebook\"></a>\n",
       "        <span id=\"1107\">Loading BokehJS ...</span>\n",
       "    </div>"
      ]
     },
     "metadata": {},
     "output_type": "display_data"
    },
    {
     "data": {
      "application/javascript": [
       "\n",
       "(function(root) {\n",
       "  function now() {\n",
       "    return new Date();\n",
       "  }\n",
       "\n",
       "  var force = true;\n",
       "\n",
       "  if (typeof root._bokeh_onload_callbacks === \"undefined\" || force === true) {\n",
       "    root._bokeh_onload_callbacks = [];\n",
       "    root._bokeh_is_loading = undefined;\n",
       "  }\n",
       "\n",
       "  var JS_MIME_TYPE = 'application/javascript';\n",
       "  var HTML_MIME_TYPE = 'text/html';\n",
       "  var EXEC_MIME_TYPE = 'application/vnd.bokehjs_exec.v0+json';\n",
       "  var CLASS_NAME = 'output_bokeh rendered_html';\n",
       "\n",
       "  /**\n",
       "   * Render data to the DOM node\n",
       "   */\n",
       "  function render(props, node) {\n",
       "    var script = document.createElement(\"script\");\n",
       "    node.appendChild(script);\n",
       "  }\n",
       "\n",
       "  /**\n",
       "   * Handle when an output is cleared or removed\n",
       "   */\n",
       "  function handleClearOutput(event, handle) {\n",
       "    var cell = handle.cell;\n",
       "\n",
       "    var id = cell.output_area._bokeh_element_id;\n",
       "    var server_id = cell.output_area._bokeh_server_id;\n",
       "    // Clean up Bokeh references\n",
       "    if (id != null && id in Bokeh.index) {\n",
       "      Bokeh.index[id].model.document.clear();\n",
       "      delete Bokeh.index[id];\n",
       "    }\n",
       "\n",
       "    if (server_id !== undefined) {\n",
       "      // Clean up Bokeh references\n",
       "      var cmd = \"from bokeh.io.state import curstate; print(curstate().uuid_to_server['\" + server_id + \"'].get_sessions()[0].document.roots[0]._id)\";\n",
       "      cell.notebook.kernel.execute(cmd, {\n",
       "        iopub: {\n",
       "          output: function(msg) {\n",
       "            var id = msg.content.text.trim();\n",
       "            if (id in Bokeh.index) {\n",
       "              Bokeh.index[id].model.document.clear();\n",
       "              delete Bokeh.index[id];\n",
       "            }\n",
       "          }\n",
       "        }\n",
       "      });\n",
       "      // Destroy server and session\n",
       "      var cmd = \"import bokeh.io.notebook as ion; ion.destroy_server('\" + server_id + \"')\";\n",
       "      cell.notebook.kernel.execute(cmd);\n",
       "    }\n",
       "  }\n",
       "\n",
       "  /**\n",
       "   * Handle when a new output is added\n",
       "   */\n",
       "  function handleAddOutput(event, handle) {\n",
       "    var output_area = handle.output_area;\n",
       "    var output = handle.output;\n",
       "\n",
       "    // limit handleAddOutput to display_data with EXEC_MIME_TYPE content only\n",
       "    if ((output.output_type != \"display_data\") || (!output.data.hasOwnProperty(EXEC_MIME_TYPE))) {\n",
       "      return\n",
       "    }\n",
       "\n",
       "    var toinsert = output_area.element.find(\".\" + CLASS_NAME.split(' ')[0]);\n",
       "\n",
       "    if (output.metadata[EXEC_MIME_TYPE][\"id\"] !== undefined) {\n",
       "      toinsert[toinsert.length - 1].firstChild.textContent = output.data[JS_MIME_TYPE];\n",
       "      // store reference to embed id on output_area\n",
       "      output_area._bokeh_element_id = output.metadata[EXEC_MIME_TYPE][\"id\"];\n",
       "    }\n",
       "    if (output.metadata[EXEC_MIME_TYPE][\"server_id\"] !== undefined) {\n",
       "      var bk_div = document.createElement(\"div\");\n",
       "      bk_div.innerHTML = output.data[HTML_MIME_TYPE];\n",
       "      var script_attrs = bk_div.children[0].attributes;\n",
       "      for (var i = 0; i < script_attrs.length; i++) {\n",
       "        toinsert[toinsert.length - 1].firstChild.setAttribute(script_attrs[i].name, script_attrs[i].value);\n",
       "      }\n",
       "      // store reference to server id on output_area\n",
       "      output_area._bokeh_server_id = output.metadata[EXEC_MIME_TYPE][\"server_id\"];\n",
       "    }\n",
       "  }\n",
       "\n",
       "  function register_renderer(events, OutputArea) {\n",
       "\n",
       "    function append_mime(data, metadata, element) {\n",
       "      // create a DOM node to render to\n",
       "      var toinsert = this.create_output_subarea(\n",
       "        metadata,\n",
       "        CLASS_NAME,\n",
       "        EXEC_MIME_TYPE\n",
       "      );\n",
       "      this.keyboard_manager.register_events(toinsert);\n",
       "      // Render to node\n",
       "      var props = {data: data, metadata: metadata[EXEC_MIME_TYPE]};\n",
       "      render(props, toinsert[toinsert.length - 1]);\n",
       "      element.append(toinsert);\n",
       "      return toinsert\n",
       "    }\n",
       "\n",
       "    /* Handle when an output is cleared or removed */\n",
       "    events.on('clear_output.CodeCell', handleClearOutput);\n",
       "    events.on('delete.Cell', handleClearOutput);\n",
       "\n",
       "    /* Handle when a new output is added */\n",
       "    events.on('output_added.OutputArea', handleAddOutput);\n",
       "\n",
       "    /**\n",
       "     * Register the mime type and append_mime function with output_area\n",
       "     */\n",
       "    OutputArea.prototype.register_mime_type(EXEC_MIME_TYPE, append_mime, {\n",
       "      /* Is output safe? */\n",
       "      safe: true,\n",
       "      /* Index of renderer in `output_area.display_order` */\n",
       "      index: 0\n",
       "    });\n",
       "  }\n",
       "\n",
       "  // register the mime type if in Jupyter Notebook environment and previously unregistered\n",
       "  if (root.Jupyter !== undefined) {\n",
       "    var events = require('base/js/events');\n",
       "    var OutputArea = require('notebook/js/outputarea').OutputArea;\n",
       "\n",
       "    if (OutputArea.prototype.mime_types().indexOf(EXEC_MIME_TYPE) == -1) {\n",
       "      register_renderer(events, OutputArea);\n",
       "    }\n",
       "  }\n",
       "\n",
       "  \n",
       "  if (typeof (root._bokeh_timeout) === \"undefined\" || force === true) {\n",
       "    root._bokeh_timeout = Date.now() + 5000;\n",
       "    root._bokeh_failed_load = false;\n",
       "  }\n",
       "\n",
       "  var NB_LOAD_WARNING = {'data': {'text/html':\n",
       "     \"<div style='background-color: #fdd'>\\n\"+\n",
       "     \"<p>\\n\"+\n",
       "     \"BokehJS does not appear to have successfully loaded. If loading BokehJS from CDN, this \\n\"+\n",
       "     \"may be due to a slow or bad network connection. Possible fixes:\\n\"+\n",
       "     \"</p>\\n\"+\n",
       "     \"<ul>\\n\"+\n",
       "     \"<li>re-rerun `output_notebook()` to attempt to load from CDN again, or</li>\\n\"+\n",
       "     \"<li>use INLINE resources instead, as so:</li>\\n\"+\n",
       "     \"</ul>\\n\"+\n",
       "     \"<code>\\n\"+\n",
       "     \"from bokeh.resources import INLINE\\n\"+\n",
       "     \"output_notebook(resources=INLINE)\\n\"+\n",
       "     \"</code>\\n\"+\n",
       "     \"</div>\"}};\n",
       "\n",
       "  function display_loaded() {\n",
       "    var el = document.getElementById(\"1107\");\n",
       "    if (el != null) {\n",
       "      el.textContent = \"BokehJS is loading...\";\n",
       "    }\n",
       "    if (root.Bokeh !== undefined) {\n",
       "      if (el != null) {\n",
       "        el.textContent = \"BokehJS \" + root.Bokeh.version + \" successfully loaded.\";\n",
       "      }\n",
       "    } else if (Date.now() < root._bokeh_timeout) {\n",
       "      setTimeout(display_loaded, 100)\n",
       "    }\n",
       "  }\n",
       "\n",
       "\n",
       "  function run_callbacks() {\n",
       "    try {\n",
       "      root._bokeh_onload_callbacks.forEach(function(callback) {\n",
       "        if (callback != null)\n",
       "          callback();\n",
       "      });\n",
       "    } finally {\n",
       "      delete root._bokeh_onload_callbacks\n",
       "    }\n",
       "    console.debug(\"Bokeh: all callbacks have finished\");\n",
       "  }\n",
       "\n",
       "  function load_libs(css_urls, js_urls, callback) {\n",
       "    if (css_urls == null) css_urls = [];\n",
       "    if (js_urls == null) js_urls = [];\n",
       "\n",
       "    root._bokeh_onload_callbacks.push(callback);\n",
       "    if (root._bokeh_is_loading > 0) {\n",
       "      console.debug(\"Bokeh: BokehJS is being loaded, scheduling callback at\", now());\n",
       "      return null;\n",
       "    }\n",
       "    if (js_urls == null || js_urls.length === 0) {\n",
       "      run_callbacks();\n",
       "      return null;\n",
       "    }\n",
       "    console.debug(\"Bokeh: BokehJS not loaded, scheduling load and callback at\", now());\n",
       "    root._bokeh_is_loading = css_urls.length + js_urls.length;\n",
       "\n",
       "    function on_load() {\n",
       "      root._bokeh_is_loading--;\n",
       "      if (root._bokeh_is_loading === 0) {\n",
       "        console.debug(\"Bokeh: all BokehJS libraries/stylesheets loaded\");\n",
       "        run_callbacks()\n",
       "      }\n",
       "    }\n",
       "\n",
       "    function on_error() {\n",
       "      console.error(\"failed to load \" + url);\n",
       "    }\n",
       "\n",
       "    for (var i = 0; i < css_urls.length; i++) {\n",
       "      var url = css_urls[i];\n",
       "      const element = document.createElement(\"link\");\n",
       "      element.onload = on_load;\n",
       "      element.onerror = on_error;\n",
       "      element.rel = \"stylesheet\";\n",
       "      element.type = \"text/css\";\n",
       "      element.href = url;\n",
       "      console.debug(\"Bokeh: injecting link tag for BokehJS stylesheet: \", url);\n",
       "      document.body.appendChild(element);\n",
       "    }\n",
       "\n",
       "    for (var i = 0; i < js_urls.length; i++) {\n",
       "      var url = js_urls[i];\n",
       "      var element = document.createElement('script');\n",
       "      element.onload = on_load;\n",
       "      element.onerror = on_error;\n",
       "      element.async = false;\n",
       "      element.src = url;\n",
       "      console.debug(\"Bokeh: injecting script tag for BokehJS library: \", url);\n",
       "      document.head.appendChild(element);\n",
       "    }\n",
       "  };var element = document.getElementById(\"1107\");\n",
       "  if (element == null) {\n",
       "    console.error(\"Bokeh: ERROR: autoload.js configured with elementid '1107' but no matching script tag was found. \")\n",
       "    return false;\n",
       "  }\n",
       "\n",
       "  function inject_raw_css(css) {\n",
       "    const element = document.createElement(\"style\");\n",
       "    element.appendChild(document.createTextNode(css));\n",
       "    document.body.appendChild(element);\n",
       "  }\n",
       "\n",
       "  \n",
       "  var js_urls = [\"https://cdn.pydata.org/bokeh/release/bokeh-1.4.0.min.js\", \"https://cdn.pydata.org/bokeh/release/bokeh-widgets-1.4.0.min.js\", \"https://cdn.pydata.org/bokeh/release/bokeh-tables-1.4.0.min.js\", \"https://cdn.pydata.org/bokeh/release/bokeh-gl-1.4.0.min.js\"];\n",
       "  var css_urls = [];\n",
       "  \n",
       "\n",
       "  var inline_js = [\n",
       "    function(Bokeh) {\n",
       "      Bokeh.set_log_level(\"info\");\n",
       "    },\n",
       "    function(Bokeh) {\n",
       "    \n",
       "    \n",
       "    }\n",
       "  ];\n",
       "\n",
       "  function run_inline_js() {\n",
       "    \n",
       "    if (root.Bokeh !== undefined || force === true) {\n",
       "      \n",
       "    for (var i = 0; i < inline_js.length; i++) {\n",
       "      inline_js[i].call(root, root.Bokeh);\n",
       "    }\n",
       "    if (force === true) {\n",
       "        display_loaded();\n",
       "      }} else if (Date.now() < root._bokeh_timeout) {\n",
       "      setTimeout(run_inline_js, 100);\n",
       "    } else if (!root._bokeh_failed_load) {\n",
       "      console.log(\"Bokeh: BokehJS failed to load within specified timeout.\");\n",
       "      root._bokeh_failed_load = true;\n",
       "    } else if (force !== true) {\n",
       "      var cell = $(document.getElementById(\"1107\")).parents('.cell').data().cell;\n",
       "      cell.output_area.append_execute_result(NB_LOAD_WARNING)\n",
       "    }\n",
       "\n",
       "  }\n",
       "\n",
       "  if (root._bokeh_is_loading === 0) {\n",
       "    console.debug(\"Bokeh: BokehJS loaded, going straight to plotting\");\n",
       "    run_inline_js();\n",
       "  } else {\n",
       "    load_libs(css_urls, js_urls, function() {\n",
       "      console.debug(\"Bokeh: BokehJS plotting callback run at\", now());\n",
       "      run_inline_js();\n",
       "    });\n",
       "  }\n",
       "}(window));"
      ],
      "application/vnd.bokehjs_load.v0+json": "\n(function(root) {\n  function now() {\n    return new Date();\n  }\n\n  var force = true;\n\n  if (typeof root._bokeh_onload_callbacks === \"undefined\" || force === true) {\n    root._bokeh_onload_callbacks = [];\n    root._bokeh_is_loading = undefined;\n  }\n\n  \n\n  \n  if (typeof (root._bokeh_timeout) === \"undefined\" || force === true) {\n    root._bokeh_timeout = Date.now() + 5000;\n    root._bokeh_failed_load = false;\n  }\n\n  var NB_LOAD_WARNING = {'data': {'text/html':\n     \"<div style='background-color: #fdd'>\\n\"+\n     \"<p>\\n\"+\n     \"BokehJS does not appear to have successfully loaded. If loading BokehJS from CDN, this \\n\"+\n     \"may be due to a slow or bad network connection. Possible fixes:\\n\"+\n     \"</p>\\n\"+\n     \"<ul>\\n\"+\n     \"<li>re-rerun `output_notebook()` to attempt to load from CDN again, or</li>\\n\"+\n     \"<li>use INLINE resources instead, as so:</li>\\n\"+\n     \"</ul>\\n\"+\n     \"<code>\\n\"+\n     \"from bokeh.resources import INLINE\\n\"+\n     \"output_notebook(resources=INLINE)\\n\"+\n     \"</code>\\n\"+\n     \"</div>\"}};\n\n  function display_loaded() {\n    var el = document.getElementById(\"1107\");\n    if (el != null) {\n      el.textContent = \"BokehJS is loading...\";\n    }\n    if (root.Bokeh !== undefined) {\n      if (el != null) {\n        el.textContent = \"BokehJS \" + root.Bokeh.version + \" successfully loaded.\";\n      }\n    } else if (Date.now() < root._bokeh_timeout) {\n      setTimeout(display_loaded, 100)\n    }\n  }\n\n\n  function run_callbacks() {\n    try {\n      root._bokeh_onload_callbacks.forEach(function(callback) {\n        if (callback != null)\n          callback();\n      });\n    } finally {\n      delete root._bokeh_onload_callbacks\n    }\n    console.debug(\"Bokeh: all callbacks have finished\");\n  }\n\n  function load_libs(css_urls, js_urls, callback) {\n    if (css_urls == null) css_urls = [];\n    if (js_urls == null) js_urls = [];\n\n    root._bokeh_onload_callbacks.push(callback);\n    if (root._bokeh_is_loading > 0) {\n      console.debug(\"Bokeh: BokehJS is being loaded, scheduling callback at\", now());\n      return null;\n    }\n    if (js_urls == null || js_urls.length === 0) {\n      run_callbacks();\n      return null;\n    }\n    console.debug(\"Bokeh: BokehJS not loaded, scheduling load and callback at\", now());\n    root._bokeh_is_loading = css_urls.length + js_urls.length;\n\n    function on_load() {\n      root._bokeh_is_loading--;\n      if (root._bokeh_is_loading === 0) {\n        console.debug(\"Bokeh: all BokehJS libraries/stylesheets loaded\");\n        run_callbacks()\n      }\n    }\n\n    function on_error() {\n      console.error(\"failed to load \" + url);\n    }\n\n    for (var i = 0; i < css_urls.length; i++) {\n      var url = css_urls[i];\n      const element = document.createElement(\"link\");\n      element.onload = on_load;\n      element.onerror = on_error;\n      element.rel = \"stylesheet\";\n      element.type = \"text/css\";\n      element.href = url;\n      console.debug(\"Bokeh: injecting link tag for BokehJS stylesheet: \", url);\n      document.body.appendChild(element);\n    }\n\n    for (var i = 0; i < js_urls.length; i++) {\n      var url = js_urls[i];\n      var element = document.createElement('script');\n      element.onload = on_load;\n      element.onerror = on_error;\n      element.async = false;\n      element.src = url;\n      console.debug(\"Bokeh: injecting script tag for BokehJS library: \", url);\n      document.head.appendChild(element);\n    }\n  };var element = document.getElementById(\"1107\");\n  if (element == null) {\n    console.error(\"Bokeh: ERROR: autoload.js configured with elementid '1107' but no matching script tag was found. \")\n    return false;\n  }\n\n  function inject_raw_css(css) {\n    const element = document.createElement(\"style\");\n    element.appendChild(document.createTextNode(css));\n    document.body.appendChild(element);\n  }\n\n  \n  var js_urls = [\"https://cdn.pydata.org/bokeh/release/bokeh-1.4.0.min.js\", \"https://cdn.pydata.org/bokeh/release/bokeh-widgets-1.4.0.min.js\", \"https://cdn.pydata.org/bokeh/release/bokeh-tables-1.4.0.min.js\", \"https://cdn.pydata.org/bokeh/release/bokeh-gl-1.4.0.min.js\"];\n  var css_urls = [];\n  \n\n  var inline_js = [\n    function(Bokeh) {\n      Bokeh.set_log_level(\"info\");\n    },\n    function(Bokeh) {\n    \n    \n    }\n  ];\n\n  function run_inline_js() {\n    \n    if (root.Bokeh !== undefined || force === true) {\n      \n    for (var i = 0; i < inline_js.length; i++) {\n      inline_js[i].call(root, root.Bokeh);\n    }\n    if (force === true) {\n        display_loaded();\n      }} else if (Date.now() < root._bokeh_timeout) {\n      setTimeout(run_inline_js, 100);\n    } else if (!root._bokeh_failed_load) {\n      console.log(\"Bokeh: BokehJS failed to load within specified timeout.\");\n      root._bokeh_failed_load = true;\n    } else if (force !== true) {\n      var cell = $(document.getElementById(\"1107\")).parents('.cell').data().cell;\n      cell.output_area.append_execute_result(NB_LOAD_WARNING)\n    }\n\n  }\n\n  if (root._bokeh_is_loading === 0) {\n    console.debug(\"Bokeh: BokehJS loaded, going straight to plotting\");\n    run_inline_js();\n  } else {\n    load_libs(css_urls, js_urls, function() {\n      console.debug(\"Bokeh: BokehJS plotting callback run at\", now());\n      run_inline_js();\n    });\n  }\n}(window));"
     },
     "metadata": {},
     "output_type": "display_data"
    }
   ],
   "source": [
    "import os; import numpy; import pycifstar; import cryspy\n",
    "from bokeh.plotting import figure, output_file, show\n",
    "from bokeh.io import output_notebook\n",
    "from bokeh.layouts import column, row\n",
    "from bokeh.models import RangeTool\n",
    "from bokeh.models.widgets.inputs import FileInput \n",
    "\n",
    "from bokeh.models.callbacks import CustomJS\n",
    "from bokeh.models.widgets import TextInput, Button, Paragraph\n",
    "import numpy\n",
    "\n",
    "from bokeh.io import output_notebook\n",
    "output_notebook()"
   ]
  },
  {
   "cell_type": "code",
   "execution_count": 6,
   "metadata": {},
   "outputs": [
    {
     "ename": "NameError",
     "evalue": "name 'plot' is not defined",
     "output_type": "error",
     "traceback": [
      "\u001b[1;31m---------------------------------------------------------------------------\u001b[0m",
      "\u001b[1;31mNameError\u001b[0m                                 Traceback (most recent call last)",
      "\u001b[1;32m<ipython-input-6-1ff19565bb4f>\u001b[0m in \u001b[0;36m<module>\u001b[1;34m\u001b[0m\n\u001b[1;32m----> 1\u001b[1;33m callback = CustomJS(args=dict(xr=plot.x_range), code=\"\"\"\n\u001b[0m\u001b[0;32m      2\u001b[0m \u001b[1;33m\u001b[0m\u001b[0m\n\u001b[0;32m      3\u001b[0m \u001b[1;33m//\u001b[0m \u001b[0mJavaScript\u001b[0m \u001b[0mcode\u001b[0m \u001b[0mgoes\u001b[0m \u001b[0mhere\u001b[0m\u001b[1;33m\u001b[0m\u001b[1;33m\u001b[0m\u001b[0m\n\u001b[0;32m      4\u001b[0m \u001b[1;33m\u001b[0m\u001b[0m\n\u001b[0;32m      5\u001b[0m \u001b[0mvar\u001b[0m \u001b[0ma\u001b[0m \u001b[1;33m=\u001b[0m \u001b[1;36m10\u001b[0m\u001b[1;33m;\u001b[0m\u001b[1;33m\u001b[0m\u001b[1;33m\u001b[0m\u001b[0m\n",
      "\u001b[1;31mNameError\u001b[0m: name 'plot' is not defined"
     ]
    }
   ],
   "source": [
    "\n",
    "callback = CustomJS(args=dict(xr=plot.x_range), code=\"\"\"\n",
    "\n",
    "// JavaScript code goes here\n",
    "\n",
    "var a = 10;\n",
    "\n",
    "// the model that triggered the callback is cb_obj:\n",
    "var b = cb_obj.value;\n",
    "\n",
    "// models passed as args are automagically available\n",
    "xr.start = a;\n",
    "xr.end = b;\n",
    "\n",
    "\"\"\")\n",
    "\n",
    "\n",
    "np_x = numpy.linspace(0,3,100)\n",
    "np_y = numpy.square(np_x)\n",
    "\n",
    "\n",
    "# create some widgets\n",
    "button = Button(label=\"Say HI\")\n",
    "input = TextInput(value=\"Bokeh\")\n",
    "output_p = Paragraph(text=\"test text\")\n",
    "\n",
    "# add a callback to a widget\n",
    "    \n",
    "fi = FileInput(accept=\".rcif, .cif\")\n",
    "\n",
    "p1 = figure()\n",
    "\n",
    "def update():\n",
    "    output_p.text = \"Hello, \" + input.value + \"filename: \" + fi.filename\n",
    "\n",
    "button.on_click(update)\n",
    "\n",
    "\n",
    "# create a layout for everything\n",
    "\n",
    "p1.line(np_x, np_y)\n",
    "show(column(fi, p1, button, input, output_p))\n",
    "\n"
   ]
  },
  {
   "cell_type": "markdown",
   "metadata": {},
   "source": [
    "# Choose input file"
   ]
  },
  {
   "cell_type": "code",
   "execution_count": 2,
   "metadata": {},
   "outputs": [],
   "source": [
    "f_main = r\"cryspy_pd\\main.rcif\""
   ]
  },
  {
   "cell_type": "markdown",
   "metadata": {},
   "source": [
    "# Load of data"
   ]
  },
  {
   "cell_type": "code",
   "execution_count": 3,
   "metadata": {},
   "outputs": [],
   "source": [
    "s_cont = str(pycifstar.to_global(f_main))\n",
    "rhochi = cryspy.RhoChi.from_cif(s_cont)"
   ]
  },
  {
   "cell_type": "markdown",
   "metadata": {},
   "source": [
    "Refined parameters are:"
   ]
  },
  {
   "cell_type": "code",
   "execution_count": 4,
   "metadata": {},
   "outputs": [
    {
     "data": {
      "text/plain": [
       "[ -6.25(17),  6.08(11),  0.64(43),  3.18(38)]"
      ]
     },
     "execution_count": 4,
     "metadata": {},
     "output_type": "execute_result"
    }
   ],
   "source": [
    "rhochi.get_variables()"
   ]
  },
  {
   "cell_type": "code",
   "execution_count": 5,
   "metadata": {},
   "outputs": [
    {
     "data": {
      "text/html": [
       "\n",
       "\n",
       "\n",
       "\n",
       "\n",
       "\n",
       "  <div class=\"bk-root\" id=\"aa87d506-499c-4906-93c1-f78e27ce0b47\" data-root-id=\"1002\"></div>\n"
      ]
     },
     "metadata": {},
     "output_type": "display_data"
    },
    {
     "data": {
      "application/javascript": [
       "(function(root) {\n",
       "  function embed_document(root) {\n",
       "    \n",
       "  var docs_json = {\"bd2cedec-28da-4bea-a4c4-625b6e4d5419\":{\"roots\":{\"references\":[{\"attributes\":{\"below\":[{\"id\":\"1013\",\"type\":\"LinearAxis\"}],\"center\":[{\"id\":\"1017\",\"type\":\"Grid\"},{\"id\":\"1022\",\"type\":\"Grid\"},{\"id\":\"1047\",\"type\":\"Legend\"}],\"left\":[{\"id\":\"1018\",\"type\":\"LinearAxis\"}],\"plot_height\":300,\"plot_width\":800,\"renderers\":[{\"id\":\"1039\",\"type\":\"GlyphRenderer\"},{\"id\":\"1052\",\"type\":\"GlyphRenderer\"},{\"id\":\"1066\",\"type\":\"GlyphRenderer\"}],\"title\":{\"id\":\"1003\",\"type\":\"Title\"},\"toolbar\":{\"id\":\"1029\",\"type\":\"Toolbar\"},\"x_range\":{\"id\":\"1005\",\"type\":\"DataRange1d\"},\"x_scale\":{\"id\":\"1009\",\"type\":\"LinearScale\"},\"y_range\":{\"id\":\"1007\",\"type\":\"DataRange1d\"},\"y_scale\":{\"id\":\"1011\",\"type\":\"LinearScale\"}},\"id\":\"1002\",\"subtype\":\"Figure\",\"type\":\"Plot\"},{\"attributes\":{\"axis_label\":\"ttheta\",\"formatter\":{\"id\":\"1045\",\"type\":\"BasicTickFormatter\"},\"ticker\":{\"id\":\"1014\",\"type\":\"BasicTicker\"}},\"id\":\"1013\",\"type\":\"LinearAxis\"},{\"attributes\":{},\"id\":\"1019\",\"type\":\"BasicTicker\"},{\"attributes\":{\"label\":{\"value\":\"background\"},\"renderers\":[{\"id\":\"1066\",\"type\":\"GlyphRenderer\"}]},\"id\":\"1078\",\"type\":\"LegendItem\"},{\"attributes\":{},\"id\":\"1024\",\"type\":\"WheelZoomTool\"},{\"attributes\":{\"source\":{\"id\":\"1049\",\"type\":\"ColumnDataSource\"}},\"id\":\"1053\",\"type\":\"CDSView\"},{\"attributes\":{},\"id\":\"1045\",\"type\":\"BasicTickFormatter\"},{\"attributes\":{},\"id\":\"1014\",\"type\":\"BasicTicker\"},{\"attributes\":{\"label\":{\"value\":\"up\"},\"renderers\":[{\"id\":\"1039\",\"type\":\"GlyphRenderer\"}]},\"id\":\"1048\",\"type\":\"LegendItem\"},{\"attributes\":{},\"id\":\"1023\",\"type\":\"PanTool\"},{\"attributes\":{\"line_color\":\"red\",\"line_width\":2,\"x\":{\"field\":\"x\"},\"y\":{\"field\":\"y\"}},\"id\":\"1037\",\"type\":\"Line\"},{\"attributes\":{\"line_alpha\":0.1,\"line_color\":\"#1f77b4\",\"line_width\":2,\"x\":{\"field\":\"x\"},\"y\":{\"field\":\"y\"}},\"id\":\"1038\",\"type\":\"Line\"},{\"attributes\":{\"data_source\":{\"id\":\"1036\",\"type\":\"ColumnDataSource\"},\"glyph\":{\"id\":\"1037\",\"type\":\"Line\"},\"hover_glyph\":null,\"muted_glyph\":null,\"nonselection_glyph\":{\"id\":\"1038\",\"type\":\"Line\"},\"selection_glyph\":null,\"view\":{\"id\":\"1040\",\"type\":\"CDSView\"}},\"id\":\"1039\",\"type\":\"GlyphRenderer\"},{\"attributes\":{},\"id\":\"1026\",\"type\":\"SaveTool\"},{\"attributes\":{\"ticker\":{\"id\":\"1014\",\"type\":\"BasicTicker\"}},\"id\":\"1017\",\"type\":\"Grid\"},{\"attributes\":{\"data_source\":{\"id\":\"1063\",\"type\":\"ColumnDataSource\"},\"glyph\":{\"id\":\"1064\",\"type\":\"Line\"},\"hover_glyph\":null,\"muted_glyph\":null,\"nonselection_glyph\":{\"id\":\"1065\",\"type\":\"Line\"},\"selection_glyph\":null,\"view\":{\"id\":\"1067\",\"type\":\"CDSView\"}},\"id\":\"1066\",\"type\":\"GlyphRenderer\"},{\"attributes\":{},\"id\":\"1009\",\"type\":\"LinearScale\"},{\"attributes\":{\"source\":{\"id\":\"1036\",\"type\":\"ColumnDataSource\"}},\"id\":\"1040\",\"type\":\"CDSView\"},{\"attributes\":{\"overlay\":{\"id\":\"1046\",\"type\":\"BoxAnnotation\"}},\"id\":\"1025\",\"type\":\"BoxZoomTool\"},{\"attributes\":{},\"id\":\"1027\",\"type\":\"ResetTool\"},{\"attributes\":{\"line_width\":2,\"x\":{\"field\":\"x\"},\"y\":{\"field\":\"y\"}},\"id\":\"1064\",\"type\":\"Line\"},{\"attributes\":{},\"id\":\"1060\",\"type\":\"UnionRenderers\"},{\"attributes\":{\"items\":[{\"id\":\"1048\",\"type\":\"LegendItem\"},{\"id\":\"1062\",\"type\":\"LegendItem\"},{\"id\":\"1078\",\"type\":\"LegendItem\"}]},\"id\":\"1047\",\"type\":\"Legend\"},{\"attributes\":{\"line_alpha\":0.1,\"line_color\":\"#1f77b4\",\"line_width\":2,\"x\":{\"field\":\"x\"},\"y\":{\"field\":\"y\"}},\"id\":\"1065\",\"type\":\"Line\"},{\"attributes\":{\"line_color\":\"#1f77b4\",\"line_width\":2,\"x\":{\"field\":\"x\"},\"y\":{\"field\":\"y\"}},\"id\":\"1050\",\"type\":\"Line\"},{\"attributes\":{},\"id\":\"1077\",\"type\":\"Selection\"},{\"attributes\":{\"callback\":null},\"id\":\"1005\",\"type\":\"DataRange1d\"},{\"attributes\":{\"text\":\"input data\"},\"id\":\"1003\",\"type\":\"Title\"},{\"attributes\":{},\"id\":\"1076\",\"type\":\"UnionRenderers\"},{\"attributes\":{},\"id\":\"1043\",\"type\":\"BasicTickFormatter\"},{\"attributes\":{},\"id\":\"1089\",\"type\":\"UnionRenderers\"},{\"attributes\":{\"axis_label\":\"intensity\",\"formatter\":{\"id\":\"1043\",\"type\":\"BasicTickFormatter\"},\"ticker\":{\"id\":\"1019\",\"type\":\"BasicTicker\"}},\"id\":\"1018\",\"type\":\"LinearAxis\"},{\"attributes\":{\"bottom_units\":\"screen\",\"fill_alpha\":{\"value\":0.5},\"fill_color\":{\"value\":\"lightgrey\"},\"left_units\":\"screen\",\"level\":\"overlay\",\"line_alpha\":{\"value\":1.0},\"line_color\":{\"value\":\"black\"},\"line_dash\":[4,4],\"line_width\":{\"value\":2},\"render_mode\":\"css\",\"right_units\":\"screen\",\"top_units\":\"screen\"},\"id\":\"1046\",\"type\":\"BoxAnnotation\"},{\"attributes\":{\"data_source\":{\"id\":\"1049\",\"type\":\"ColumnDataSource\"},\"glyph\":{\"id\":\"1050\",\"type\":\"Line\"},\"hover_glyph\":null,\"muted_glyph\":null,\"nonselection_glyph\":{\"id\":\"1051\",\"type\":\"Line\"},\"selection_glyph\":null,\"view\":{\"id\":\"1053\",\"type\":\"CDSView\"}},\"id\":\"1052\",\"type\":\"GlyphRenderer\"},{\"attributes\":{\"callback\":null,\"data\":{\"x\":[4.4,4.6,4.8,5.0,5.2,5.4,5.6,5.8,6.0,6.2,6.4,6.6,6.8,7.0,7.2,7.4,7.6,7.8,8.0,8.2,8.4,8.6,8.8,9.0,9.2,9.4,9.6,9.8,10.0,10.2,10.4,10.6,10.8,11.0,11.2,11.4,11.6,11.8,12.0,12.2,12.4,12.6,12.8,13.0,13.2,13.4,13.6,13.8,14.0,14.2,14.4,14.6,14.8,15.0,15.2,15.4,15.6,15.8,16.0,16.2,16.4,16.6,16.8,17.0,17.2,17.4,17.6,17.8,18.0,18.2,18.4,18.6,18.8,19.0,19.2,19.4,19.6,19.8,20.0,20.2,20.4,20.6,20.8,21.0,21.2,21.4,21.6,21.8,22.0,22.2,22.4,22.6,22.8,23.0,23.2,23.4,23.6,23.8,24.0,24.2,24.4,24.6,24.8,25.0,25.2,25.4,25.6,25.8,26.0,26.2,26.4,26.6,26.8,27.0,27.2,27.4,27.6,27.8,28.0,28.2,28.4,28.6,28.8,29.0,29.2,29.4,29.6,29.8,30.0,30.2,30.4,30.6,30.8,31.0,31.2,31.4,31.6,31.8,32.0,32.2,32.4,32.6,32.8,33.0,33.2,33.4,33.6,33.8,34.0,34.2,34.4,34.6,34.8,35.0,35.2,35.4,35.6,35.8,36.0,36.2,36.4,36.6,36.8,37.0,37.2,37.4,37.6,37.8,38.0,38.2,38.4,38.6,38.8,39.0,39.2,39.4,39.6,39.8,40.0,40.2,40.4,40.6,40.8,41.0,41.2,41.4,41.6,41.8,42.0,42.2,42.4,42.6,42.8,43.0,43.2,43.4,43.6,43.8,44.0,44.2,44.4,44.6,44.8,45.0,45.2,45.4,45.6,45.8,46.0,46.2,46.4,46.6,46.8,47.0,47.2,47.4,47.6,47.8,48.0,48.2,48.4,48.6,48.8,49.0,49.2,49.4,49.6,49.8,50.0,50.2,50.4,50.6,50.8,51.0,51.2,51.4,51.6,51.8,52.0,52.2,52.4,52.6,52.8,53.0,53.2,53.4,53.6,53.8,54.0,54.2,54.4,54.6,54.8,55.0,55.2,55.4,55.6,55.8,56.0,56.2,56.4,56.6,56.8,57.0,57.2,57.4,57.6,57.8,58.0,58.2,58.4,58.6,58.8,59.0,59.2,59.4,59.6,59.8,60.0,60.2,60.4,60.6,60.8,61.0,61.2,61.4,61.6,61.8,62.0,62.2,62.4,62.6,62.8,63.0,63.2,63.4,63.6,63.8,64.0,64.2,64.4,64.6,64.8,65.0,65.2,65.4,65.6,65.8,66.0,66.2,66.4,66.6,66.8,67.0,67.2,67.4,67.6,67.8,68.0,68.2,68.4,68.6,68.8,69.0,69.2,69.4,69.6,69.8,70.0,70.2,70.4,70.6,70.8,71.0,71.2,71.4,71.6,71.8,72.0,72.2,72.4,72.6,72.8,73.0,73.2,73.4,73.6,73.8,74.0,74.2,74.4,74.6,74.8,75.0,75.2,75.4,75.6,75.8,76.0,76.2,76.4,76.6,76.8,77.0,77.2,77.4,77.6,77.8,78.0,78.2,78.4,78.6,78.8,79.0,79.2,79.4,79.6,79.8],\"y\":[17079376.04457,9774307.54387,10332797.98143,8278912.16883,7485561.96083,7217041.53096,7460230.68209,6434505.25447,6428455.42142,5717674.15332,6175131.65388,6025196.27923,5030053.76278,5721909.82689,5047282.90346,5195872.8861,4778240.12535,4508172.6781,4671124.82604,4412062.22548,4721793.71823,4771946.31875,4726956.23593,4561136.6379,5250618.81941,4777967.17848,4430670.65351,4930910.79568,4384375.58943,4735146.95179,4833102.95709,4898575.20761,4859469.07651,4925994.64234,4793965.84804,4690627.45569,5099996.25897,4816447.22862,4864595.65758,4859507.3054,4862632.03958,5030707.14949,4640923.60574,4841553.04453,4876124.17595,4953435.36954,5048320.20352,4913899.68405,4731655.62709,4997698.24183,4947151.67926,4907710.38561,4991031.74957,5046690.38512,4891003.63978,4973202.1703,4931896.83057,4987462.46359,4964368.07692,5126013.29202,5207827.5899,5324277.56231,5677481.46941,5734256.49393,5826121.37908,5979798.99557,5841781.84677,5875845.21601,6014534.00331,5873855.53992,6029694.64886,5877102.96976,6013624.58317,5871591.41426,5762216.46088,5716050.43445,5634383.70152,5721134.77478,5785943.20051,5732504.01496,5794804.08643,5593197.18291,5679961.86528,5679708.25787,5651011.53639,5531064.30579,5659252.10307,5576538.45034,5535863.38462,5454763.92206,5471715.05487,5310352.53801,5246148.52657,5439695.72561,5436706.88868,5312064.81136,5268455.66233,5244927.04057,5234234.56415,5221807.17942,5172342.20714,5082973.38507,5123753.44652,5089805.12989,5084751.51736,5207622.47699,5110736.56942,5093033.52419,4933864.25282,4949641.29092,4953853.18126,5075685.89692,5049695.37887,5072007.29002,5040239.10149,5115400.42545,5152408.54353,5146164.51107,5016617.83661,5087830.62771,4972130.8742,4918829.82478,4872668.32071,4855172.82587,4875549.85817,4845818.90118,4854217.10199,4844469.65867,4777714.52944,4755630.10275,4784290.2461,4721296.68182,4647055.37123,4746070.16452,4688132.91566,4753807.10091,4806387.74145,4758263.83061,4884473.62069,4898612.71086,5030960.49955,5207431.54879,5385901.829,5947686.93627,6607648.15865,7443352.39233,8415969.12227,9032072.52832,9186786.74524,9304273.06813,8872444.49901,8141781.71857,7320430.7318,6658413.06032,6273774.23578,6240636.62103,6573715.93738,7137598.56867,8045952.69799,9311672.02513,10456049.62744,11452193.98564,11815237.19912,11728494.42562,11100540.17929,9880214.3993,8583196.94446,7210041.70337,6123733.06209,5455934.21211,5200246.40406,5061323.09293,5080994.63601,5168888.1044,5162309.77274,5208994.67312,5178181.27812,5089668.55836,4974452.77575,4865898.41179,4696950.27477,4585618.68009,4463355.43205,4392717.37707,4563606.08397,4691124.29889,4954623.28647,5275978.84546,5537959.60465,5923549.89334,6097711.93493,6080502.70175,6067789.86924,5923504.14438,5631415.69955,5336417.82688,4884919.18272,4425407.38572,4162613.29701,3978521.94888,3820175.09978,3692854.26483,3655698.39188,3601125.15609,3644840.38743,3557395.55215,3546216.83834,3529244.73543,3489482.83223,3501273.53091,3428375.37688,3440793.33691,3462696.49198,3449922.32726,3441419.06453,3442597.32451,3473623.91297,3468547.86859,3365017.44017,3469884.69052,3408104.14203,3393942.91339,3406592.64252,3376841.3394,3376151.95023,3357393.97871,3322699.85128,3331291.20608,3324079.89105,3305615.79128,3371586.31285,3306241.39536,3334796.41483,3281956.51388,3291989.22829,3341412.98957,3277347.33028,3303449.50989,3291286.15473,3314492.683,3282282.61427,3341128.88901,3329234.06206,3313587.04141,3288967.92443,3265689.34485,3215119.44398,3243373.39406,3221495.22545,3167189.43939,3226072.37825,3195934.76837,3257442.85792,3305817.67688,3318064.68052,3384597.44929,3430388.9446,3452464.43502,3580318.85113,3655486.52673,3746805.66892,3779234.97172,3830203.70999,3821283.80404,3839820.97332,3869412.05881,3817749.7166,3830416.54243,3843967.62155,3772252.85952,3675569.38428,3641356.90842,3596634.08627,3640851.2888,3567048.29418,3610785.23058,3543185.69366,3564768.50654,3594452.686,3500504.69934,3520313.53069,3530343.21406,3510262.21355,3584160.7068,3526036.79909,3515599.76729,3435960.61083,3413025.32924,3436148.08486,3360909.16267,3380379.32502,3441538.08823,3390956.65123,3371239.19492,3373188.58202,3426903.34411,3405040.94261,3414173.9523,3418033.23631,3388222.9468,3371481.31714,3389297.90662,3386786.86766,3417912.9732,3386219.44662,3376421.43413,3430513.45949,3378726.97466,3438845.33678,3371362.38899,3358608.97349,3387825.04257,3406479.34463,3419794.32812,3407327.06501,3442155.2539,3371833.67257,3371108.98718,3402624.21054,3429336.10924,3400513.83896,3356454.88605,3325469.27946,3260394.09584,3228063.09583,3116117.78889,3091419.50636,2971124.63296,2759493.22053,2702499.94498,2582703.59813,2449657.01075,2418276.57997,2406968.13225,2333547.15376,2179333.52138,2133160.26013,2055098.26647,1948420.4292,1871456.70786,1843802.13454,1833088.01401,1800432.44266,1817536.13628,1831938.91372,1768263.84414,1778092.87006,1782238.63689,1675761.97836,1798049.63015,1700213.42699,1753699.66344,1777439.69453,1704700.81401,1732709.68373,1684508.67184,1697566.33073,1742403.2966,1635518.34988,1656581.4172,1655395.15251,1636576.55763,1664624.3576,1655535.29812,1601765.15508,1543506.35638,1534106.90154,1613819.44746,1648653.60278,1615860.60107,1617610.80652,1569579.73997,1607665.50891,1508492.98676,1565766.89238,1571377.82976,1863236.45633,3397808.38492]},\"selected\":{\"id\":\"1077\",\"type\":\"Selection\"},\"selection_policy\":{\"id\":\"1076\",\"type\":\"UnionRenderers\"}},\"id\":\"1049\",\"type\":\"ColumnDataSource\"},{\"attributes\":{\"source\":{\"id\":\"1063\",\"type\":\"ColumnDataSource\"}},\"id\":\"1067\",\"type\":\"CDSView\"},{\"attributes\":{\"callback\":null,\"data\":{\"x\":[4.4,4.6,4.8,5.0,5.2,5.4,5.6,5.8,6.0,6.2,6.4,6.6,6.8,7.0,7.2,7.4,7.6,7.8,8.0,8.2,8.4,8.6,8.8,9.0,9.2,9.4,9.6,9.8,10.0,10.2,10.4,10.6,10.8,11.0,11.2,11.4,11.6,11.8,12.0,12.2,12.4,12.6,12.8,13.0,13.2,13.4,13.6,13.8,14.0,14.2,14.4,14.6,14.8,15.0,15.2,15.4,15.6,15.8,16.0,16.2,16.4,16.6,16.8,17.0,17.2,17.4,17.6,17.8,18.0,18.2,18.4,18.6,18.8,19.0,19.2,19.4,19.6,19.8,20.0,20.2,20.4,20.6,20.8,21.0,21.2,21.4,21.6,21.8,22.0,22.2,22.4,22.6,22.8,23.0,23.2,23.4,23.6,23.8,24.0,24.2,24.4,24.6,24.8,25.0,25.2,25.4,25.6,25.8,26.0,26.2,26.4,26.6,26.8,27.0,27.2,27.4,27.6,27.8,28.0,28.2,28.4,28.6,28.8,29.0,29.2,29.4,29.6,29.8,30.0,30.2,30.4,30.6,30.8,31.0,31.2,31.4,31.6,31.8,32.0,32.2,32.4,32.6,32.8,33.0,33.2,33.4,33.6,33.8,34.0,34.2,34.4,34.6,34.8,35.0,35.2,35.4,35.6,35.8,36.0,36.2,36.4,36.6,36.8,37.0,37.2,37.4,37.6,37.8,38.0,38.2,38.4,38.6,38.8,39.0,39.2,39.4,39.6,39.8,40.0,40.2,40.4,40.6,40.8,41.0,41.2,41.4,41.6,41.8,42.0,42.2,42.4,42.6,42.8,43.0,43.2,43.4,43.6,43.8,44.0,44.2,44.4,44.6,44.8,45.0,45.2,45.4,45.6,45.8,46.0,46.2,46.4,46.6,46.8,47.0,47.2,47.4,47.6,47.8,48.0,48.2,48.4,48.6,48.8,49.0,49.2,49.4,49.6,49.8,50.0,50.2,50.4,50.6,50.8,51.0,51.2,51.4,51.6,51.8,52.0,52.2,52.4,52.6,52.8,53.0,53.2,53.4,53.6,53.8,54.0,54.2,54.4,54.6,54.8,55.0,55.2,55.4,55.6,55.8,56.0,56.2,56.4,56.6,56.8,57.0,57.2,57.4,57.6,57.8,58.0,58.2,58.4,58.6,58.8,59.0,59.2,59.4,59.6,59.8,60.0,60.2,60.4,60.6,60.8,61.0,61.2,61.4,61.6,61.8,62.0,62.2,62.4,62.6,62.8,63.0,63.2,63.4,63.6,63.8,64.0,64.2,64.4,64.6,64.8,65.0,65.2,65.4,65.6,65.8,66.0,66.2,66.4,66.6,66.8,67.0,67.2,67.4,67.6,67.8,68.0,68.2,68.4,68.6,68.8,69.0,69.2,69.4,69.6,69.8,70.0,70.2,70.4,70.6,70.8,71.0,71.2,71.4,71.6,71.8,72.0,72.2,72.4,72.6,72.8,73.0,73.2,73.4,73.6,73.8,74.0,74.2,74.4,74.6,74.8,75.0,75.2,75.4,75.6,75.8,76.0,76.2,76.4,76.6,76.8,77.0,77.2,77.4,77.6,77.8,78.0,78.2,78.4,78.6,78.8,79.0,79.2,79.4,79.6,79.8],\"y\":[16949917.603,12120886.0511,9548765.80772,9047541.50017,7592833.78155,7274094.75854,7501861.18474,7011957.02281,6287420.00714,6515290.46122,5785814.93968,5945591.01719,4939639.88049,4953336.51557,4795790.18339,4715221.70092,4850248.16635,4768813.8618,4582703.78854,4789976.0465,4819276.14645,4638988.75426,4994398.64154,4628183.88514,4660959.26986,4776114.82595,4567367.73554,4947712.08572,4676066.9076,4785035.5589,4874744.04671,4596500.6035,4915717.11775,4737381.81104,4917322.73833,4740628.67863,5087611.4411,4649106.67161,4980399.6264,5192120.60076,4914765.96121,5067969.02759,5014282.4037,4728801.08322,4840820.00367,4844263.81428,5102304.59611,4928708.23799,4888727.34552,4783225.17693,4855132.18606,4806307.21852,4876826.91839,4687892.32628,4951213.41457,4891889.90099,4967624.137,4864040.6529,5102601.16096,5324912.91993,5372089.85984,5607802.14518,5823222.86144,5990229.74735,6088437.27722,6180146.99011,6044656.37468,5965949.19607,6040786.99964,6052210.34298,6153062.52571,5932662.71995,5953857.61514,5929377.8947,5757025.57503,5831342.61626,5824413.84468,5639331.44122,5788257.50125,5794493.47257,5836695.52631,5527767.14616,5608952.5228,5661596.88452,5619908.95233,5759438.62521,5655617.46556,5823597.5821,5623062.63858,5495480.19177,5327899.97819,5464727.79587,5481669.06783,5427577.67019,5284596.33409,5231841.3079,5333329.50471,5233301.66144,5259151.69745,5200076.15399,5167373.79658,5242807.82529,5000553.47126,5148761.27603,5218514.91632,5131759.11232,4961642.09989,5114632.65047,5130400.50322,5037692.43897,4812258.32782,4941819.22994,4953070.32767,4894833.30929,4985596.02363,5018223.36064,5020008.27825,4853949.20761,4813915.15455,4875992.23978,4723393.75532,4835616.84811,4749234.77626,4826767.31274,4672248.81222,4847004.74885,4802452.22125,4751123.69628,4881796.45887,4728853.63226,4734181.43956,4764204.88079,4815561.77406,4706032.81545,4680941.93198,4808080.29347,4781757.8347,4803264.6301,4988843.47082,4948637.09147,5055124.99794,5318394.97432,5571254.6228,5948847.57107,6595718.61055,7458107.42951,8238614.12549,8801904.47329,9059924.00225,8828370.95435,8539398.0763,7848854.4284,7166033.13642,6482813.39415,6242912.44598,6174120.8533,6482764.61755,7147918.10261,8143926.93295,9208866.13496,10519151.59239,11508356.47999,11838168.59897,11735202.49645,10942916.74976,10020918.17071,8502705.03719,7352227.46877,6211347.09547,5707928.83175,5368686.40845,5248876.67121,5322142.70871,5519610.18683,5530563.59712,5623422.77518,5487206.83187,5651692.43666,5472486.15029,5370314.53857,5082706.21579,4878766.4156,4770945.03596,4631342.52347,4693978.70335,4718941.72323,5015978.25373,5336543.37297,5668861.11129,5867063.6071,6181175.40793,6187373.70663,6061124.53178,5931787.2315,5598792.9087,5337974.47604,4799966.9093,4465830.50856,4160053.63811,3921330.52335,3816655.86192,3721850.97836,3657198.54585,3595103.64798,3639459.30155,3614200.7187,3528111.54363,3483601.72792,3513348.43464,3426031.0222,3517356.85031,3446831.85684,3512734.86066,3448522.33821,3465494.60441,3394123.9871,3409202.21312,3436453.9174,3446146.00272,3372820.01015,3388596.85309,3325301.42215,3345664.236,3353229.37978,3307812.20534,3330646.48061,3295928.28246,3323379.30876,3256742.26564,3292895.65179,3325023.79814,3266271.91378,3251276.61822,3292660.35464,3321357.60618,3293006.97343,3361380.95276,3303465.85597,3402344.54359,3379947.29888,3394738.06632,3352056.35431,3298532.79788,3300586.43229,3311789.35372,3260464.47864,3251271.74,3288959.77034,3259584.29073,3289468.7291,3275019.9648,3268245.38564,3315336.57553,3341359.63465,3368204.0502,3414059.56557,3506412.38516,3548414.08195,3659104.69883,3760236.82265,3785301.77114,3940564.81491,3961527.54753,3946670.89688,4010761.91825,4027709.19223,3954299.1784,3908630.28892,3948618.60742,3778651.43824,3814937.52803,3761023.78149,3698577.10423,3680171.52549,3670356.58343,3606250.24883,3604636.64936,3596429.56441,3580090.13181,3621244.75716,3614016.92013,3593609.09284,3531418.03225,3548485.92918,3500784.30687,3493131.98481,3464815.24005,3522937.23555,3394554.82896,3455031.63635,3359574.93892,3393180.48591,3364292.05159,3364406.56435,3394787.00165,3395017.41921,3425910.648,3426870.2735,3383246.66746,3414940.80466,3372595.2077,3419370.76981,3404139.04242,3329487.97463,3369678.00025,3336640.3172,3384675.46789,3401363.21318,3376530.91118,3353209.64195,3328478.98074,3382392.17103,3332540.12162,3318222.87752,3289670.13628,3346399.45915,3383351.28727,3398707.61463,3425203.93036,3345066.23448,3374027.35908,3293195.43229,3236662.82119,3290904.41431,3257666.99469,3128588.98342,3039848.69764,2854339.10974,2851079.23334,2761636.07446,2575512.75136,2513313.97251,2398335.22852,2272958.50926,2290924.23851,2185722.96626,2094379.70863,2101009.78549,2016520.47761,1907976.10856,1840950.68231,1842680.27681,1823468.83585,1815415.10377,1824411.34585,1748887.04585,1774370.64925,1802145.83638,1743085.24894,1706606.03695,1787608.23111,1725176.71823,1793533.5401,1801179.1232,1721381.04117,1696112.93717,1686797.03626,1704506.81479,1693261.15948,1618906.32477,1649351.48632,1690136.52089,1643832.26098,1624664.46326,1579073.22047,1604044.517,1597703.78962,1517169.40666,1530923.84885,1493761.06267,1492041.49182,1611886.67796,1604754.83043,1685253.04512,1677311.94161,1762861.6393,1716092.6468,3230539.51659]},\"selected\":{\"id\":\"1061\",\"type\":\"Selection\"},\"selection_policy\":{\"id\":\"1060\",\"type\":\"UnionRenderers\"}},\"id\":\"1036\",\"type\":\"ColumnDataSource\"},{\"attributes\":{\"callback\":null,\"data\":{\"x\":[4.5,80.0],\"y\":{\"__ndarray__\":\"AAAAAAAAAAAAAAAAAAAAAA==\",\"dtype\":\"float64\",\"shape\":[2]}},\"selected\":{\"id\":\"1090\",\"type\":\"Selection\"},\"selection_policy\":{\"id\":\"1089\",\"type\":\"UnionRenderers\"}},\"id\":\"1063\",\"type\":\"ColumnDataSource\"},{\"attributes\":{},\"id\":\"1061\",\"type\":\"Selection\"},{\"attributes\":{\"active_drag\":\"auto\",\"active_inspect\":\"auto\",\"active_multi\":null,\"active_scroll\":\"auto\",\"active_tap\":\"auto\",\"tools\":[{\"id\":\"1023\",\"type\":\"PanTool\"},{\"id\":\"1024\",\"type\":\"WheelZoomTool\"},{\"id\":\"1025\",\"type\":\"BoxZoomTool\"},{\"id\":\"1026\",\"type\":\"SaveTool\"},{\"id\":\"1027\",\"type\":\"ResetTool\"},{\"id\":\"1028\",\"type\":\"HelpTool\"}]},\"id\":\"1029\",\"type\":\"Toolbar\"},{\"attributes\":{\"line_alpha\":0.1,\"line_color\":\"#1f77b4\",\"line_width\":2,\"x\":{\"field\":\"x\"},\"y\":{\"field\":\"y\"}},\"id\":\"1051\",\"type\":\"Line\"},{\"attributes\":{},\"id\":\"1011\",\"type\":\"LinearScale\"},{\"attributes\":{\"label\":{\"value\":\"down\"},\"renderers\":[{\"id\":\"1052\",\"type\":\"GlyphRenderer\"}]},\"id\":\"1062\",\"type\":\"LegendItem\"},{\"attributes\":{},\"id\":\"1028\",\"type\":\"HelpTool\"},{\"attributes\":{},\"id\":\"1090\",\"type\":\"Selection\"},{\"attributes\":{\"dimension\":1,\"ticker\":{\"id\":\"1019\",\"type\":\"BasicTicker\"}},\"id\":\"1022\",\"type\":\"Grid\"},{\"attributes\":{\"callback\":null},\"id\":\"1007\",\"type\":\"DataRange1d\"}],\"root_ids\":[\"1002\"]},\"title\":\"Bokeh Application\",\"version\":\"1.4.0\"}};\n",
       "  var render_items = [{\"docid\":\"bd2cedec-28da-4bea-a4c4-625b6e4d5419\",\"roots\":{\"1002\":\"aa87d506-499c-4906-93c1-f78e27ce0b47\"}}];\n",
       "  root.Bokeh.embed.embed_items_notebook(docs_json, render_items);\n",
       "\n",
       "  }\n",
       "  if (root.Bokeh !== undefined) {\n",
       "    embed_document(root);\n",
       "  } else {\n",
       "    var attempts = 0;\n",
       "    var timer = setInterval(function(root) {\n",
       "      if (root.Bokeh !== undefined) {\n",
       "        clearInterval(timer);\n",
       "        embed_document(root);\n",
       "      } else {\n",
       "        attempts++;\n",
       "        if (attempts > 100) {\n",
       "          clearInterval(timer);\n",
       "          console.log(\"Bokeh: ERROR: Unable to run BokehJS code because BokehJS library is missing\");\n",
       "        }\n",
       "      }\n",
       "    }, 10, root)\n",
       "  }\n",
       "})(window);"
      ],
      "application/vnd.bokehjs_exec.v0+json": ""
     },
     "metadata": {
      "application/vnd.bokehjs_exec.v0+json": {
       "id": "1002"
      }
     },
     "output_type": "display_data"
    }
   ],
   "source": [
    "experiments = rhochi.experiments\n",
    "for experiment in experiments:\n",
    "    if isinstance(experiment, cryspy.Pd):\n",
    "        meas = experiment.meas\n",
    "        p = figure(plot_height=300, plot_width=800, title=\"input data\", x_axis_label=\"ttheta\", y_axis_label=\"intensity\")\n",
    "        p.line(meas.ttheta, meas.intensity_up, legend_label=\"up\", line_width=2, color=\"red\")\n",
    "        p.line(meas.ttheta, meas.intensity_down, legend_label=\"down\", line_width=2)\n",
    "        back = experiment.background\n",
    "        p.line(back.ttheta, numpy.array(back.intensity, dtype=float), legend_label=\"background\", line_width=2, color=\"black\")\n",
    "        show(p)"
   ]
  },
  {
   "cell_type": "markdown",
   "metadata": {},
   "source": [
    "# Refinement"
   ]
  },
  {
   "cell_type": "code",
   "execution_count": 6,
   "metadata": {},
   "outputs": [
    {
     "name": "stdout",
     "output_type": "stream",
     "text": [
      "    -6.24594      6.08714      0.63995      3.18003\n",
      "    -6.24615      6.08735      0.63979      3.18229\n",
      "    -6.24605      6.08750      0.63938      3.18759\n",
      "    -6.24573      6.08739      0.63922      3.18918\n",
      "    -6.24557      6.08731      0.63917      3.18932\n",
      "    -6.24547      6.08725      0.63910      3.18930\n",
      "    -6.24539      6.08719      0.63895      3.18926\n",
      "    -6.24533      6.08715      0.63868      3.18920\n",
      "    -6.24533      6.08712      0.63817      3.18915\n",
      "    -6.24545      6.08714      0.63722      3.18909\n",
      "    -6.24576      6.08725      0.63594      3.18907\n",
      "    -6.24596      6.08735      0.63565      3.18913\n",
      "    -6.24609      6.08742      0.63569      3.18918\n",
      "Optimization terminated successfully.\n",
      "         Current function value: 3.104815\n",
      "         Iterations: 13\n",
      "         Function evaluations: 96\n",
      "         Gradient evaluations: 16\n"
     ]
    },
    {
     "data": {
      "text/plain": [
       "{'flag': True,\n",
       " 'res':       fun: 3.1048154484972326\n",
       "  hess_inv: array([[ 1.62507   , -0.58296323,  5.99397784,  0.63518238],\n",
       "        [-0.58296323,  0.68158041, -2.05813144,  0.11924399],\n",
       "        [ 5.99397784, -2.05813144, 88.62141179, -3.05665258],\n",
       "        [ 0.63518238,  0.11924399, -3.05665258, 17.48199542]])\n",
       "       jac: array([ 2.92062759e-06, -2.17556953e-06, -1.04308128e-06, -6.55651093e-07])\n",
       "   message: 'Optimization terminated successfully.'\n",
       "      nfev: 96\n",
       "       nit: 13\n",
       "      njev: 16\n",
       "    status: 0\n",
       "   success: True\n",
       "         x: array([-2.46139631,  2.44071809,  0.73680216,  1.87165951])}"
      ]
     },
     "execution_count": 6,
     "metadata": {},
     "output_type": "execute_result"
    }
   ],
   "source": [
    "rhochi.refine(disp=True)"
   ]
  },
  {
   "cell_type": "markdown",
   "metadata": {},
   "source": [
    "# Rewrite input file"
   ]
  },
  {
   "cell_type": "code",
   "execution_count": 7,
   "metadata": {},
   "outputs": [],
   "source": [
    "rhochi.save_to_file(f_main)\n",
    "os.startfile(f_main)"
   ]
  },
  {
   "cell_type": "markdown",
   "metadata": {},
   "source": [
    "# Model and experiment"
   ]
  },
  {
   "cell_type": "code",
   "execution_count": 16,
   "metadata": {},
   "outputs": [
    {
     "data": {
      "text/html": [
       "\n",
       "\n",
       "\n",
       "\n",
       "\n",
       "\n",
       "  <div class=\"bk-root\" id=\"6827fac2-dec5-4f2f-8d7c-d0991085891f\" data-root-id=\"4553\"></div>\n"
      ]
     },
     "metadata": {},
     "output_type": "display_data"
    },
    {
     "data": {
      "application/javascript": [
       "(function(root) {\n",
       "  function embed_document(root) {\n",
       "    \n",
       "  var docs_json = {\"52a996a1-15ae-4042-867c-6d458d30fab3\":{\"roots\":{\"references\":[{\"attributes\":{\"children\":[{\"id\":\"4369\",\"subtype\":\"Figure\",\"type\":\"Plot\"},{\"id\":\"4421\",\"subtype\":\"Figure\",\"type\":\"Plot\"},{\"id\":\"4457\",\"subtype\":\"Figure\",\"type\":\"Plot\"},{\"id\":\"4517\",\"subtype\":\"Figure\",\"type\":\"Plot\"}]},\"id\":\"4553\",\"type\":\"Column\"},{\"attributes\":{},\"id\":\"4794\",\"type\":\"BasicTickFormatter\"},{\"attributes\":{\"line_alpha\":0.1,\"line_color\":\"#1f77b4\",\"line_width\":2,\"x\":{\"field\":\"x\"},\"y\":{\"field\":\"y\"}},\"id\":\"4505\",\"type\":\"Line\"},{\"attributes\":{},\"id\":\"4807\",\"type\":\"Selection\"},{\"attributes\":{},\"id\":\"4514\",\"type\":\"UnionRenderers\"},{\"attributes\":{\"text\":\"\"},\"id\":\"4784\",\"type\":\"Title\"},{\"attributes\":{\"data_source\":{\"id\":\"4503\",\"type\":\"ColumnDataSource\"},\"glyph\":{\"id\":\"4504\",\"type\":\"Line\"},\"hover_glyph\":null,\"muted_glyph\":null,\"nonselection_glyph\":{\"id\":\"4505\",\"type\":\"Line\"},\"selection_glyph\":null,\"view\":{\"id\":\"4507\",\"type\":\"CDSView\"}},\"id\":\"4506\",\"type\":\"GlyphRenderer\"},{\"attributes\":{},\"id\":\"4796\",\"type\":\"BasicTickFormatter\"},{\"attributes\":{\"text\":\"\"},\"id\":\"4787\",\"type\":\"Title\"},{\"attributes\":{\"overlay\":{\"id\":\"4413\",\"type\":\"BoxAnnotation\"}},\"id\":\"4392\",\"type\":\"BoxZoomTool\"},{\"attributes\":{\"label\":{\"value\":\"model\"},\"renderers\":[{\"id\":\"4506\",\"type\":\"GlyphRenderer\"}]},\"id\":\"4516\",\"type\":\"LegendItem\"},{\"attributes\":{\"callback\":null},\"id\":\"4519\",\"type\":\"DataRange1d\"},{\"attributes\":{\"source\":{\"id\":\"4503\",\"type\":\"ColumnDataSource\"}},\"id\":\"4507\",\"type\":\"CDSView\"},{\"attributes\":{},\"id\":\"4804\",\"type\":\"BasicTickFormatter\"},{\"attributes\":{},\"id\":\"4515\",\"type\":\"Selection\"},{\"attributes\":{\"data_source\":{\"id\":\"4548\",\"type\":\"ColumnDataSource\"},\"glyph\":{\"id\":\"4549\",\"type\":\"Line\"},\"hover_glyph\":null,\"muted_glyph\":null,\"nonselection_glyph\":{\"id\":\"4550\",\"type\":\"Line\"},\"selection_glyph\":null,\"view\":{\"id\":\"4552\",\"type\":\"CDSView\"}},\"id\":\"4551\",\"type\":\"GlyphRenderer\"},{\"attributes\":{},\"id\":\"4802\",\"type\":\"BasicTickFormatter\"},{\"attributes\":{\"bottom_units\":\"screen\",\"fill_alpha\":{\"value\":0.5},\"fill_color\":{\"value\":\"lightgrey\"},\"left_units\":\"screen\",\"level\":\"overlay\",\"line_alpha\":{\"value\":1.0},\"line_color\":{\"value\":\"black\"},\"line_dash\":[4,4],\"line_width\":{\"value\":2},\"render_mode\":\"css\",\"right_units\":\"screen\",\"top_units\":\"screen\"},\"id\":\"4810\",\"type\":\"BoxAnnotation\"},{\"attributes\":{\"axis_label\":\"ttheta\",\"formatter\":{\"id\":\"4804\",\"type\":\"BasicTickFormatter\"},\"ticker\":{\"id\":\"4526\",\"type\":\"BasicTicker\"}},\"id\":\"4525\",\"type\":\"LinearAxis\"},{\"attributes\":{},\"id\":\"4806\",\"type\":\"UnionRenderers\"},{\"attributes\":{},\"id\":\"4808\",\"type\":\"UnionRenderers\"},{\"attributes\":{},\"id\":\"4809\",\"type\":\"Selection\"},{\"attributes\":{\"bottom_units\":\"screen\",\"fill_alpha\":{\"value\":0.5},\"fill_color\":{\"value\":\"lightgrey\"},\"left_units\":\"screen\",\"level\":\"overlay\",\"line_alpha\":{\"value\":1.0},\"line_color\":{\"value\":\"black\"},\"line_dash\":[4,4],\"line_width\":{\"value\":2},\"render_mode\":\"css\",\"right_units\":\"screen\",\"top_units\":\"screen\"},\"id\":\"4818\",\"type\":\"BoxAnnotation\"},{\"attributes\":{},\"id\":\"4521\",\"type\":\"LinearScale\"},{\"attributes\":{\"source\":{\"id\":\"4490\",\"type\":\"ColumnDataSource\"}},\"id\":\"4494\",\"type\":\"CDSView\"},{\"attributes\":{},\"id\":\"4811\",\"type\":\"UnionRenderers\"},{\"attributes\":{},\"id\":\"4523\",\"type\":\"LinearScale\"},{\"attributes\":{\"ticker\":{\"id\":\"4526\",\"type\":\"BasicTicker\"}},\"id\":\"4529\",\"type\":\"Grid\"},{\"attributes\":{},\"id\":\"4391\",\"type\":\"WheelZoomTool\"},{\"attributes\":{\"fill_alpha\":{\"value\":0.1},\"fill_color\":{\"value\":\"#1f77b4\"},\"line_alpha\":{\"value\":0.1},\"line_color\":{\"value\":\"#1f77b4\"},\"size\":{\"units\":\"screen\",\"value\":5},\"x\":{\"field\":\"x\"},\"y\":{\"field\":\"y\"}},\"id\":\"4492\",\"type\":\"Circle\"},{\"attributes\":{},\"id\":\"4812\",\"type\":\"Selection\"},{\"attributes\":{},\"id\":\"4816\",\"type\":\"UnionRenderers\"},{\"attributes\":{},\"id\":\"4526\",\"type\":\"BasicTicker\"},{\"attributes\":{},\"id\":\"4817\",\"type\":\"Selection\"},{\"attributes\":{\"data_source\":{\"id\":\"4490\",\"type\":\"ColumnDataSource\"},\"glyph\":{\"id\":\"4491\",\"type\":\"Circle\"},\"hover_glyph\":null,\"muted_glyph\":null,\"nonselection_glyph\":{\"id\":\"4492\",\"type\":\"Circle\"},\"selection_glyph\":null,\"view\":{\"id\":\"4494\",\"type\":\"CDSView\"}},\"id\":\"4493\",\"type\":\"GlyphRenderer\"},{\"attributes\":{},\"id\":\"4531\",\"type\":\"BasicTicker\"},{\"attributes\":{\"dimension\":1,\"ticker\":{\"id\":\"4531\",\"type\":\"BasicTicker\"}},\"id\":\"4534\",\"type\":\"Grid\"},{\"attributes\":{},\"id\":\"4819\",\"type\":\"UnionRenderers\"},{\"attributes\":{\"line_alpha\":0.1,\"line_color\":\"#1f77b4\",\"x\":{\"field\":\"x\"},\"y\":{\"field\":\"y\"}},\"id\":\"4550\",\"type\":\"Line\"},{\"attributes\":{},\"id\":\"4820\",\"type\":\"Selection\"},{\"attributes\":{},\"id\":\"4497\",\"type\":\"BasicTickFormatter\"},{\"attributes\":{\"x\":{\"field\":\"x\"},\"y\":{\"field\":\"y\"}},\"id\":\"4549\",\"type\":\"Line\"},{\"attributes\":{},\"id\":\"4499\",\"type\":\"BasicTickFormatter\"},{\"attributes\":{},\"id\":\"4535\",\"type\":\"PanTool\"},{\"attributes\":{},\"id\":\"4536\",\"type\":\"WheelZoomTool\"},{\"attributes\":{\"overlay\":{\"id\":\"4818\",\"type\":\"BoxAnnotation\"}},\"id\":\"4537\",\"type\":\"BoxZoomTool\"},{\"attributes\":{},\"id\":\"4538\",\"type\":\"SaveTool\"},{\"attributes\":{},\"id\":\"4540\",\"type\":\"HelpTool\"},{\"attributes\":{},\"id\":\"4539\",\"type\":\"ResetTool\"},{\"attributes\":{\"items\":[{\"id\":\"4502\",\"type\":\"LegendItem\"},{\"id\":\"4516\",\"type\":\"LegendItem\"}]},\"id\":\"4501\",\"type\":\"Legend\"},{\"attributes\":{\"active_drag\":\"auto\",\"active_inspect\":\"auto\",\"active_multi\":null,\"active_scroll\":\"auto\",\"active_tap\":\"auto\",\"tools\":[{\"id\":\"4535\",\"type\":\"PanTool\"},{\"id\":\"4536\",\"type\":\"WheelZoomTool\"},{\"id\":\"4537\",\"type\":\"BoxZoomTool\"},{\"id\":\"4538\",\"type\":\"SaveTool\"},{\"id\":\"4539\",\"type\":\"ResetTool\"},{\"id\":\"4540\",\"type\":\"HelpTool\"}]},\"id\":\"4541\",\"type\":\"Toolbar\"},{\"attributes\":{},\"id\":\"4394\",\"type\":\"ResetTool\"},{\"attributes\":{\"fill_alpha\":{\"value\":0.1},\"fill_color\":{\"value\":\"#1f77b4\"},\"line_alpha\":{\"value\":0.1},\"line_color\":{\"value\":\"#1f77b4\"},\"size\":{\"units\":\"screen\",\"value\":5},\"x\":{\"field\":\"x\"},\"y\":{\"field\":\"y\"}},\"id\":\"4405\",\"type\":\"Circle\"},{\"attributes\":{\"line_width\":2,\"x\":{\"field\":\"x\"},\"y\":{\"field\":\"y\"}},\"id\":\"4417\",\"type\":\"Line\"},{\"attributes\":{\"callback\":null},\"id\":\"4372\",\"type\":\"DataRange1d\"},{\"attributes\":{\"dimension\":1,\"ticker\":{\"id\":\"4386\",\"type\":\"BasicTicker\"}},\"id\":\"4389\",\"type\":\"Grid\"},{\"attributes\":{\"active_drag\":\"auto\",\"active_inspect\":\"auto\",\"active_multi\":null,\"active_scroll\":\"auto\",\"active_tap\":\"auto\",\"tools\":[{\"id\":\"4439\",\"type\":\"PanTool\"},{\"id\":\"4440\",\"type\":\"WheelZoomTool\"},{\"id\":\"4441\",\"type\":\"BoxZoomTool\"},{\"id\":\"4442\",\"type\":\"SaveTool\"},{\"id\":\"4443\",\"type\":\"ResetTool\"},{\"id\":\"4444\",\"type\":\"HelpTool\"}]},\"id\":\"4445\",\"type\":\"Toolbar\"},{\"attributes\":{\"text\":\"Sum\"},\"id\":\"4370\",\"type\":\"Title\"},{\"attributes\":{},\"id\":\"4393\",\"type\":\"SaveTool\"},{\"attributes\":{\"below\":[{\"id\":\"4429\",\"type\":\"LinearAxis\"}],\"center\":[{\"id\":\"4433\",\"type\":\"Grid\"},{\"id\":\"4438\",\"type\":\"Grid\"}],\"left\":[{\"id\":\"4434\",\"type\":\"LinearAxis\"}],\"plot_height\":100,\"plot_width\":800,\"renderers\":[{\"id\":\"4455\",\"type\":\"GlyphRenderer\"}],\"title\":{\"id\":\"4784\",\"type\":\"Title\"},\"toolbar\":{\"id\":\"4445\",\"type\":\"Toolbar\"},\"toolbar_location\":null,\"x_range\":{\"id\":\"4372\",\"type\":\"DataRange1d\"},\"x_scale\":{\"id\":\"4425\",\"type\":\"LinearScale\"},\"y_range\":{\"id\":\"4423\",\"type\":\"DataRange1d\"},\"y_scale\":{\"id\":\"4427\",\"type\":\"LinearScale\"}},\"id\":\"4421\",\"subtype\":\"Figure\",\"type\":\"Plot\"},{\"attributes\":{\"formatter\":{\"id\":\"4412\",\"type\":\"BasicTickFormatter\"},\"ticker\":{\"id\":\"4381\",\"type\":\"BasicTicker\"}},\"id\":\"4380\",\"type\":\"LinearAxis\"},{\"attributes\":{\"line_alpha\":0.1,\"line_color\":\"#1f77b4\",\"line_width\":2,\"x\":{\"field\":\"x\"},\"y\":{\"field\":\"y\"}},\"id\":\"4418\",\"type\":\"Line\"},{\"attributes\":{\"data_source\":{\"id\":\"4452\",\"type\":\"ColumnDataSource\"},\"glyph\":{\"id\":\"4453\",\"type\":\"Line\"},\"hover_glyph\":null,\"muted_glyph\":null,\"nonselection_glyph\":{\"id\":\"4454\",\"type\":\"Line\"},\"selection_glyph\":null,\"view\":{\"id\":\"4456\",\"type\":\"CDSView\"}},\"id\":\"4455\",\"type\":\"GlyphRenderer\"},{\"attributes\":{\"data_source\":{\"id\":\"4416\",\"type\":\"ColumnDataSource\"},\"glyph\":{\"id\":\"4417\",\"type\":\"Line\"},\"hover_glyph\":null,\"muted_glyph\":null,\"nonselection_glyph\":{\"id\":\"4418\",\"type\":\"Line\"},\"selection_glyph\":null,\"view\":{\"id\":\"4420\",\"type\":\"CDSView\"}},\"id\":\"4419\",\"type\":\"GlyphRenderer\"},{\"attributes\":{\"active_drag\":\"auto\",\"active_inspect\":\"auto\",\"active_multi\":null,\"active_scroll\":\"auto\",\"active_tap\":\"auto\",\"tools\":[{\"id\":\"4390\",\"type\":\"PanTool\"},{\"id\":\"4391\",\"type\":\"WheelZoomTool\"},{\"id\":\"4392\",\"type\":\"BoxZoomTool\"},{\"id\":\"4393\",\"type\":\"SaveTool\"},{\"id\":\"4394\",\"type\":\"ResetTool\"},{\"id\":\"4395\",\"type\":\"HelpTool\"}]},\"id\":\"4396\",\"type\":\"Toolbar\"},{\"attributes\":{\"axis_label\":\"ttheta\",\"formatter\":{\"id\":\"4796\",\"type\":\"BasicTickFormatter\"},\"ticker\":{\"id\":\"4430\",\"type\":\"BasicTicker\"}},\"id\":\"4429\",\"type\":\"LinearAxis\"},{\"attributes\":{\"text\":\"Difference\"},\"id\":\"4458\",\"type\":\"Title\"},{\"attributes\":{\"source\":{\"id\":\"4416\",\"type\":\"ColumnDataSource\"}},\"id\":\"4420\",\"type\":\"CDSView\"},{\"attributes\":{\"below\":[{\"id\":\"4467\",\"type\":\"LinearAxis\"}],\"center\":[{\"id\":\"4471\",\"type\":\"Grid\"},{\"id\":\"4476\",\"type\":\"Grid\"},{\"id\":\"4501\",\"type\":\"Legend\"}],\"left\":[{\"id\":\"4472\",\"type\":\"LinearAxis\"}],\"plot_height\":300,\"plot_width\":800,\"renderers\":[{\"id\":\"4493\",\"type\":\"GlyphRenderer\"},{\"id\":\"4506\",\"type\":\"GlyphRenderer\"}],\"title\":{\"id\":\"4458\",\"type\":\"Title\"},\"toolbar\":{\"id\":\"4483\",\"type\":\"Toolbar\"},\"x_range\":{\"id\":\"4372\",\"type\":\"DataRange1d\"},\"x_scale\":{\"id\":\"4463\",\"type\":\"LinearScale\"},\"y_range\":{\"id\":\"4461\",\"type\":\"DataRange1d\"},\"y_scale\":{\"id\":\"4465\",\"type\":\"LinearScale\"}},\"id\":\"4457\",\"subtype\":\"Figure\",\"type\":\"Plot\"},{\"attributes\":{\"callback\":null},\"id\":\"4423\",\"type\":\"DataRange1d\"},{\"attributes\":{\"source\":{\"id\":\"4452\",\"type\":\"ColumnDataSource\"}},\"id\":\"4456\",\"type\":\"CDSView\"},{\"attributes\":{\"callback\":null},\"id\":\"4461\",\"type\":\"DataRange1d\"},{\"attributes\":{\"formatter\":{\"id\":\"4499\",\"type\":\"BasicTickFormatter\"},\"ticker\":{\"id\":\"4468\",\"type\":\"BasicTicker\"}},\"id\":\"4467\",\"type\":\"LinearAxis\"},{\"attributes\":{},\"id\":\"4386\",\"type\":\"BasicTicker\"},{\"attributes\":{},\"id\":\"4425\",\"type\":\"LinearScale\"},{\"attributes\":{},\"id\":\"4395\",\"type\":\"HelpTool\"},{\"attributes\":{},\"id\":\"4427\",\"type\":\"LinearScale\"},{\"attributes\":{\"ticker\":{\"id\":\"4430\",\"type\":\"BasicTicker\"}},\"id\":\"4433\",\"type\":\"Grid\"},{\"attributes\":{},\"id\":\"4463\",\"type\":\"LinearScale\"},{\"attributes\":{},\"id\":\"4381\",\"type\":\"BasicTicker\"},{\"attributes\":{\"axis_label\":\"intensity\",\"formatter\":{\"id\":\"4410\",\"type\":\"BasicTickFormatter\"},\"ticker\":{\"id\":\"4386\",\"type\":\"BasicTicker\"}},\"id\":\"4385\",\"type\":\"LinearAxis\"},{\"attributes\":{\"ticker\":{\"id\":\"4381\",\"type\":\"BasicTicker\"}},\"id\":\"4384\",\"type\":\"Grid\"},{\"attributes\":{},\"id\":\"4465\",\"type\":\"LinearScale\"},{\"attributes\":{},\"id\":\"4430\",\"type\":\"BasicTicker\"},{\"attributes\":{},\"id\":\"4473\",\"type\":\"BasicTicker\"},{\"attributes\":{\"fill_alpha\":{\"value\":0.5},\"fill_color\":{\"value\":\"navy\"},\"line_alpha\":{\"value\":0.5},\"line_color\":{\"value\":\"navy\"},\"size\":{\"units\":\"screen\",\"value\":5},\"x\":{\"field\":\"x\"},\"y\":{\"field\":\"y\"}},\"id\":\"4404\",\"type\":\"Circle\"},{\"attributes\":{\"axis_label\":\"intensity\",\"formatter\":{\"id\":\"4794\",\"type\":\"BasicTickFormatter\"},\"ticker\":{\"id\":\"4435\",\"type\":\"BasicTicker\"}},\"id\":\"4434\",\"type\":\"LinearAxis\"},{\"attributes\":{\"x\":{\"field\":\"x\"},\"y\":{\"field\":\"y\"}},\"id\":\"4453\",\"type\":\"Line\"},{\"attributes\":{},\"id\":\"4468\",\"type\":\"BasicTicker\"},{\"attributes\":{\"bottom_units\":\"screen\",\"fill_alpha\":{\"value\":0.5},\"fill_color\":{\"value\":\"lightgrey\"},\"left_units\":\"screen\",\"level\":\"overlay\",\"line_alpha\":{\"value\":1.0},\"line_color\":{\"value\":\"black\"},\"line_dash\":[4,4],\"line_width\":{\"value\":2},\"render_mode\":\"css\",\"right_units\":\"screen\",\"top_units\":\"screen\"},\"id\":\"4500\",\"type\":\"BoxAnnotation\"},{\"attributes\":{},\"id\":\"4435\",\"type\":\"BasicTicker\"},{\"attributes\":{},\"id\":\"4378\",\"type\":\"LinearScale\"},{\"attributes\":{\"dimension\":1,\"ticker\":{\"id\":\"4435\",\"type\":\"BasicTicker\"}},\"id\":\"4438\",\"type\":\"Grid\"},{\"attributes\":{\"callback\":null,\"data\":{\"x\":[5.2,5.4,5.6,5.8,6.0,6.2,6.4,6.6,6.8,7.0,7.2,7.4,7.6,7.8,8.0,8.2,8.4,8.6,8.8,9.0,9.2,9.4,9.6,9.8,10.0,10.2,10.4,10.6,10.8,11.0,11.2,11.4,11.6,11.8,12.0,12.2,12.4,12.6,12.8,13.0,13.2,13.4,13.6,13.8,14.0,14.2,14.4,14.6,14.8,15.0,15.2,15.4,15.6,15.8,16.0,16.2,16.4,16.6,16.8,17.0,17.2,17.4,17.6,17.8,18.0,18.2,18.4,18.6,18.8,19.0,19.2,19.4,19.6,19.8,20.0,20.2,20.4,20.6,20.8,21.0,21.2,21.4,21.6,21.8,22.0,22.2,22.4,22.6,22.8,23.0,23.2,23.4,23.6,23.8,24.0,24.2,24.4,24.6,24.8,25.0,25.2,25.4,25.6,25.8,26.0,26.2,26.4,26.6,26.8,27.0,27.2,27.4,27.6,27.8,28.0,28.2,28.4,28.6,28.8,29.0,29.2,29.4,29.6,29.8,30.0,30.2,30.4,30.6,30.8,31.0,31.2,31.4,31.6,31.8,32.0,32.2,32.4,32.6,32.8,33.0,33.2,33.4,33.6,33.8,34.0,34.2,34.4,34.6,34.8,35.0,35.2,35.4,35.6,35.8,36.0,36.2,36.4,36.6,36.8,37.0,37.2,37.4,37.6,37.8,38.0,38.2,38.4,38.6,38.8,39.0,39.2,39.4,39.6,39.8,40.0,40.2,40.4,40.6,40.8,41.0,41.2,41.4,41.6,41.8,42.0,42.2,42.4,42.6,42.8,43.0,43.2,43.4,43.6,43.8,44.0,44.2,44.4,44.6,44.8,45.0,45.2,45.4,45.6,45.8,46.0,46.2,46.4,46.6,46.8,47.0,47.2,47.4,47.6,47.8,48.0,48.2,48.4,48.6,48.8,49.0,49.2,49.4,49.6,49.8,50.0,50.2,50.4,50.6,50.8,51.0,51.2,51.4,51.6,51.8,52.0,52.2,52.4,52.6,52.8,53.0,53.2,53.4,53.6,53.8,54.0,54.2,54.4,54.6,54.8,55.0,55.2,55.4,55.6,55.8,56.0,56.2,56.4,56.6,56.8,57.0,57.2,57.4,57.6,57.8,58.0,58.2,58.4,58.6,58.8,59.0,59.2,59.4,59.6,59.8,60.0,60.2,60.4,60.6,60.8,61.0,61.2,61.4,61.6,61.8,62.0,62.2,62.4,62.6,62.8,63.0,63.2,63.4,63.6,63.8,64.0,64.2,64.4,64.6,64.8,65.0,65.2,65.4,65.6,65.8,66.0,66.2,66.4,66.6,66.8,67.0,67.2,67.4,67.6,67.8,68.0,68.2,68.4,68.6,68.8,69.0,69.2,69.4,69.6,69.8,70.0,70.2,70.4,70.6,70.8,71.0,71.2,71.4,71.6,71.8,72.0,72.2,72.4,72.6,72.8,73.0,73.2,73.4,73.6,73.8,74.0,74.2,74.4,74.6,74.8,75.0],\"y\":{\"__ndarray__\":\"AAAAAAAAAAAAAAAAAAAAAAAAAAAAAAAAAAAAAAAAAAAAAAAAAAAAAAAAAAAAAAAAAAAAAAAAAAAAAAAAAAAAAAAAAAAAAAAAAAAAAAAAAAAAAAAAAAAAAK+FK5lwleM5g+aTsKmTskB7FGTxU4HHQEtsrmLIL9pAd/Ymwl+v6UA/6Wjypy32QEri0kqD2wBBlJOB4G+OBkEgU42phZAKQURX3WmdiAtBVB0hXGMdCUGyDraUzCgEQRrbJmlzevxAh8sGPRWz8UDnzdoVqFvjQMlAOdu/oNJA5w8WJa+Kv0CYNxoeGd6uQOepiEXbiKRATgljvugyuUBItBCQnUDLQGTT47Jy+dlA5OuRwRzR5UCcGxvxBSbwQJU6bmT5EPVANZ7htIY3+EAoSMm/64f4QHIMTW1m5fVA5YwxVqs48UBqaRIHiN7nQNgJ7CF8Jt1APdBG0vddz0C3bakUIb29QDTQ2feH16hApkIO2IJIkkAAAAAAAAAAAAAAAAAAAAAAAAAAAAAAAAAAAAAAAAAAAAAAAAAAAAAAAAAAAAAAAAA7CfS5ew1tQGrIrLrt399ASuCEzo+a80AguMhz81gFQRSfIPCSnRRBP35RV8anIUHqDaayR9EqQfHSvsbADzJBPLSUXRqTNUFcCvpAfto2QZTpFdX/dzVBFkwgx6LjMUHW5p6ornMqQRN+ccZUYCFB+WQax2VgFEFI2EE9AqcFQUWAkMEf2fVA+mozq0SB50AZ23hJQXPfQEotBu/UANdA2m22c2L21kCHsIBmAI7UQDjqqwusbtBAOJ0Yprd0x0Aot9HWguG9QHFnlrIK+7BAIiyD9qA2oUCRpKWBTh6PQHyj/JwB2XdATdL+939CYUCy2VbedY/aOUsa36LpzMM5AAAAAAAAAAAAAAAAAAAAAAAAAAAAAAAA3rYINZMkNEA0DT74GuRIQKGEb3b1rFtAwl1i4f2va0Aoz6QIRux4QJKwIfCLL4RAk6bK6ZlrjUBS78A2aEqTQBhjl4v1wpZAVRx+v4yRmEAGfyMVMwiYQMLvPxUM25VAjTBimbE2k0BMXavAy2GVQJyOAeeFZZpACnO5GnpxqECqDcI8iwa1QGwtUjxiCsJAKw7Ob0T50kDxaneGKHXgQP/UIEepYetAIhI+sEuq9UBVEAuoOzIAQQeFDnHJvAZB4D2El1HNDUEo1y9XVSQSQZzplTEcbRRBQTEKBTUwFUG+P+aVXTQUQdAHrZsVqRFBijo3ToVLDEEcFW/hytEEQdFpMls1cfxAbcTKhAeG8kAq6aEwmmvoQHHSKV0e0uFAK7x6ytKr30BuFwbCt07gQF6NB/lmN+FAUlVatTZs40B9Ut1op/HkQFl0L+wvb+dAVg6UF6Kf6UApgf7AcU/tQHvxbPjyHvJAMMXPMkxF+EC8JcqsqPEAQQbjfDYGsgdBXMhmTowPEEFZOePd0YQUQVir6ExGoBhBwBxpEj2/G0HWb08eqYkdQSsTbqsv/R1BcPccwU95HUGIhjCcMH4cQdwpofatZxtBbsimcmVMGkE4dtTDQwIZQbvj0LHORhdBoa9QMj3xFEF6MKeYWwkSQTL4XLHqng1BC8sC7F0NB0FgVJD2XoYBQde0wUG3MPpAxGBTSMvf80D0u0L7o9TvQGciGyinletALyIvSE936UCNOd9gdIHoQBlzDu56RedA6/AttXYt5kDYXndGSrvkQN1caTTUXuVA9ArxWQpK50BrRm+tUXnsQAZXwb6GJfNAYun+lrD4+kD+WMwZ6gsDQaZHcUskQApBFHJ0LlRjEUF6y0+DqvQVQYH29CQXSRpBR5REj2e/HUFAK8hNZbcfQf7xpv64yx9BNF+Hs2PtHUHcrKOZlmsaQZEG+G2C3RVBQiFY7ZL3EEF0Z83oWbYIQa3XiglbPQFBZCEH280390AW33CWrOvvQMusZw4fB+lAtTnqO9KO6EDYHOmzIZXtQLC1awmdovNAa+1ViQn6+UB+39OuNfoAQTx1Rx/BAgVBANhPrjyTCEGa38alCB8LQdR4ctzmPAxBmBU2D0y+C0E05+w5Pr0JQeS73mZWlQZB4XYPkZrIAkEYb6VmdL79QKqkxC4XmvZA0F+i0zmn8EA2MI/yFTHoQJCG1zrIweFAptSs6Ro320A0fwSBIFTWQEeE5QSX7NNA/4jfp59A00A030CbZi7TQGp/XiLeD9ZASoQhC3L82EDjAoc//JrcQBhSZosQeOBAqiVHwk4K40BM+eegjhTmQCCjJcPbr+lAfs3faknb7UC6+S3B+DzxQE/H9A9EoPNATkV1ueTh9UC53CXYZLT3QJCIkZDTzvhAspOpWhH4+ECDyG8lPhz4QEfFKVrJ7fZAbhxdoUzh9ECCAgGjjbvyQBSFpOSr+fBAW2ix5dMZ8EAm3K0GcnfwQHgA/mmxUPJAYFjmsfim9UBNF6+C10v6QIr+Jznm0f9A5DRXrXDQAkEoudt5koEFQc1FO43yoQdBnJ0TmKrZCEHQwWX3URUJQTTLLSEONghBWEl0dHxZBkGqoizCerwDQR38px2nrQBBquxQqFD++kCSz1HNO/H0QF7jz/ckOe9AM6d0lw6C5kA8+GeOtFDiQKyB8lln4t5AHNkdxf/W3kD7qhqre3DiQG6HOggK2uhAfrGmP+SN8UCMrY01AZb4QFXaHSckHwFBV3dgrsMJB0EdjN0lo+cNQc8FYIlIthJBPmVugWWOFkHmons9jy8aQUM+A2dwUh1BM/fukSGYH0GVgd3wpGYgQQBIvomXaiBBKtb0/o62H0EDY2cvnpodQX6xrZHqxRpB/KzhiISLF0FnNHjqzD8UQXFM3uffKhFBnq6z1SwBDUHkGIwLCrcIQe+DkpIQfQVBwitUR/8yA0F4D4hKKZ8BQcWOqOVjgQBBrxAdKlox/0Dk/4cCD2r9QPjARz5yaPtAHtEMhNuC+EA/DZSVEEH2QBJJEDlstPNA2Ggkw1sw8UDWNR5QiY/tQM4BYWoJZulAiJNto0Yh5kCU7Tyb+dPjQNj7aU39f+JAYiy61ZAM4kDAyLyJWlLiQNIsF71IIuNAiQunRq5R5ECF8UBrHLDlQOj1pdMkEedAqpvs5SFi6ECq2t3HvbDpQN5J7dbGtOpAs8xWHkxu60C4wodvmgXsQGbDIgODWexAz4K+U32h7ECwUdhmVPDsQM2XHxttb+1AruPWlVFB7kCMw4tu/Y/vQFLWUSjsr/BAeHhLezfa8UA9/3hZpkPzQLkcv+T90/RAqyZg+kp29kDXfjVdEAr4QO/0oC0kbflAzFO4Eu+G+kDWoN8OYj37QATgh4tbr/tAUXSNdrWQ+0AossmxMwj7QERXXwZaJ/pAk+cf1nT9+EDmo6yALsL3QLaJHWaNiPZAyIlBY0dr9UBIuxQtlIv0QJSRnQSi+fNAuWhVhBrF80Dt+5go3PDzQJJrGvX1ivRAbDxA4Fpo9UDeYeVUZ4D2QHOc8fiIuvdACusZ+XX4+ECErvnQMB/6QJC0Jw4v/fpAIAutfsGu+0B0PPwcTAX8QHjJ3bQU/vtAazJH5QWZ+0BoDwIhDNv6QO5C5Ypm5PlATFHPKlK5+ECsQB1XenL3QIAnIfaDHPZAaFnS/wrH9ECj7ZWHvHjzQH8TAwecOvJAVOeDxM0h8UCemAaBsQzwQJ72fZ5gEe5AYw+Gt2Aq7EAW+lz6M2LqQCaUs5WuvOhAzl3F7Ng+50CsAvAB9vXlQA==\",\"dtype\":\"float64\",\"shape\":[350]}},\"selected\":{\"id\":\"4809\",\"type\":\"Selection\"},\"selection_policy\":{\"id\":\"4808\",\"type\":\"UnionRenderers\"}},\"id\":\"4416\",\"type\":\"ColumnDataSource\"},{\"attributes\":{\"label\":{\"value\":\"exp.\"},\"renderers\":[{\"id\":\"4493\",\"type\":\"GlyphRenderer\"}]},\"id\":\"4502\",\"type\":\"LegendItem\"},{\"attributes\":{\"ticker\":{\"id\":\"4468\",\"type\":\"BasicTicker\"}},\"id\":\"4471\",\"type\":\"Grid\"},{\"attributes\":{\"dimension\":1,\"ticker\":{\"id\":\"4473\",\"type\":\"BasicTicker\"}},\"id\":\"4476\",\"type\":\"Grid\"},{\"attributes\":{},\"id\":\"4376\",\"type\":\"LinearScale\"},{\"attributes\":{\"source\":{\"id\":\"4548\",\"type\":\"ColumnDataSource\"}},\"id\":\"4552\",\"type\":\"CDSView\"},{\"attributes\":{\"source\":{\"id\":\"4403\",\"type\":\"ColumnDataSource\"}},\"id\":\"4407\",\"type\":\"CDSView\"},{\"attributes\":{\"axis_label\":\"intensity\",\"formatter\":{\"id\":\"4802\",\"type\":\"BasicTickFormatter\"},\"ticker\":{\"id\":\"4531\",\"type\":\"BasicTicker\"}},\"id\":\"4530\",\"type\":\"LinearAxis\"},{\"attributes\":{},\"id\":\"4410\",\"type\":\"BasicTickFormatter\"},{\"attributes\":{\"axis_label\":\"intensity\",\"formatter\":{\"id\":\"4497\",\"type\":\"BasicTickFormatter\"},\"ticker\":{\"id\":\"4473\",\"type\":\"BasicTicker\"}},\"id\":\"4472\",\"type\":\"LinearAxis\"},{\"attributes\":{\"callback\":null,\"data\":{\"x\":[5.2,5.4,5.6,5.8,6.0,6.2,6.4,6.6,6.8,7.0,7.2,7.4,7.6,7.8,8.0,8.2,8.4,8.6,8.8,9.0,9.2,9.4,9.6,9.8,10.0,10.2,10.4,10.6,10.8,11.0,11.2,11.4,11.6,11.8,12.0,12.2,12.4,12.6,12.8,13.0,13.2,13.4,13.6,13.8,14.0,14.2,14.4,14.6,14.8,15.0,15.2,15.4,15.6,15.8,16.0,16.2,16.4,16.6,16.8,17.0,17.2,17.4,17.6,17.8,18.0,18.2,18.4,18.6,18.8,19.0,19.2,19.4,19.6,19.8,20.0,20.2,20.4,20.6,20.8,21.0,21.2,21.4,21.6,21.8,22.0,22.2,22.4,22.6,22.8,23.0,23.2,23.4,23.6,23.8,24.0,24.2,24.4,24.6,24.8,25.0,25.2,25.4,25.6,25.8,26.0,26.2,26.4,26.6,26.8,27.0,27.2,27.4,27.6,27.8,28.0,28.2,28.4,28.6,28.8,29.0,29.2,29.4,29.6,29.8,30.0,30.2,30.4,30.6,30.8,31.0,31.2,31.4,31.6,31.8,32.0,32.2,32.4,32.6,32.8,33.0,33.2,33.4,33.6,33.8,34.0,34.2,34.4,34.6,34.8,35.0,35.2,35.4,35.6,35.8,36.0,36.2,36.4,36.6,36.8,37.0,37.2,37.4,37.6,37.8,38.0,38.2,38.4,38.6,38.8,39.0,39.2,39.4,39.6,39.8,40.0,40.2,40.4,40.6,40.8,41.0,41.2,41.4,41.6,41.8,42.0,42.2,42.4,42.6,42.8,43.0,43.2,43.4,43.6,43.8,44.0,44.2,44.4,44.6,44.8,45.0,45.2,45.4,45.6,45.8,46.0,46.2,46.4,46.6,46.8,47.0,47.2,47.4,47.6,47.8,48.0,48.2,48.4,48.6,48.8,49.0,49.2,49.4,49.6,49.8,50.0,50.2,50.4,50.6,50.8,51.0,51.2,51.4,51.6,51.8,52.0,52.2,52.4,52.6,52.8,53.0,53.2,53.4,53.6,53.8,54.0,54.2,54.4,54.6,54.8,55.0,55.2,55.4,55.6,55.8,56.0,56.2,56.4,56.6,56.8,57.0,57.2,57.4,57.6,57.8,58.0,58.2,58.4,58.6,58.8,59.0,59.2,59.4,59.6,59.8,60.0,60.2,60.4,60.6,60.8,61.0,61.2,61.4,61.6,61.8,62.0,62.2,62.4,62.6,62.8,63.0,63.2,63.4,63.6,63.8,64.0,64.2,64.4,64.6,64.8,65.0,65.2,65.4,65.6,65.8,66.0,66.2,66.4,66.6,66.8,67.0,67.2,67.4,67.6,67.8,68.0,68.2,68.4,68.6,68.8,69.0,69.2,69.4,69.6,69.8,70.0,70.2,70.4,70.6,70.8,71.0,71.2,71.4,71.6,71.8,72.0,72.2,72.4,72.6,72.8,73.0,73.2,73.4,73.6,73.8,74.0,74.2,74.4,74.6,74.8,75.0],\"y\":{\"__ndarray__\":\"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\",\"dtype\":\"float64\",\"shape\":[350]}},\"selected\":{\"id\":\"4817\",\"type\":\"Selection\"},\"selection_policy\":{\"id\":\"4816\",\"type\":\"UnionRenderers\"}},\"id\":\"4503\",\"type\":\"ColumnDataSource\"},{\"attributes\":{},\"id\":\"4390\",\"type\":\"PanTool\"},{\"attributes\":{\"fill_alpha\":{\"value\":0.5},\"fill_color\":{\"value\":\"navy\"},\"line_alpha\":{\"value\":0.5},\"line_color\":{\"value\":\"navy\"},\"size\":{\"units\":\"screen\",\"value\":5},\"x\":{\"field\":\"x\"},\"y\":{\"field\":\"y\"}},\"id\":\"4491\",\"type\":\"Circle\"},{\"attributes\":{\"callback\":null},\"id\":\"4374\",\"type\":\"DataRange1d\"},{\"attributes\":{\"callback\":null,\"data\":{\"x\":[5.2,5.4,5.6,5.8,6.0,6.2,6.4,6.6,6.8,7.0,7.2,7.4,7.6,7.8,8.0,8.2,8.4,8.6,8.8,9.0,9.2,9.4,9.6,9.8,10.0,10.2,10.4,10.6,10.8,11.0,11.2,11.4,11.6,11.8,12.0,12.2,12.4,12.6,12.8,13.0,13.2,13.4,13.6,13.8,14.0,14.2,14.4,14.6,14.8,15.0,15.2,15.4,15.6,15.8,16.0,16.2,16.4,16.6,16.8,17.0,17.2,17.4,17.6,17.8,18.0,18.2,18.4,18.6,18.8,19.0,19.2,19.4,19.6,19.8,20.0,20.2,20.4,20.6,20.8,21.0,21.2,21.4,21.6,21.8,22.0,22.2,22.4,22.6,22.8,23.0,23.2,23.4,23.6,23.8,24.0,24.2,24.4,24.6,24.8,25.0,25.2,25.4,25.6,25.8,26.0,26.2,26.4,26.6,26.8,27.0,27.2,27.4,27.6,27.8,28.0,28.2,28.4,28.6,28.8,29.0,29.2,29.4,29.6,29.8,30.0,30.2,30.4,30.6,30.8,31.0,31.2,31.4,31.6,31.8,32.0,32.2,32.4,32.6,32.8,33.0,33.2,33.4,33.6,33.8,34.0,34.2,34.4,34.6,34.8,35.0,35.2,35.4,35.6,35.8,36.0,36.2,36.4,36.6,36.8,37.0,37.2,37.4,37.6,37.8,38.0,38.2,38.4,38.6,38.8,39.0,39.2,39.4,39.6,39.8,40.0,40.2,40.4,40.6,40.8,41.0,41.2,41.4,41.6,41.8,42.0,42.2,42.4,42.6,42.8,43.0,43.2,43.4,43.6,43.8,44.0,44.2,44.4,44.6,44.8,45.0,45.2,45.4,45.6,45.8,46.0,46.2,46.4,46.6,46.8,47.0,47.2,47.4,47.6,47.8,48.0,48.2,48.4,48.6,48.8,49.0,49.2,49.4,49.6,49.8,50.0,50.2,50.4,50.6,50.8,51.0,51.2,51.4,51.6,51.8,52.0,52.2,52.4,52.6,52.8,53.0,53.2,53.4,53.6,53.8,54.0,54.2,54.4,54.6,54.8,55.0,55.2,55.4,55.6,55.8,56.0,56.2,56.4,56.6,56.8,57.0,57.2,57.4,57.6,57.8,58.0,58.2,58.4,58.6,58.8,59.0,59.2,59.4,59.6,59.8,60.0,60.2,60.4,60.6,60.8,61.0,61.2,61.4,61.6,61.8,62.0,62.2,62.4,62.6,62.8,63.0,63.2,63.4,63.6,63.8,64.0,64.2,64.4,64.6,64.8,65.0,65.2,65.4,65.6,65.8,66.0,66.2,66.4,66.6,66.8,67.0,67.2,67.4,67.6,67.8,68.0,68.2,68.4,68.6,68.8,69.0,69.2,69.4,69.6,69.8,70.0,70.2,70.4,70.6,70.8,71.0,71.2,71.4,71.6,71.8,72.0,72.2,72.4,72.6,72.8,73.0,73.2,73.4,73.6,73.8,74.0,74.2,74.4,74.6,74.8,75.0],\"y\":{\"__ndarray__\":\"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\",\"dtype\":\"float64\",\"shape\":[350]}},\"selected\":{\"id\":\"4812\",\"type\":\"Selection\"},\"selection_policy\":{\"id\":\"4811\",\"type\":\"UnionRenderers\"}},\"id\":\"4452\",\"type\":\"ColumnDataSource\"},{\"attributes\":{\"callback\":null,\"data\":{\"x\":[5.2,5.4,5.6,5.8,6.0,6.2,6.4,6.6,6.8,7.0,7.2,7.4,7.6,7.8,8.0,8.2,8.4,8.6,8.8,9.0,9.2,9.4,9.6,9.8,10.0,10.2,10.4,10.6,10.8,11.0,11.2,11.4,11.6,11.8,12.0,12.2,12.4,12.6,12.8,13.0,13.2,13.4,13.6,13.8,14.0,14.2,14.4,14.6,14.8,15.0,15.2,15.4,15.6,15.8,16.0,16.2,16.4,16.6,16.8,17.0,17.2,17.4,17.6,17.8,18.0,18.2,18.4,18.6,18.8,19.0,19.2,19.4,19.6,19.8,20.0,20.2,20.4,20.6,20.8,21.0,21.2,21.4,21.6,21.8,22.0,22.2,22.4,22.6,22.8,23.0,23.2,23.4,23.6,23.8,24.0,24.2,24.4,24.6,24.8,25.0,25.2,25.4,25.6,25.8,26.0,26.2,26.4,26.6,26.8,27.0,27.2,27.4,27.6,27.8,28.0,28.2,28.4,28.6,28.8,29.0,29.2,29.4,29.6,29.8,30.0,30.2,30.4,30.6,30.8,31.0,31.2,31.4,31.6,31.8,32.0,32.2,32.4,32.6,32.8,33.0,33.2,33.4,33.6,33.8,34.0,34.2,34.4,34.6,34.8,35.0,35.2,35.4,35.6,35.8,36.0,36.2,36.4,36.6,36.8,37.0,37.2,37.4,37.6,37.8,38.0,38.2,38.4,38.6,38.8,39.0,39.2,39.4,39.6,39.8,40.0,40.2,40.4,40.6,40.8,41.0,41.2,41.4,41.6,41.8,42.0,42.2,42.4,42.6,42.8,43.0,43.2,43.4,43.6,43.8,44.0,44.2,44.4,44.6,44.8,45.0,45.2,45.4,45.6,45.8,46.0,46.2,46.4,46.6,46.8,47.0,47.2,47.4,47.6,47.8,48.0,48.2,48.4,48.6,48.8,49.0,49.2,49.4,49.6,49.8,50.0,50.2,50.4,50.6,50.8,51.0,51.2,51.4,51.6,51.8,52.0,52.2,52.4,52.6,52.8,53.0,53.2,53.4,53.6,53.8,54.0,54.2,54.4,54.6,54.8,55.0,55.2,55.4,55.6,55.8,56.0,56.2,56.4,56.6,56.8,57.0,57.2,57.4,57.6,57.8,58.0,58.2,58.4,58.6,58.8,59.0,59.2,59.4,59.6,59.8,60.0,60.2,60.4,60.6,60.8,61.0,61.2,61.4,61.6,61.8,62.0,62.2,62.4,62.6,62.8,63.0,63.2,63.4,63.6,63.8,64.0,64.2,64.4,64.6,64.8,65.0,65.2,65.4,65.6,65.8,66.0,66.2,66.4,66.6,66.8,67.0,67.2,67.4,67.6,67.8,68.0,68.2,68.4,68.6,68.8,69.0,69.2,69.4,69.6,69.8,70.0,70.2,70.4,70.6,70.8,71.0,71.2,71.4,71.6,71.8,72.0,72.2,72.4,72.6,72.8,73.0,73.2,73.4,73.6,73.8,74.0,74.2,74.4,74.6,74.8,75.0],\"y\":{\"__ndarray__\":\"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\",\"dtype\":\"float64\",\"shape\":[350]}},\"selected\":{\"id\":\"4515\",\"type\":\"Selection\"},\"selection_policy\":{\"id\":\"4514\",\"type\":\"UnionRenderers\"}},\"id\":\"4490\",\"type\":\"ColumnDataSource\"},{\"attributes\":{\"callback\":null,\"data\":{\"x\":[5.2,5.4,5.6,5.8,6.0,6.2,6.4,6.6,6.8,7.0,7.2,7.4,7.6,7.8,8.0,8.2,8.4,8.6,8.8,9.0,9.2,9.4,9.6,9.8,10.0,10.2,10.4,10.6,10.8,11.0,11.2,11.4,11.6,11.8,12.0,12.2,12.4,12.6,12.8,13.0,13.2,13.4,13.6,13.8,14.0,14.2,14.4,14.6,14.8,15.0,15.2,15.4,15.6,15.8,16.0,16.2,16.4,16.6,16.8,17.0,17.2,17.4,17.6,17.8,18.0,18.2,18.4,18.6,18.8,19.0,19.2,19.4,19.6,19.8,20.0,20.2,20.4,20.6,20.8,21.0,21.2,21.4,21.6,21.8,22.0,22.2,22.4,22.6,22.8,23.0,23.2,23.4,23.6,23.8,24.0,24.2,24.4,24.6,24.8,25.0,25.2,25.4,25.6,25.8,26.0,26.2,26.4,26.6,26.8,27.0,27.2,27.4,27.6,27.8,28.0,28.2,28.4,28.6,28.8,29.0,29.2,29.4,29.6,29.8,30.0,30.2,30.4,30.6,30.8,31.0,31.2,31.4,31.6,31.8,32.0,32.2,32.4,32.6,32.8,33.0,33.2,33.4,33.6,33.8,34.0,34.2,34.4,34.6,34.8,35.0,35.2,35.4,35.6,35.8,36.0,36.2,36.4,36.6,36.8,37.0,37.2,37.4,37.6,37.8,38.0,38.2,38.4,38.6,38.8,39.0,39.2,39.4,39.6,39.8,40.0,40.2,40.4,40.6,40.8,41.0,41.2,41.4,41.6,41.8,42.0,42.2,42.4,42.6,42.8,43.0,43.2,43.4,43.6,43.8,44.0,44.2,44.4,44.6,44.8,45.0,45.2,45.4,45.6,45.8,46.0,46.2,46.4,46.6,46.8,47.0,47.2,47.4,47.6,47.8,48.0,48.2,48.4,48.6,48.8,49.0,49.2,49.4,49.6,49.8,50.0,50.2,50.4,50.6,50.8,51.0,51.2,51.4,51.6,51.8,52.0,52.2,52.4,52.6,52.8,53.0,53.2,53.4,53.6,53.8,54.0,54.2,54.4,54.6,54.8,55.0,55.2,55.4,55.6,55.8,56.0,56.2,56.4,56.6,56.8,57.0,57.2,57.4,57.6,57.8,58.0,58.2,58.4,58.6,58.8,59.0,59.2,59.4,59.6,59.8,60.0,60.2,60.4,60.6,60.8,61.0,61.2,61.4,61.6,61.8,62.0,62.2,62.4,62.6,62.8,63.0,63.2,63.4,63.6,63.8,64.0,64.2,64.4,64.6,64.8,65.0,65.2,65.4,65.6,65.8,66.0,66.2,66.4,66.6,66.8,67.0,67.2,67.4,67.6,67.8,68.0,68.2,68.4,68.6,68.8,69.0,69.2,69.4,69.6,69.8,70.0,70.2,70.4,70.6,70.8,71.0,71.2,71.4,71.6,71.8,72.0,72.2,72.4,72.6,72.8,73.0,73.2,73.4,73.6,73.8,74.0,74.2,74.4,74.6,74.8,75.0],\"y\":{\"__ndarray__\":\"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\",\"dtype\":\"float64\",\"shape\":[350]}},\"selected\":{\"id\":\"4820\",\"type\":\"Selection\"},\"selection_policy\":{\"id\":\"4819\",\"type\":\"UnionRenderers\"}},\"id\":\"4548\",\"type\":\"ColumnDataSource\"},{\"attributes\":{\"below\":[{\"id\":\"4525\",\"type\":\"LinearAxis\"}],\"center\":[{\"id\":\"4529\",\"type\":\"Grid\"},{\"id\":\"4534\",\"type\":\"Grid\"}],\"left\":[{\"id\":\"4530\",\"type\":\"LinearAxis\"}],\"plot_height\":100,\"plot_width\":800,\"renderers\":[{\"id\":\"4551\",\"type\":\"GlyphRenderer\"}],\"title\":{\"id\":\"4787\",\"type\":\"Title\"},\"toolbar\":{\"id\":\"4541\",\"type\":\"Toolbar\"},\"toolbar_location\":null,\"x_range\":{\"id\":\"4372\",\"type\":\"DataRange1d\"},\"x_scale\":{\"id\":\"4521\",\"type\":\"LinearScale\"},\"y_range\":{\"id\":\"4519\",\"type\":\"DataRange1d\"},\"y_scale\":{\"id\":\"4523\",\"type\":\"LinearScale\"}},\"id\":\"4517\",\"subtype\":\"Figure\",\"type\":\"Plot\"},{\"attributes\":{},\"id\":\"4439\",\"type\":\"PanTool\"},{\"attributes\":{},\"id\":\"4477\",\"type\":\"PanTool\"},{\"attributes\":{\"data_source\":{\"id\":\"4403\",\"type\":\"ColumnDataSource\"},\"glyph\":{\"id\":\"4404\",\"type\":\"Circle\"},\"hover_glyph\":null,\"muted_glyph\":null,\"nonselection_glyph\":{\"id\":\"4405\",\"type\":\"Circle\"},\"selection_glyph\":null,\"view\":{\"id\":\"4407\",\"type\":\"CDSView\"}},\"id\":\"4406\",\"type\":\"GlyphRenderer\"},{\"attributes\":{},\"id\":\"4440\",\"type\":\"WheelZoomTool\"},{\"attributes\":{},\"id\":\"4478\",\"type\":\"WheelZoomTool\"},{\"attributes\":{\"callback\":null,\"data\":{\"x\":[5.2,5.4,5.6,5.8,6.0,6.2,6.4,6.6,6.8,7.0,7.2,7.4,7.6,7.8,8.0,8.2,8.4,8.6,8.8,9.0,9.2,9.4,9.6,9.8,10.0,10.2,10.4,10.6,10.8,11.0,11.2,11.4,11.6,11.8,12.0,12.2,12.4,12.6,12.8,13.0,13.2,13.4,13.6,13.8,14.0,14.2,14.4,14.6,14.8,15.0,15.2,15.4,15.6,15.8,16.0,16.2,16.4,16.6,16.8,17.0,17.2,17.4,17.6,17.8,18.0,18.2,18.4,18.6,18.8,19.0,19.2,19.4,19.6,19.8,20.0,20.2,20.4,20.6,20.8,21.0,21.2,21.4,21.6,21.8,22.0,22.2,22.4,22.6,22.8,23.0,23.2,23.4,23.6,23.8,24.0,24.2,24.4,24.6,24.8,25.0,25.2,25.4,25.6,25.8,26.0,26.2,26.4,26.6,26.8,27.0,27.2,27.4,27.6,27.8,28.0,28.2,28.4,28.6,28.8,29.0,29.2,29.4,29.6,29.8,30.0,30.2,30.4,30.6,30.8,31.0,31.2,31.4,31.6,31.8,32.0,32.2,32.4,32.6,32.8,33.0,33.2,33.4,33.6,33.8,34.0,34.2,34.4,34.6,34.8,35.0,35.2,35.4,35.6,35.8,36.0,36.2,36.4,36.6,36.8,37.0,37.2,37.4,37.6,37.8,38.0,38.2,38.4,38.6,38.8,39.0,39.2,39.4,39.6,39.8,40.0,40.2,40.4,40.6,40.8,41.0,41.2,41.4,41.6,41.8,42.0,42.2,42.4,42.6,42.8,43.0,43.2,43.4,43.6,43.8,44.0,44.2,44.4,44.6,44.8,45.0,45.2,45.4,45.6,45.8,46.0,46.2,46.4,46.6,46.8,47.0,47.2,47.4,47.6,47.8,48.0,48.2,48.4,48.6,48.8,49.0,49.2,49.4,49.6,49.8,50.0,50.2,50.4,50.6,50.8,51.0,51.2,51.4,51.6,51.8,52.0,52.2,52.4,52.6,52.8,53.0,53.2,53.4,53.6,53.8,54.0,54.2,54.4,54.6,54.8,55.0,55.2,55.4,55.6,55.8,56.0,56.2,56.4,56.6,56.8,57.0,57.2,57.4,57.6,57.8,58.0,58.2,58.4,58.6,58.8,59.0,59.2,59.4,59.6,59.8,60.0,60.2,60.4,60.6,60.8,61.0,61.2,61.4,61.6,61.8,62.0,62.2,62.4,62.6,62.8,63.0,63.2,63.4,63.6,63.8,64.0,64.2,64.4,64.6,64.8,65.0,65.2,65.4,65.6,65.8,66.0,66.2,66.4,66.6,66.8,67.0,67.2,67.4,67.6,67.8,68.0,68.2,68.4,68.6,68.8,69.0,69.2,69.4,69.6,69.8,70.0,70.2,70.4,70.6,70.8,71.0,71.2,71.4,71.6,71.8,72.0,72.2,72.4,72.6,72.8,73.0,73.2,73.4,73.6,73.8,74.0,74.2,74.4,74.6,74.8,75.0],\"y\":{\"__ndarray__\":\"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\",\"dtype\":\"float64\",\"shape\":[350]}},\"selected\":{\"id\":\"4807\",\"type\":\"Selection\"},\"selection_policy\":{\"id\":\"4806\",\"type\":\"UnionRenderers\"}},\"id\":\"4403\",\"type\":\"ColumnDataSource\"},{\"attributes\":{},\"id\":\"4412\",\"type\":\"BasicTickFormatter\"},{\"attributes\":{\"overlay\":{\"id\":\"4810\",\"type\":\"BoxAnnotation\"}},\"id\":\"4441\",\"type\":\"BoxZoomTool\"},{\"attributes\":{\"overlay\":{\"id\":\"4500\",\"type\":\"BoxAnnotation\"}},\"id\":\"4479\",\"type\":\"BoxZoomTool\"},{\"attributes\":{\"items\":[{\"id\":\"4415\",\"type\":\"LegendItem\"}]},\"id\":\"4414\",\"type\":\"Legend\"},{\"attributes\":{},\"id\":\"4442\",\"type\":\"SaveTool\"},{\"attributes\":{},\"id\":\"4480\",\"type\":\"SaveTool\"},{\"attributes\":{\"below\":[{\"id\":\"4380\",\"type\":\"LinearAxis\"}],\"center\":[{\"id\":\"4384\",\"type\":\"Grid\"},{\"id\":\"4389\",\"type\":\"Grid\"},{\"id\":\"4414\",\"type\":\"Legend\"}],\"left\":[{\"id\":\"4385\",\"type\":\"LinearAxis\"}],\"plot_height\":300,\"plot_width\":800,\"renderers\":[{\"id\":\"4406\",\"type\":\"GlyphRenderer\"},{\"id\":\"4419\",\"type\":\"GlyphRenderer\"}],\"title\":{\"id\":\"4370\",\"type\":\"Title\"},\"toolbar\":{\"id\":\"4396\",\"type\":\"Toolbar\"},\"x_range\":{\"id\":\"4372\",\"type\":\"DataRange1d\"},\"x_scale\":{\"id\":\"4376\",\"type\":\"LinearScale\"},\"y_range\":{\"id\":\"4374\",\"type\":\"DataRange1d\"},\"y_scale\":{\"id\":\"4378\",\"type\":\"LinearScale\"}},\"id\":\"4369\",\"subtype\":\"Figure\",\"type\":\"Plot\"},{\"attributes\":{},\"id\":\"4444\",\"type\":\"HelpTool\"},{\"attributes\":{},\"id\":\"4482\",\"type\":\"HelpTool\"},{\"attributes\":{},\"id\":\"4443\",\"type\":\"ResetTool\"},{\"attributes\":{},\"id\":\"4481\",\"type\":\"ResetTool\"},{\"attributes\":{\"bottom_units\":\"screen\",\"fill_alpha\":{\"value\":0.5},\"fill_color\":{\"value\":\"lightgrey\"},\"left_units\":\"screen\",\"level\":\"overlay\",\"line_alpha\":{\"value\":1.0},\"line_color\":{\"value\":\"black\"},\"line_dash\":[4,4],\"line_width\":{\"value\":2},\"render_mode\":\"css\",\"right_units\":\"screen\",\"top_units\":\"screen\"},\"id\":\"4413\",\"type\":\"BoxAnnotation\"},{\"attributes\":{\"line_alpha\":0.1,\"line_color\":\"#1f77b4\",\"x\":{\"field\":\"x\"},\"y\":{\"field\":\"y\"}},\"id\":\"4454\",\"type\":\"Line\"},{\"attributes\":{\"label\":{\"value\":\"exp.\"},\"renderers\":[{\"id\":\"4406\",\"type\":\"GlyphRenderer\"}]},\"id\":\"4415\",\"type\":\"LegendItem\"},{\"attributes\":{\"line_width\":2,\"x\":{\"field\":\"x\"},\"y\":{\"field\":\"y\"}},\"id\":\"4504\",\"type\":\"Line\"},{\"attributes\":{\"active_drag\":\"auto\",\"active_inspect\":\"auto\",\"active_multi\":null,\"active_scroll\":\"auto\",\"active_tap\":\"auto\",\"tools\":[{\"id\":\"4477\",\"type\":\"PanTool\"},{\"id\":\"4478\",\"type\":\"WheelZoomTool\"},{\"id\":\"4479\",\"type\":\"BoxZoomTool\"},{\"id\":\"4480\",\"type\":\"SaveTool\"},{\"id\":\"4481\",\"type\":\"ResetTool\"},{\"id\":\"4482\",\"type\":\"HelpTool\"}]},\"id\":\"4483\",\"type\":\"Toolbar\"}],\"root_ids\":[\"4553\"]},\"title\":\"Bokeh Application\",\"version\":\"1.4.0\"}};\n",
       "  var render_items = [{\"docid\":\"52a996a1-15ae-4042-867c-6d458d30fab3\",\"roots\":{\"4553\":\"6827fac2-dec5-4f2f-8d7c-d0991085891f\"}}];\n",
       "  root.Bokeh.embed.embed_items_notebook(docs_json, render_items);\n",
       "\n",
       "  }\n",
       "  if (root.Bokeh !== undefined) {\n",
       "    embed_document(root);\n",
       "  } else {\n",
       "    var attempts = 0;\n",
       "    var timer = setInterval(function(root) {\n",
       "      if (root.Bokeh !== undefined) {\n",
       "        clearInterval(timer);\n",
       "        embed_document(root);\n",
       "      } else {\n",
       "        attempts++;\n",
       "        if (attempts > 100) {\n",
       "          clearInterval(timer);\n",
       "          console.log(\"Bokeh: ERROR: Unable to run BokehJS code because BokehJS library is missing\");\n",
       "        }\n",
       "      }\n",
       "    }, 10, root)\n",
       "  }\n",
       "})(window);"
      ],
      "application/vnd.bokehjs_exec.v0+json": ""
     },
     "metadata": {
      "application/vnd.bokehjs_exec.v0+json": {
       "id": "4553"
      }
     },
     "output_type": "display_data"
    }
   ],
   "source": [
    "# output to static HTML file\n",
    "# output_file(\"lines.html\")\n",
    "experiments = rhochi.experiments\n",
    "for experiment in experiments:\n",
    "    if isinstance(experiment, cryspy.Pd):\n",
    "        proc = experiment.proc\n",
    "        p_sum = figure(plot_height=300, plot_width=800, title=\"Sum\", y_axis_label=\"intensity\")\n",
    "        p_sum.circle(proc.ttheta, proc.numpy_intensity_up+proc.numpy_intensity_down, size=5, legend_label=\"exp.\",  color=\"navy\", alpha=0.5)\n",
    "        p_sum.line(proc.ttheta, proc.numpy_intensity_up_total+proc.numpy_intensity_down_total, line_width=2, color=\"black\")\n",
    "        p_sum_diff = figure(plot_height=100, plot_width=800, x_axis_label=\"ttheta\", x_range=p_sum.x_range,\n",
    "                            y_axis_label=\"intensity\", toolbar_location=None)\n",
    "        p_sum_diff.line(proc.ttheta,  proc.numpy_intensity_up+proc.numpy_intensity_down - (proc.numpy_intensity_up_total+proc.numpy_intensity_down_total), line_width=1, color=\"black\")\n",
    "        \n",
    "        p_diff = figure(plot_height=300, plot_width=800, title=\"Difference\", x_range=p_sum.x_range, \n",
    "                        y_axis_label=\"intensity\")\n",
    "        p_diff.circle(proc.ttheta, proc.numpy_intensity_up-proc.numpy_intensity_down, size=5, legend_label=\"exp.\",  color=\"navy\", alpha=0.5)\n",
    "        p_diff.line(proc.ttheta, proc.numpy_intensity_up_total-proc.numpy_intensity_down_total, legend_label=\"model\", line_width=2, color=\"black\")\n",
    "\n",
    "        p_diff_diff = figure(plot_height=100, plot_width=800,x_axis_label=\"ttheta\", x_range=p_sum.x_range, \n",
    "                        y_axis_label=\"intensity\",toolbar_location=None)\n",
    "        p_diff_diff.line(proc.ttheta, proc.numpy_intensity_up-proc.numpy_intensity_down - (proc.numpy_intensity_up_total-proc.numpy_intensity_down_total), \n",
    "                         line_width=1, color=\"black\")\n",
    "\n",
    "        show(column(p_sum, p_sum_diff, p_diff, p_diff_diff)) "
   ]
  },
  {
   "cell_type": "code",
   "execution_count": 9,
   "metadata": {},
   "outputs": [
    {
     "data": {
      "text/plain": [
       "\u001b[1;31mInit signature:\u001b[0m\n",
       "\u001b[0mcryspy\u001b[0m\u001b[1;33m.\u001b[0m\u001b[0mCell\u001b[0m\u001b[1;33m(\u001b[0m\u001b[1;33m\n",
       "\u001b[0m    \u001b[0mlength_a\u001b[0m\u001b[1;33m=\u001b[0m\u001b[1;32mNone\u001b[0m\u001b[1;33m,\u001b[0m\u001b[1;33m\n",
       "\u001b[0m    \u001b[0mlength_b\u001b[0m\u001b[1;33m=\u001b[0m\u001b[1;32mNone\u001b[0m\u001b[1;33m,\u001b[0m\u001b[1;33m\n",
       "\u001b[0m    \u001b[0mlength_c\u001b[0m\u001b[1;33m=\u001b[0m\u001b[1;32mNone\u001b[0m\u001b[1;33m,\u001b[0m\u001b[1;33m\n",
       "\u001b[0m    \u001b[0mangle_alpha\u001b[0m\u001b[1;33m=\u001b[0m\u001b[1;32mNone\u001b[0m\u001b[1;33m,\u001b[0m\u001b[1;33m\n",
       "\u001b[0m    \u001b[0mangle_beta\u001b[0m\u001b[1;33m=\u001b[0m\u001b[1;32mNone\u001b[0m\u001b[1;33m,\u001b[0m\u001b[1;33m\n",
       "\u001b[0m    \u001b[0mangle_gamma\u001b[0m\u001b[1;33m=\u001b[0m\u001b[1;32mNone\u001b[0m\u001b[1;33m,\u001b[0m\u001b[1;33m\n",
       "\u001b[0m    \u001b[0mformula_units_z\u001b[0m\u001b[1;33m=\u001b[0m\u001b[1;32mNone\u001b[0m\u001b[1;33m,\u001b[0m\u001b[1;33m\n",
       "\u001b[0m\u001b[1;33m)\u001b[0m\u001b[1;33m\u001b[0m\u001b[1;33m\u001b[0m\u001b[0m\n",
       "\u001b[1;31mDocstring:\u001b[0m     \n",
       "Data items in the Cell class record details about the\n",
       "crystallographic cell parameters and their measurement.\n",
       "\n",
       "Description in cif file::\n",
       "\n",
       "    _cell_length_a                     5.959(1)\n",
       "    _cell_length_b                     14.956(1)\n",
       "    _cell_length_c                     19.737(3)\n",
       "    _cell_angle_alpha                  90\n",
       "    _cell_angle_beta                   90\n",
       "    _cell_angle_gamma                  90\n",
       "\n",
       ":FIXME: the following attributes are not introduced: \n",
       "        measurement_pressure, measurement_radiation, measurement_reflns_used,\n",
       "        measurement_temperature, measurement_theta_max, measurement_theta_min, \n",
       "        measurement_wavelength, special_details.\n",
       "    \n",
       "\u001b[1;31mFile:\u001b[0m           e:\\github\\cryspy\\cryspy\\corecif\\cl_cell.py\n",
       "\u001b[1;31mType:\u001b[0m           type\n",
       "\u001b[1;31mSubclasses:\u001b[0m     \n"
      ]
     },
     "metadata": {},
     "output_type": "display_data"
    }
   ],
   "source": [
    "cryspy.Cell?"
   ]
  },
  {
   "cell_type": "code",
   "execution_count": null,
   "metadata": {},
   "outputs": [],
   "source": []
  },
  {
   "cell_type": "code",
   "execution_count": null,
   "metadata": {},
   "outputs": [],
   "source": []
  }
 ],
 "metadata": {
  "kernelspec": {
   "display_name": "Python 3",
   "language": "python",
   "name": "python3"
  },
  "language_info": {
   "codemirror_mode": {
    "name": "ipython",
    "version": 3
   },
   "file_extension": ".py",
   "mimetype": "text/x-python",
   "name": "python",
   "nbconvert_exporter": "python",
   "pygments_lexer": "ipython3",
   "version": "3.7.6"
  }
 },
 "nbformat": 4,
 "nbformat_minor": 4
}
