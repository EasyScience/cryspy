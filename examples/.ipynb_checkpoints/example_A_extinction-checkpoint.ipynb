{
 "cells": [
  {
   "cell_type": "markdown",
   "metadata": {},
   "source": [
    "# Extinction correction defined in section `cryspy/A_function base/function_2_extinction`\n",
    "\n",
    "Correction on isotropical extinction is defined in the module.  "
   ]
  },
  {
   "cell_type": "markdown",
   "metadata": {},
   "source": [
    "$$\n",
    "|F|^2_{\\text{corrected}} = y_{\\text{iso}} \\cdot |F|^2\n",
    "$$"
   ]
  },
  {
   "cell_type": "code",
   "execution_count": 1,
   "metadata": {},
   "outputs": [],
   "source": [
    "import os, sys, numpy\n",
    "import os.path\n",
    "f_dir = os.path.join(os.path.dirname(os.getcwd()), \"cryspy\", \"A_functions_base\")\n",
    "sys.path.append(f_dir)\n",
    "import function_2_extinction as extinction"
   ]
  },
  {
   "cell_type": "markdown",
   "metadata": {},
   "source": [
    "The extinction is defined by two parameters: \n",
    "1. radius (to describe primary extinction ???)\n",
    "2. mosaicity (to describe the secondary extinction ???)\n",
    "\n",
    "The two models can be used: `gauss` or `lorentz`."
   ]
  },
  {
   "cell_type": "code",
   "execution_count": 18,
   "metadata": {},
   "outputs": [],
   "source": [
    "radius, mosaicity = 10., 10.\n",
    "model = \"lorentz\" #could be \"gauss\" or \"lorentz\""
   ]
  },
  {
   "cell_type": "markdown",
   "metadata": {},
   "source": [
    "Unit cell parameters, indexes of diffractin reflections and square of structure factor $|F|^2$ have to be defined."
   ]
  },
  {
   "cell_type": "code",
   "execution_count": 19,
   "metadata": {},
   "outputs": [],
   "source": [
    "a, b, c, alpha, beta, gamma = 8.2, 8.2, 8.2, 0.5*numpy.pi, 0.5*numpy.pi, 0.5*numpy.pi\n",
    "wavelength = 0.82\n",
    "h, k, l = [_.flatten() for _ in numpy.meshgrid(range(1, 3), range(2), range(4))]\n",
    "f_sq = 0.*h+100.\n",
    "flag_derivative_f_sq=True"
   ]
  },
  {
   "cell_type": "code",
   "execution_count": 20,
   "metadata": {},
   "outputs": [
    {
     "name": "stdout",
     "output_type": "stream",
     "text": [
      "  h  k  l      y_iso\n",
      "  1  0  0    0.94053\n",
      "  1  0  1    0.94167\n",
      "  1  0  2    0.94366\n",
      "  1  0  3    0.94555\n",
      "  2  0  0    0.94312\n",
      "  2  0  1    0.94366\n",
      "  2  0  2    0.94490\n",
      "  2  0  3    0.94634\n",
      "  1  1  0    0.94167\n",
      "  1  1  1    0.94248\n",
      "  1  1  2    0.94412\n",
      "  1  1  3    0.94583\n",
      "  2  1  0    0.94366\n",
      "  2  1  1    0.94412\n",
      "  2  1  2    0.94524\n",
      "  2  1  3    0.94657\n"
     ]
    }
   ],
   "source": [
    "y_iso, der_y_iso = extinction.calc_extinction(radius, mosaicity, model,\n",
    "                                   a, b, c, alpha, beta, gamma, h, k, l, \n",
    "                                   f_sq, wavelength, flag_derivative_f_sq)\n",
    "print(f\"  h  k  l      y_iso\")\n",
    "for _h, _k, _l, _y_iso in zip(h, k, l, y_iso):\n",
    "    print(f\"{_h:3}{_k:3}{_l:3}  {_y_iso:9.5f}\")"
   ]
  },
  {
   "cell_type": "code",
   "execution_count": null,
   "metadata": {},
   "outputs": [],
   "source": []
  }
 ],
 "metadata": {
  "kernelspec": {
   "display_name": "Python 3",
   "language": "python",
   "name": "python3"
  },
  "language_info": {
   "codemirror_mode": {
    "name": "ipython",
    "version": 3
   },
   "file_extension": ".py",
   "mimetype": "text/x-python",
   "name": "python",
   "nbconvert_exporter": "python",
   "pygments_lexer": "ipython3",
   "version": "3.7.6"
  }
 },
 "nbformat": 4,
 "nbformat_minor": 4
}
