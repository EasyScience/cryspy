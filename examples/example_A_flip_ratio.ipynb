{
 "cells": [
  {
   "cell_type": "markdown",
   "metadata": {},
   "source": [
    "# Flip ratio defined in section `cryspy/A_function base/function_2_flip_ratio`"
   ]
  },
  {
   "cell_type": "markdown",
   "metadata": {},
   "source": [
    "Flip ratio is defined as ration between integrated intensities measured at flipper position `up` and `down`    \n",
    "$$\n",
    "    R = \\frac{I_{\\text{up}}}{I_{\\text{down}}}\n",
    "$$\n"
   ]
  },
  {
   "cell_type": "markdown",
   "metadata": {},
   "source": [
    "Integrated intensities at different flipper positions are composed from the scattering of neutron beam having the spin along applied field: $F_{+}^2 = \\left|F_N+F_{M,\\perp,z}\\right|^2$, having the spin opposit the applied field $F_{-}^2 = \\left|F_N-F_{M,\\perp,z}\\right|^2$ and from the magnetic scatterin on the planar component:  $F_{m}^2=(F_{M,\\perp,x}^2+F_{M,\\perp,y}^2)=(F_{M,\\perp}^2-F_{M,z}^2)$. Taking into account the contribution of the neutrons distributions with spin along and opposite magnetic field with flipper position `up` and `down` and corresponding extinction corrections the expressions is written as:\n",
    "\n",
    "\n",
    "$$    \n",
    "    I_{\\text{up}} = \n",
    "    \\frac{1+p_{\\text{up}}}{2} \\cdot y_{+} F_{+}^2 +\n",
    "    \\frac{1-p_{\\text{up}}}{2} \\cdot y_{-} F_{-}^2 +\n",
    "    y_{m} F_{m}^2\n",
    "$$\n",
    "\n",
    "$$\n",
    "    I_{\\text{down}} = \n",
    "    \\frac{1-p_{\\text{down}}}{2} \\cdot y_{+} F_{+}^2 +\n",
    "    \\frac{1+p_{\\text{down}}}{2} \\cdot y_{-} F_{-}^2 +\n",
    "    y_{m} F_{m}^2\n",
    "$$"
   ]
  },
  {
   "cell_type": "markdown",
   "metadata": {},
   "source": [
    "The component of magnetic structure factor is calculated by unity scattering vector $k_h$ and unity vertical direction $e_{\\text{up}}$:\n",
    "$$\n",
    "    F_{M, \\perp} = k_{h} \\times F_{M} \\times k_{h}\n",
    "$$\n",
    "\n",
    "$$   \n",
    "    F_{M, \\perp, z} = (F_{M, \\perp} \\cdot e_{\\text{up}})\n",
    "$$\n"
   ]
  },
  {
   "cell_type": "markdown",
   "metadata": {},
   "source": [
    "At given incident beam polarization $p$ of at the flipper efficiency $e$ the beam  polarization at flipper positions `up`, `down` is calculated as:\n",
    "\n",
    "$$\n",
    "p_{\\text{up}} = p\n",
    "$$\n",
    "\n",
    "$$\n",
    "p_{\\text{down}} = (2e-1) \\cdot p\n",
    "$$\n"
   ]
  },
  {
   "cell_type": "code",
   "execution_count": 7,
   "metadata": {},
   "outputs": [],
   "source": [
    "import os, sys, numpy\n",
    "import os.path\n",
    "f_dir = os.path.join(os.path.dirname(os.getcwd()), \"cryspy\", \"A_functions_base\")\n",
    "sys.path.append(f_dir)\n",
    "import function_3_flip_ratio as fr"
   ]
  },
  {
   "cell_type": "code",
   "execution_count": 47,
   "metadata": {},
   "outputs": [],
   "source": [
    "sthovl = 0.3*numpy.ones(10, dtype=float)\n",
    "f_nucl = numpy.ones(10, dtype=float)+1j*0.1*numpy.ones(10, dtype=float)\n",
    "f_mag_perp_x = 0.1*numpy.ones(10, dtype=float)\n",
    "f_mag_perp_y = 0.1*numpy.ones(10, dtype=float)\n",
    "f_mag_perp_z = 0.1*numpy.ones(10, dtype=float)+1j*0.05*numpy.ones(10, dtype=float)\n",
    "f_mag_perp = (f_mag_perp_x, f_mag_perp_y, f_mag_perp_z)\n",
    "e_up = (0., 0., 1.)\n",
    "beam_polarization, flipper_efficiency = 1.0, 1.0 \n",
    "radius, mosaicity, model_extinction  = 10., 10., \"gauss\"\n",
    "volume_unit_cell = 100.\n",
    "wavelength = 1.5"
   ]
  },
  {
   "cell_type": "code",
   "execution_count": 48,
   "metadata": {},
   "outputs": [],
   "source": [
    "flag_f_nucl=False; flag_f_mag_perp=False; flag_e_up=False\n",
    "flag_beam_polarization=False; flag_flipper_efficiency=False\n",
    "flag_radius=False; flag_mosaicity=False\n",
    "flag_volume_unit_cell=False; flag_sthovl=False\n",
    "flag_volume_wavelength=False"
   ]
  },
  {
   "cell_type": "code",
   "execution_count": 49,
   "metadata": {},
   "outputs": [],
   "source": [
    "fr_model, dder = fr.calc_flip_ratio(f_nucl, f_mag_perp, e_up, beam_polarization, flipper_efficiency, \n",
    "                radius, mosaicity, model_extinction,\n",
    "                volume_unit_cell, sthovl,\n",
    "                wavelength,\n",
    "                flag_f_nucl=flag_f_nucl, flag_f_mag_perp=flag_f_mag_perp, flag_e_up=flag_e_up, \n",
    "                flag_beam_polarization=flag_beam_polarization, flag_flipper_efficiency=flag_flipper_efficiency,\n",
    "                flag_radius=flag_radius, flag_mosaicity=flag_mosaicity,\n",
    "                flag_volume_unit_cell=flag_volume_unit_cell, flag_sthovl=flag_sthovl,\n",
    "                flag_volume_wavelength=flag_volume_wavelength)"
   ]
  },
  {
   "cell_type": "code",
   "execution_count": 50,
   "metadata": {},
   "outputs": [
    {
     "name": "stdout",
     "output_type": "stream",
     "text": [
      "        f_nucl       f_m_perp       f_m_perp       f_m_perp      fr\n",
      "                            x              y              z\n",
      " 1.0000 0.1000  0.1000 0.0000  0.1000 0.0000  0.1000 0.0500  1.4658\n",
      " 1.0000 0.1000  0.1000 0.0000  0.1000 0.0000  0.1000 0.0500  1.4658\n",
      " 1.0000 0.1000  0.1000 0.0000  0.1000 0.0000  0.1000 0.0500  1.4658\n",
      " 1.0000 0.1000  0.1000 0.0000  0.1000 0.0000  0.1000 0.0500  1.4658\n",
      " 1.0000 0.1000  0.1000 0.0000  0.1000 0.0000  0.1000 0.0500  1.4658\n",
      " 1.0000 0.1000  0.1000 0.0000  0.1000 0.0000  0.1000 0.0500  1.4658\n",
      " 1.0000 0.1000  0.1000 0.0000  0.1000 0.0000  0.1000 0.0500  1.4658\n",
      " 1.0000 0.1000  0.1000 0.0000  0.1000 0.0000  0.1000 0.0500  1.4658\n",
      " 1.0000 0.1000  0.1000 0.0000  0.1000 0.0000  0.1000 0.0500  1.4658\n",
      " 1.0000 0.1000  0.1000 0.0000  0.1000 0.0000  0.1000 0.0500  1.4658\n"
     ]
    }
   ],
   "source": [
    "print(\"        f_nucl       f_m_perp       f_m_perp       f_m_perp      fr\")\n",
    "print(\"                            x              y              z\")\n",
    "\n",
    "for f_n, f_m_p_x, f_m_p_y, f_m_p_z, f_r in zip(f_nucl, f_mag_perp[0], f_mag_perp[1], f_mag_perp[2], fr_model):\n",
    "    print(f\"{f_n.real:7.4f}{f_n.imag:7.4f} {f_m_p_x.real:7.4f}{f_m_p_x.imag:7.4f} {f_m_p_y.real:7.4f}{f_m_p_y.imag:7.4f} {f_m_p_z.real:7.4f}{f_m_p_z.imag:7.4f} {f_r:7.4f}\")"
   ]
  },
  {
   "cell_type": "code",
   "execution_count": 33,
   "metadata": {},
   "outputs": [
    {
     "name": "stdout",
     "output_type": "stream",
     "text": [
      "[1.48192771 1.48192771 1.48192771 1.48192771 1.48192771 1.48192771\n",
      " 1.48192771 1.48192771 1.48192771 1.48192771]\n"
     ]
    }
   ],
   "source": [
    "f_n_sq = (f_nucl*f_nucl.conjugate()).real\n",
    "f_m_vert = f_mag_perp[0]*e_up[0]+f_mag_perp[1]*e_up[1]+f_mag_perp[2]*e_up[2]\n",
    "two_f_n_f_m_vert = (f_nucl*f_m_vert.conjugate()+f_nucl.conjugate()*f_m_vert).real\n",
    "f_m_perp_sq = (f_mag_perp[0]*f_mag_perp[0].conjugate()+\n",
    "          f_mag_perp[1]*f_mag_perp[1].conjugate()+\n",
    "          f_mag_perp[2]*f_mag_perp[2].conjugate()).real\n",
    "i_u = f_n_sq+ f_m_perp_sq+two_f_n_f_m_vert*beam_polarization\n",
    "i_d = f_n_sq+ f_m_perp_sq-two_f_n_f_m_vert*beam_polarization*flipper_efficiency\n",
    "print(i_u/i_d)"
   ]
  },
  {
   "cell_type": "markdown",
   "metadata": {},
   "source": [
    "# Another expressions"
   ]
  },
  {
   "cell_type": "markdown",
   "metadata": {},
   "source": [
    "Integrated intensities are functions of nuclear $F_N$ and magnetic structure factor $F_M$ as well as beam polarization and extinction parameters:\n",
    "\n",
    "$$    \n",
    "    I_{\\text{up}} = p^{(++)} (F^{2}_{N}+F^{2}_{M, \\perp, z}) + p^{(-+)} 2 F_{N} F_{M, \\perp, z} + y^{+-} (F^{2}_{M,\\perp}-F^{2}_{M,\\perp, z})\n",
    "$$\n",
    "\n",
    "$$\n",
    "    I_{\\text{down}} = p^{(+-)} (F^{2}_{N}+F^{2}_{M, \\perp, z}) + p^{(--)} 2 F_{N} F_{M, \\perp, z} + y^{+-} (F^{2}_{M,\\perp}-F^{2}_{M,\\perp, z})\n",
    "$$\n"
   ]
  },
  {
   "cell_type": "markdown",
   "metadata": {},
   "source": [
    "The factors $p^{\\pm\\pm}$ is function of extinction coefficients $y^{\\pm}$ and polarization beam $p_{\\text{up}}$, $p_{\\text{down}}$:\n",
    "\n",
    "$$\n",
    "    p^{(++)} = \\frac{1}{2} \\left((1+p_{\\text{up}})y^{+}+(1-p_{\\text{up}})y^{-}\\right)\n",
    "$$\n",
    "\n",
    "$$\n",
    "    p^{(+-)} = \\frac{1}{2} \\left((1-p_{\\text{down}})y^{+}+(1+p_{\\text{down}})y^{-}\\right)\n",
    "$$\n",
    "\n",
    "$$\n",
    "    p^{(-+)} = \\frac{1}{2} \\left((1+p_{\\text{up}})y^{+}-(1-p_{\\text{up}})y^{-}\\right)\n",
    "$$\n",
    "\n",
    "$$\n",
    "    p^{(--)} = \\frac{1}{2} \\left((1-p_{\\text{down}})y^{+}-(1+p_{\\text{down}})y^{-}\\right)\n",
    "$$\n",
    "\n"
   ]
  },
  {
   "cell_type": "markdown",
   "metadata": {},
   "source": [
    "The extinction coefficients are defined\n",
    "\n",
    "$$\n",
    "y^{+}: F_N^2 + F_{M,\\perp}^2 + 2 F_N F_{M,\\perp, z}\n",
    "$$\n",
    "\n",
    "$$\n",
    "y^{-}: F_N^2 + F_{M,\\perp}^2 - 2 F_N F_{M,\\perp, z}\n",
    "$$\n",
    "\n",
    "$$\n",
    "y^{+-}: F_{M,\\perp}^2 - F_{M,\\perp, z}^2\n",
    "$$"
   ]
  }
 ],
 "metadata": {
  "kernelspec": {
   "display_name": "Python 3",
   "language": "python",
   "name": "python3"
  },
  "language_info": {
   "codemirror_mode": {
    "name": "ipython",
    "version": 3
   },
   "file_extension": ".py",
   "mimetype": "text/x-python",
   "name": "python",
   "nbconvert_exporter": "python",
   "pygments_lexer": "ipython3",
   "version": "3.7.6"
  }
 },
 "nbformat": 4,
 "nbformat_minor": 4
}
